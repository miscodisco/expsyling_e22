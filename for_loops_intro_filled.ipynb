{
 "cells": [
  {
   "cell_type": "markdown",
   "id": "953bcce3",
   "metadata": {},
   "source": [
    "this is for the instructor to ensure they have code that works when livecoding for loops :-)"
   ]
  },
  {
   "cell_type": "code",
   "execution_count": 2,
   "id": "05416b42",
   "metadata": {},
   "outputs": [
    {
     "name": "stdout",
     "output_type": "stream",
     "text": [
      "Requirement already satisfied: nltk in /Library/Frameworks/Python.framework/Versions/3.9/lib/python3.9/site-packages (3.7)\n",
      "Requirement already satisfied: regex>=2021.8.3 in /Library/Frameworks/Python.framework/Versions/3.9/lib/python3.9/site-packages (from nltk) (2021.11.10)\n",
      "Requirement already satisfied: click in /Library/Frameworks/Python.framework/Versions/3.9/lib/python3.9/site-packages (from nltk) (8.0.3)\n",
      "Requirement already satisfied: tqdm in /Library/Frameworks/Python.framework/Versions/3.9/lib/python3.9/site-packages (from nltk) (4.62.3)\n",
      "Requirement already satisfied: joblib in /Library/Frameworks/Python.framework/Versions/3.9/lib/python3.9/site-packages (from nltk) (1.1.0)\n",
      "Note: you may need to restart the kernel to use updated packages.\n"
     ]
    },
    {
     "name": "stderr",
     "output_type": "stream",
     "text": [
      "[nltk_data] Downloading package gutenberg to\n",
      "[nltk_data]     /Users/miajacobsen/nltk_data...\n",
      "[nltk_data]   Package gutenberg is already up-to-date!\n"
     ]
    },
    {
     "data": {
      "text/plain": [
       "True"
      ]
     },
     "execution_count": 2,
     "metadata": {},
     "output_type": "execute_result"
    }
   ],
   "source": [
    "# well first we want to load the packages and data we need\n",
    "# stolen frmo Ethan hehe\n",
    "\n",
    "%pip install nltk\n",
    "\n",
    "import nltk\n",
    "import ssl\n",
    "\n",
    "try:\n",
    "    _create_unverified_https_context = ssl._create_unverified_context\n",
    "except AttributeError:\n",
    "    pass\n",
    "else:\n",
    "    ssl._create_default_https_context = _create_unverified_https_context\n",
    "    \n",
    "# getting the data\n",
    "nltk.download('gutenberg')"
   ]
  },
  {
   "cell_type": "code",
   "execution_count": 6,
   "id": "4114916b",
   "metadata": {},
   "outputs": [
    {
     "name": "stdout",
     "output_type": "stream",
     "text": [
      "[Emma by J\n",
      "['[emma', 'by', 'jane', 'austen', '1816]', '', 'volume', 'i', '', 'chapter']\n"
     ]
    }
   ],
   "source": [
    "# starting with a single book and working up from there \n",
    "# remember to state how print statements will be their best friend forever \n",
    "\n",
    "books = nltk.corpus.gutenberg.fileids()\n",
    "book1 = books[0]\n",
    "\n",
    "# so what we see is that before we have retrieved the actual book book1 is just the title \n",
    "title1 = book1\n",
    "\n",
    "# alright, we have the title, now we want the length - how do we do that?\n",
    "# we steal some code :-) get used to this, this is all coding is, stealing and modifying\n",
    "\n",
    "# now Ethan did provide us with this code, so we might think it will work like this - but why won't this work?\n",
    "book1_length = len(book1)\n",
    "\n",
    "# what do we want to do instead?\n",
    "\n",
    "\n",
    "book1 = nltk.corpus.gutenberg.raw(title1) \n",
    "\n",
    "\n",
    "print(book1[:10]) # slicing because the output is otherwise too big\n",
    "\n",
    "# but why does the output look like this - because we haven't tokenized it yet, aka split it into works\n",
    "# so right now the book is one long string, and the slicing then counts the characters including spaces \n",
    "# but that is not what we wanted, we wanted the length in works, so we need to split it into words\n",
    "\n",
    "\n",
    "# How should we modify this code to work for us? \n",
    "book1 = book1.lower()\n",
    "\n",
    "# remove the \"\\n\" characters, which indicate line breaks in the text (newlines)\n",
    "book1 = book1.replace('\\n', ' ')\n",
    "\n",
    "# split up the text into a long list of individual words\n",
    "book1 = book1.split(' ')\n",
    "\n",
    "print(book1[:10])"
   ]
  },
  {
   "cell_type": "code",
   "execution_count": 7,
   "id": "15b7cd13",
   "metadata": {},
   "outputs": [
    {
     "name": "stdout",
     "output_type": "stream",
     "text": [
      "austen-emma.txt\n",
      "austen-persuasion.txt\n",
      "austen-sense.txt\n",
      "bible-kjv.txt\n",
      "blake-poems.txt\n",
      "bryant-stories.txt\n",
      "burgess-busterbrown.txt\n",
      "carroll-alice.txt\n",
      "chesterton-ball.txt\n",
      "chesterton-brown.txt\n",
      "chesterton-thursday.txt\n",
      "edgeworth-parents.txt\n",
      "melville-moby_dick.txt\n",
      "milton-paradise.txt\n",
      "shakespeare-caesar.txt\n",
      "shakespeare-hamlet.txt\n",
      "shakespeare-macbeth.txt\n",
      "whitman-leaves.txt\n"
     ]
    }
   ],
   "source": [
    "# making it a for loop\n",
    "# start by creating a loop\n",
    "\n",
    "# i want to know what i is when I do my loop\n",
    "for i in books: \n",
    "    print(i)\n",
    "\n",
    "# so i is equal to books[0] / books[i]"
   ]
  },
  {
   "cell_type": "code",
   "execution_count": 12,
   "id": "e06f5ebc",
   "metadata": {},
   "outputs": [
    {
     "name": "stdout",
     "output_type": "stream",
     "text": [
      "austen-emma.txt 164457\n",
      "austen-persuasion.txt 86270\n",
      "austen-sense.txt 123514\n",
      "bible-kjv.txt 848001\n",
      "blake-poems.txt 8886\n",
      "bryant-stories.txt 49404\n",
      "burgess-busterbrown.txt 16305\n",
      "carroll-alice.txt 28387\n",
      "chesterton-ball.txt 86481\n",
      "chesterton-brown.txt 80382\n",
      "chesterton-thursday.txt 59297\n",
      "edgeworth-parents.txt 177685\n",
      "melville-moby_dick.txt 221023\n",
      "milton-paradise.txt 91832\n",
      "shakespeare-caesar.txt 23339\n",
      "shakespeare-hamlet.txt 33477\n",
      "shakespeare-macbeth.txt 20164\n",
      "whitman-leaves.txt 138730\n"
     ]
    }
   ],
   "source": [
    "# then copy all your code into the loop\n",
    "for i in books: \n",
    "    title1 = i # remember the first thing we did was books[0] = title1, that looks like this now\n",
    "    # otherwise we just do the same\n",
    "    book1 = nltk.corpus.gutenberg.raw(title1) \n",
    "    book1 = book1.lower()\n",
    "    book1 = book1.replace('\\n', ' ')\n",
    "    book1 = book1.split(' ')\n",
    "    book1_length = len(book1)\n",
    "    print(title1, book1_length)\n",
    "\n",
    "# okay, this works! but it is not very pretty or readable is it? and it doesn't yet accomplish what we want\n",
    "# so let's fix it up a bit \n",
    "\n",
    "# more intuitive for some like this\n",
    "#  for book in books:\n",
    "     # title1 = book -> delete this line and explain why we can do that\n",
    "# now remember that title1 and book contain the same thing, so as long as we don't overwrite book, we're good\n",
    "\n",
    "# but it could be nice to have a book variable though that contains the actual book\n",
    "# because does book actually contain a book yet? no, it containst only the title\n",
    "# so maybe we want to do this instead"
   ]
  },
  {
   "cell_type": "code",
   "execution_count": null,
   "id": "dbc5c101",
   "metadata": {},
   "outputs": [],
   "source": [
    "for title in books: \n",
    "    book = nltk.copus.gutenberg.raw(title) #point out why this works in relation to above loop\n",
    "    book = book.lower()\n",
    "    book = book.replace('\\n', ' ')\n",
    "    book = book.split(' ')\n",
    "    book_length = len(book)\n",
    "    print(title, book_length)"
   ]
  },
  {
   "cell_type": "code",
   "execution_count": 21,
   "id": "44a8fffa",
   "metadata": {},
   "outputs": [
    {
     "data": {
      "text/plain": [
       "[('austen-emma.txt', 164457),\n",
       " ('austen-persuasion.txt', 86270),\n",
       " ('austen-sense.txt', 123514),\n",
       " ('bible-kjv.txt', 848001),\n",
       " ('blake-poems.txt', 8886),\n",
       " ('bryant-stories.txt', 49404),\n",
       " ('burgess-busterbrown.txt', 16305),\n",
       " ('carroll-alice.txt', 28387),\n",
       " ('chesterton-ball.txt', 86481),\n",
       " ('chesterton-brown.txt', 80382),\n",
       " ('chesterton-thursday.txt', 59297),\n",
       " ('edgeworth-parents.txt', 177685),\n",
       " ('melville-moby_dick.txt', 221023),\n",
       " ('milton-paradise.txt', 91832),\n",
       " ('shakespeare-caesar.txt', 23339),\n",
       " ('shakespeare-hamlet.txt', 33477),\n",
       " ('shakespeare-macbeth.txt', 20164),\n",
       " ('whitman-leaves.txt', 138730)]"
      ]
     },
     "execution_count": 21,
     "metadata": {},
     "output_type": "execute_result"
    }
   ],
   "source": [
    "# but we wanted a list of lists right? so:\n",
    "titles = []\n",
    "book_lengths = []\n",
    "\n",
    "for title in books:\n",
    "    # we copy basically everything, but change the 'output'\n",
    "    book = nltk.corpus.gutenberg.raw(title) \n",
    "    book = book.lower()\n",
    "    book = book.replace('\\n', ' ')\n",
    "    book = book.split(' ')\n",
    "    \n",
    "    titles.append(title) # comment on why we do it like this\n",
    "    book_lengths.append(len(book))\n",
    "    \n",
    "final_thing = list(zip(titles, book_lengths))\n",
    "final_thing"
   ]
  },
  {
   "cell_type": "code",
   "execution_count": 20,
   "id": "e40d1215",
   "metadata": {},
   "outputs": [
    {
     "data": {
      "text/plain": [
       "[('austen-emma', 164457),\n",
       " ('austen-persuasion', 86270),\n",
       " ('austen-sense', 123514),\n",
       " ('bible-kjv', 848001),\n",
       " ('blake-poems', 8886),\n",
       " ('bryant-stories', 49404),\n",
       " ('burgess-busterbrown', 16305),\n",
       " ('carroll-alice', 28387),\n",
       " ('chesterton-ball', 86481),\n",
       " ('chesterton-brown', 80382),\n",
       " ('chesterton-thursday', 59297),\n",
       " ('edgeworth-parents', 177685),\n",
       " ('melville-moby_dick', 221023),\n",
       " ('milton-paradise', 91832),\n",
       " ('shakespeare-caesar', 23339),\n",
       " ('shakespeare-hamlet', 33477),\n",
       " ('shakespeare-macbeth', 20164),\n",
       " ('whitman-leaves', 138730)]"
      ]
     },
     "execution_count": 20,
     "metadata": {},
     "output_type": "execute_result"
    }
   ],
   "source": [
    "# for advanced students\n",
    "output = []\n",
    "\n",
    "for title in books:\n",
    "    book = nltk.corpus.gutenberg.raw(title)\n",
    "    book = book.lower().replace('\\n', ' ').split(' ')\n",
    "    output.append((title[:-4], len(book))) # talk about slicing \n",
    "\n",
    "output"
   ]
  },
  {
   "cell_type": "code",
   "execution_count": null,
   "id": "419d4cb4",
   "metadata": {},
   "outputs": [],
   "source": []
  }
 ],
 "metadata": {
  "kernelspec": {
   "display_name": "Python 3 (ipykernel)",
   "language": "python",
   "name": "python3"
  },
  "language_info": {
   "codemirror_mode": {
    "name": "ipython",
    "version": 3
   },
   "file_extension": ".py",
   "mimetype": "text/x-python",
   "name": "python",
   "nbconvert_exporter": "python",
   "pygments_lexer": "ipython3",
   "version": "3.9.1"
  }
 },
 "nbformat": 4,
 "nbformat_minor": 5
}
