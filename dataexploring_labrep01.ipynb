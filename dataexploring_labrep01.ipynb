{
 "cells": [
  {
   "cell_type": "code",
   "execution_count": 1,
   "id": "9f1d8294",
   "metadata": {},
   "outputs": [],
   "source": [
    "#%pip install pingouin\n",
    "import pandas as pd\n",
    "import numpy as np\n",
    "import seaborn as sns\n",
    "import matplotlib.pyplot as plt\n",
    "import pingouin as pg"
   ]
  },
  {
   "cell_type": "code",
   "execution_count": 2,
   "id": "9df00f7c",
   "metadata": {},
   "outputs": [
    {
     "data": {
      "text/plain": [
       "Index(['acc', 'accuracy', 'avg_rt', 'block', 'browser_codename',\n",
       "       'browser_name', 'browser_version', 'category', 'correct',\n",
       "       'correct_response', 'count_reset_feedback', 'count_trial_sequence',\n",
       "       'count_word', 'date_startdate', 'date_startdateUTC', 'date_starttime',\n",
       "       'experiment_debug', 'experiment_parameters', 'experiment_pilot',\n",
       "       'experiment_taskname', 'experiment_taskversion', 'jatosStudyResultId',\n",
       "       'jatosVersion', 'number_letters', 'queryParams_batchId',\n",
       "       'queryParams_generalMultiple', 'response_keyboard_response',\n",
       "       'response_time', 'screen_availableHeight', 'screen_availableWidth',\n",
       "       'screen_colorDepth', 'screen_height', 'screen_pixelDepth',\n",
       "       'screen_screenX', 'screen_screenY', 'screen_width', 'subject_nr',\n",
       "       'subject_parity', 'system_os', 'target'],\n",
       "      dtype='object')"
      ]
     },
     "execution_count": 2,
     "metadata": {},
     "output_type": "execute_result"
    }
   ],
   "source": [
    "rawdata = pd.read_csv('Lab_report_01.csv')\n",
    "rawdata.head()\n",
    "rawdata.columns"
   ]
  },
  {
   "cell_type": "code",
   "execution_count": 3,
   "id": "ce48c161",
   "metadata": {},
   "outputs": [],
   "source": [
    "cols = ['jatosStudyResultId','block', 'category','target', 'response_time','correct','acc',  'correct_response',\n",
    "        'response_keyboard_response', 'count_word','number_letters','count_trial_sequence', \n",
    "        'date_startdate', 'date_starttime']"
   ]
  },
  {
   "cell_type": "code",
   "execution_count": 4,
   "id": "3a94de7c",
   "metadata": {},
   "outputs": [
    {
     "data": {
      "text/html": [
       "<div>\n",
       "<style scoped>\n",
       "    .dataframe tbody tr th:only-of-type {\n",
       "        vertical-align: middle;\n",
       "    }\n",
       "\n",
       "    .dataframe tbody tr th {\n",
       "        vertical-align: top;\n",
       "    }\n",
       "\n",
       "    .dataframe thead th {\n",
       "        text-align: right;\n",
       "    }\n",
       "</style>\n",
       "<table border=\"1\" class=\"dataframe\">\n",
       "  <thead>\n",
       "    <tr style=\"text-align: right;\">\n",
       "      <th></th>\n",
       "      <th>jatosStudyResultId</th>\n",
       "      <th>block</th>\n",
       "      <th>category</th>\n",
       "      <th>target</th>\n",
       "      <th>response_time</th>\n",
       "      <th>correct</th>\n",
       "      <th>acc</th>\n",
       "      <th>correct_response</th>\n",
       "      <th>response_keyboard_response</th>\n",
       "      <th>count_word</th>\n",
       "      <th>number_letters</th>\n",
       "      <th>count_trial_sequence</th>\n",
       "      <th>date_startdate</th>\n",
       "      <th>date_starttime</th>\n",
       "    </tr>\n",
       "  </thead>\n",
       "  <tbody>\n",
       "    <tr>\n",
       "      <th>6</th>\n",
       "      <td>717</td>\n",
       "      <td>trial</td>\n",
       "      <td>NW</td>\n",
       "      <td>rhourth</td>\n",
       "      <td>846</td>\n",
       "      <td>1</td>\n",
       "      <td>100</td>\n",
       "      <td>m</td>\n",
       "      <td>m</td>\n",
       "      <td>0</td>\n",
       "      <td>7</td>\n",
       "      <td>0</td>\n",
       "      <td>29-08-22</td>\n",
       "      <td>10:31:56</td>\n",
       "    </tr>\n",
       "    <tr>\n",
       "      <th>7</th>\n",
       "      <td>717</td>\n",
       "      <td>trial</td>\n",
       "      <td>PH</td>\n",
       "      <td>whased</td>\n",
       "      <td>877</td>\n",
       "      <td>1</td>\n",
       "      <td>100</td>\n",
       "      <td>m</td>\n",
       "      <td>m</td>\n",
       "      <td>1</td>\n",
       "      <td>6</td>\n",
       "      <td>1</td>\n",
       "      <td>29-08-22</td>\n",
       "      <td>10:31:56</td>\n",
       "    </tr>\n",
       "    <tr>\n",
       "      <th>8</th>\n",
       "      <td>717</td>\n",
       "      <td>trial</td>\n",
       "      <td>NW</td>\n",
       "      <td>dod</td>\n",
       "      <td>797</td>\n",
       "      <td>1</td>\n",
       "      <td>100</td>\n",
       "      <td>m</td>\n",
       "      <td>m</td>\n",
       "      <td>2</td>\n",
       "      <td>3</td>\n",
       "      <td>2</td>\n",
       "      <td>29-08-22</td>\n",
       "      <td>10:31:56</td>\n",
       "    </tr>\n",
       "    <tr>\n",
       "      <th>9</th>\n",
       "      <td>717</td>\n",
       "      <td>trial</td>\n",
       "      <td>PH</td>\n",
       "      <td>fluick</td>\n",
       "      <td>790</td>\n",
       "      <td>1</td>\n",
       "      <td>100</td>\n",
       "      <td>m</td>\n",
       "      <td>m</td>\n",
       "      <td>3</td>\n",
       "      <td>6</td>\n",
       "      <td>3</td>\n",
       "      <td>29-08-22</td>\n",
       "      <td>10:31:56</td>\n",
       "    </tr>\n",
       "    <tr>\n",
       "      <th>10</th>\n",
       "      <td>717</td>\n",
       "      <td>trial</td>\n",
       "      <td>Word</td>\n",
       "      <td>leg</td>\n",
       "      <td>552</td>\n",
       "      <td>1</td>\n",
       "      <td>100</td>\n",
       "      <td>z</td>\n",
       "      <td>z</td>\n",
       "      <td>4</td>\n",
       "      <td>3</td>\n",
       "      <td>4</td>\n",
       "      <td>29-08-22</td>\n",
       "      <td>10:31:56</td>\n",
       "    </tr>\n",
       "  </tbody>\n",
       "</table>\n",
       "</div>"
      ],
      "text/plain": [
       "    jatosStudyResultId  block category   target  response_time  correct  acc  \\\n",
       "6                  717  trial       NW  rhourth            846        1  100   \n",
       "7                  717  trial       PH   whased            877        1  100   \n",
       "8                  717  trial       NW      dod            797        1  100   \n",
       "9                  717  trial       PH   fluick            790        1  100   \n",
       "10                 717  trial     Word      leg            552        1  100   \n",
       "\n",
       "   correct_response response_keyboard_response count_word  number_letters  \\\n",
       "6                 m                          m          0               7   \n",
       "7                 m                          m          1               6   \n",
       "8                 m                          m          2               3   \n",
       "9                 m                          m          3               6   \n",
       "10                z                          z          4               3   \n",
       "\n",
       "   count_trial_sequence date_startdate date_starttime  \n",
       "6                     0       29-08-22       10:31:56  \n",
       "7                     1       29-08-22       10:31:56  \n",
       "8                     2       29-08-22       10:31:56  \n",
       "9                     3       29-08-22       10:31:56  \n",
       "10                    4       29-08-22       10:31:56  "
      ]
     },
     "execution_count": 4,
     "metadata": {},
     "output_type": "execute_result"
    }
   ],
   "source": [
    "df = rawdata[cols]\n",
    "df = df.loc[df['block'] == 'trial']\n",
    "df.head()"
   ]
  },
  {
   "cell_type": "code",
   "execution_count": 5,
   "id": "fbdca87f",
   "metadata": {},
   "outputs": [
    {
     "data": {
      "text/plain": [
       "array([7, 6, 3, 4, 5])"
      ]
     },
     "execution_count": 5,
     "metadata": {},
     "output_type": "execute_result"
    }
   ],
   "source": [
    "df['number_letters'].unique()"
   ]
  },
  {
   "cell_type": "code",
   "execution_count": 6,
   "id": "64d993e4",
   "metadata": {},
   "outputs": [
    {
     "data": {
      "text/html": [
       "<div>\n",
       "<style scoped>\n",
       "    .dataframe tbody tr th:only-of-type {\n",
       "        vertical-align: middle;\n",
       "    }\n",
       "\n",
       "    .dataframe tbody tr th {\n",
       "        vertical-align: top;\n",
       "    }\n",
       "\n",
       "    .dataframe thead th {\n",
       "        text-align: right;\n",
       "    }\n",
       "</style>\n",
       "<table border=\"1\" class=\"dataframe\">\n",
       "  <thead>\n",
       "    <tr style=\"text-align: right;\">\n",
       "      <th></th>\n",
       "      <th>category</th>\n",
       "      <th>number_letters</th>\n",
       "      <th>jatosStudyResultId</th>\n",
       "      <th>response_time</th>\n",
       "      <th>correct</th>\n",
       "      <th>acc</th>\n",
       "    </tr>\n",
       "  </thead>\n",
       "  <tbody>\n",
       "    <tr>\n",
       "      <th>0</th>\n",
       "      <td>NW</td>\n",
       "      <td>3</td>\n",
       "      <td>704.117647</td>\n",
       "      <td>892.352941</td>\n",
       "      <td>0.941176</td>\n",
       "      <td>89.843137</td>\n",
       "    </tr>\n",
       "    <tr>\n",
       "      <th>1</th>\n",
       "      <td>NW</td>\n",
       "      <td>4</td>\n",
       "      <td>704.117647</td>\n",
       "      <td>820.729412</td>\n",
       "      <td>0.923529</td>\n",
       "      <td>89.358824</td>\n",
       "    </tr>\n",
       "    <tr>\n",
       "      <th>2</th>\n",
       "      <td>NW</td>\n",
       "      <td>5</td>\n",
       "      <td>704.117647</td>\n",
       "      <td>851.018100</td>\n",
       "      <td>0.936652</td>\n",
       "      <td>90.122172</td>\n",
       "    </tr>\n",
       "    <tr>\n",
       "      <th>3</th>\n",
       "      <td>NW</td>\n",
       "      <td>6</td>\n",
       "      <td>704.117647</td>\n",
       "      <td>848.726644</td>\n",
       "      <td>0.913495</td>\n",
       "      <td>90.076125</td>\n",
       "    </tr>\n",
       "    <tr>\n",
       "      <th>4</th>\n",
       "      <td>NW</td>\n",
       "      <td>7</td>\n",
       "      <td>704.117647</td>\n",
       "      <td>929.892157</td>\n",
       "      <td>0.941176</td>\n",
       "      <td>90.343137</td>\n",
       "    </tr>\n",
       "  </tbody>\n",
       "</table>\n",
       "</div>"
      ],
      "text/plain": [
       "  category  number_letters  jatosStudyResultId  response_time   correct  \\\n",
       "0       NW               3          704.117647     892.352941  0.941176   \n",
       "1       NW               4          704.117647     820.729412  0.923529   \n",
       "2       NW               5          704.117647     851.018100  0.936652   \n",
       "3       NW               6          704.117647     848.726644  0.913495   \n",
       "4       NW               7          704.117647     929.892157  0.941176   \n",
       "\n",
       "         acc  \n",
       "0  89.843137  \n",
       "1  89.358824  \n",
       "2  90.122172  \n",
       "3  90.076125  \n",
       "4  90.343137  "
      ]
     },
     "execution_count": 6,
     "metadata": {},
     "output_type": "execute_result"
    }
   ],
   "source": [
    "df_means = df.groupby(['category', 'number_letters']).mean()\n",
    "df_means.reset_index(inplace = True)\n",
    "df_means.head(5)"
   ]
  },
  {
   "cell_type": "code",
   "execution_count": 7,
   "id": "09d17f29",
   "metadata": {},
   "outputs": [
    {
     "data": {
      "text/plain": [
       "<AxesSubplot:xlabel='response_time', ylabel='category'>"
      ]
     },
     "execution_count": 7,
     "metadata": {},
     "output_type": "execute_result"
    },
    {
     "data": {
      "image/png": "[encoded data removed]",
      "text/plain": [
       "<Figure size 432x288 with 1 Axes>"
      ]
     },
     "metadata": {
      "needs_background": "light"
     },
     "output_type": "display_data"
    }
   ],
   "source": [
    "#sns.boxplot(data=df,  x=\"response_time\",y=\"category\")\n",
    "# looots of outliers \n",
    "# let's deal with that in a bad way haha\n",
    "df_noouts= df.loc[df['response_time'] < 2000]\n",
    "sns.boxplot(data=df_noouts,  x=\"response_time\",y=\"category\")\n",
    "\n"
   ]
  },
  {
   "cell_type": "code",
   "execution_count": 8,
   "id": "a659aeb5",
   "metadata": {},
   "outputs": [
    {
     "data": {
      "text/plain": [
       "<seaborn.axisgrid.FacetGrid at 0x7fa653fed910>"
      ]
     },
     "execution_count": 8,
     "metadata": {},
     "output_type": "execute_result"
    },
    {
     "data": {
      "image/png": "[encoded data removed]",
      "text/plain": [
       "<Figure size 360x360 with 1 Axes>"
      ]
     },
     "metadata": {
      "needs_background": "light"
     },
     "output_type": "display_data"
    }
   ],
   "source": [
    "sns.catplot(\n",
    "    data=df, kind=\"bar\",\n",
    "    x=\"category\", y=\"response_time\",\n",
    "    palette = \"Accent\")"
   ]
  },
  {
   "cell_type": "code",
   "execution_count": 9,
   "id": "74f4f1f7",
   "metadata": {},
   "outputs": [
    {
     "data": {
      "text/plain": [
       "<AxesSubplot:xlabel='number_letters', ylabel='response_time'>"
      ]
     },
     "execution_count": 9,
     "metadata": {},
     "output_type": "execute_result"
    },
    {
     "data": {
      "image/png": "[encoded data removed]",
      "text/plain": [
       "<Figure size 360x360 with 1 Axes>"
      ]
     },
     "metadata": {
      "needs_background": "light"
     },
     "output_type": "display_data"
    }
   ],
   "source": [
    "# reponse time over word length colored by category\n",
    "#sns.lmplot(\n",
    " #   data=df,\n",
    "  #  x=\"number_letters\", y=\"response_time\", hue=\"category\",\n",
    "   # height=5\n",
    "#)\n",
    "# uglyyy, let's fix\n",
    "sns.catplot(\n",
    "    data=df, x=\"number_letters\", y=\"response_time\", hue=\"number_letters\",\n",
    "    palette = 'gist_stern'\n",
    ")\n",
    "sns.regplot(\n",
    "    data=df, x=\"number_letters\", y=\"response_time\", scatter=False, truncate=False, order=2, color=\".2\",\n",
    "\n",
    ")"
   ]
  },
  {
   "cell_type": "code",
   "execution_count": 10,
   "id": "04181270",
   "metadata": {},
   "outputs": [
    {
     "data": {
      "text/html": [
       "<div>\n",
       "<style scoped>\n",
       "    .dataframe tbody tr th:only-of-type {\n",
       "        vertical-align: middle;\n",
       "    }\n",
       "\n",
       "    .dataframe tbody tr th {\n",
       "        vertical-align: top;\n",
       "    }\n",
       "\n",
       "    .dataframe thead th {\n",
       "        text-align: right;\n",
       "    }\n",
       "</style>\n",
       "<table border=\"1\" class=\"dataframe\">\n",
       "  <thead>\n",
       "    <tr style=\"text-align: right;\">\n",
       "      <th></th>\n",
       "      <th>Source</th>\n",
       "      <th>SS</th>\n",
       "      <th>DF</th>\n",
       "      <th>MS</th>\n",
       "      <th>F</th>\n",
       "      <th>p-unc</th>\n",
       "      <th>ng2</th>\n",
       "      <th>eps</th>\n",
       "    </tr>\n",
       "  </thead>\n",
       "  <tbody>\n",
       "    <tr>\n",
       "      <th>0</th>\n",
       "      <td>category</td>\n",
       "      <td>117001.163306</td>\n",
       "      <td>2</td>\n",
       "      <td>58500.581653</td>\n",
       "      <td>17.121273</td>\n",
       "      <td>0.000009</td>\n",
       "      <td>0.109383</td>\n",
       "      <td>0.852317</td>\n",
       "    </tr>\n",
       "    <tr>\n",
       "      <th>1</th>\n",
       "      <td>Error</td>\n",
       "      <td>109338.753951</td>\n",
       "      <td>32</td>\n",
       "      <td>3416.836061</td>\n",
       "      <td>NaN</td>\n",
       "      <td>NaN</td>\n",
       "      <td>NaN</td>\n",
       "      <td>NaN</td>\n",
       "    </tr>\n",
       "  </tbody>\n",
       "</table>\n",
       "</div>"
      ],
      "text/plain": [
       "     Source             SS  DF            MS          F     p-unc       ng2  \\\n",
       "0  category  117001.163306   2  58500.581653  17.121273  0.000009  0.109383   \n",
       "1     Error  109338.753951  32   3416.836061        NaN       NaN       NaN   \n",
       "\n",
       "        eps  \n",
       "0  0.852317  \n",
       "1       NaN  "
      ]
     },
     "execution_count": 10,
     "metadata": {},
     "output_type": "execute_result"
    }
   ],
   "source": [
    "pg.rm_anova(data=df, dv='response_time', within='category', subject='jatosStudyResultId', detailed=True)"
   ]
  },
  {
   "cell_type": "code",
   "execution_count": 12,
   "id": "78dcc3cf",
   "metadata": {},
   "outputs": [
    {
     "data": {
      "text/plain": [
       "<seaborn.axisgrid.FacetGrid at 0x7fa60004c0d0>"
      ]
     },
     "execution_count": 12,
     "metadata": {},
     "output_type": "execute_result"
    },
    {
     "data": {
      "image/png": "[encoded data removed]",
      "text/plain": [
       "<Figure size 360x360 with 1 Axes>"
      ]
     },
     "metadata": {
      "needs_background": "light"
     },
     "output_type": "display_data"
    }
   ],
   "source": [
    "sns.displot(df['response_time'])"
   ]
  },
  {
   "cell_type": "code",
   "execution_count": null,
   "id": "61048a18",
   "metadata": {},
   "outputs": [],
   "source": []
  },
  {
   "cell_type": "code",
   "execution_count": null,
   "id": "8259e0e0",
   "metadata": {},
   "outputs": [],
   "source": []
  },
  {
   "cell_type": "code",
   "execution_count": null,
   "id": "6824f9a5",
   "metadata": {},
   "outputs": [],
   "source": []
  }
 ],
 "metadata": {
  "kernelspec": {
   "display_name": "Python 3 (ipykernel)",
   "language": "python",
   "name": "python3"
  },
  "language_info": {
   "codemirror_mode": {
    "name": "ipython",
    "version": 3
   },
   "file_extension": ".py",
   "mimetype": "text/x-python",
   "name": "python",
   "nbconvert_exporter": "python",
   "pygments_lexer": "ipython3",
   "version": "3.9.1"
  }
 },
 "nbformat": 4,
 "nbformat_minor": 5
}
