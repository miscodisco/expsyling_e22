{
 "cells": [
  {
   "cell_type": "markdown",
   "id": "9b14e3ab",
   "metadata": {},
   "source": [
    "# An introduction to for-loops\n",
    "\n",
    "## aka how we go from specific code to general code"
   ]
  },
  {
   "cell_type": "markdown",
   "id": "d7ff0f4a",
   "metadata": {},
   "source": [
    "As we saw with the concordance exercise from last week, for loops (and and any type of loop really) can be very useful but also a bit confusing to create. In this notebook, I want to give you an example of what I mean when I say \"make the code work on one example and then copy-paste it to a loop and make it general\". <br>\n",
    "We'll also go through how we build code up from the bottom when we only have an idea of where we want to end – so solve some type of problem or get a specific output. <br>\n",
    "Let's go!"
   ]
  },
  {
   "cell_type": "markdown",
   "id": "e15af82e",
   "metadata": {},
   "source": [
    "### make a list of books and their length "
   ]
  },
  {
   "cell_type": "markdown",
   "id": "7760ddc4",
   "metadata": {},
   "source": [
    "This exercise might sound familiar, and that's because it is! I have stolen it from Ethan's concordance exercise last week, because it is a good example to start with I think :-) <br>\n",
    "So if we imagine Ethan hadn't been as nice as he is, and he had just written a challenge asking us to _\"make a list of book titles and the corresponding book length\", how would we go about that?_"
   ]
  },
  {
   "cell_type": "code",
   "execution_count": null,
   "id": "5071ad0c",
   "metadata": {},
   "outputs": [],
   "source": [
    "# what's the first step ? \n",
    "\n",
    "# packages\n",
    "%pip install nltk \n",
    "\n",
    "import nltk\n",
    "import ssl\n",
    "\n",
    "\n",
    "try:\n",
    "    _create_unverified_https_context = ssl._create_unverified_context\n",
    "except AttributeError:\n",
    "    pass\n",
    "else:\n",
    "    ssl._create_default_https_context = _create_unverified_https_context\n",
    "\n",
    "    # data\n",
    "nltk.download('gutenberg')\n",
    "\n",
    "# now that that is sorted, let's do it"
   ]
  },
  {
   "cell_type": "markdown",
   "id": "7eb97e17",
   "metadata": {},
   "source": [
    "It is easy to get overwhelmed when looking at some sort of end product, because you want to just immediatly start doing loops and stuff. But! It is usually easier and faster to start with - in this case - a single book, and make sure you have code that works, which we can then generalize to all the books."
   ]
  },
  {
   "cell_type": "code",
   "execution_count": null,
   "id": "617a7fad",
   "metadata": {},
   "outputs": [],
   "source": [
    "# so let's start with the first book in the list of books: \n",
    "\n",
    "# making a list of the books we want to work with - what is in it?\n",
    "books = nltk.corpus.gutenberg.fileids()\n",
    "print(books)"
   ]
  },
  {
   "cell_type": "code",
   "execution_count": null,
   "id": "228df5c7",
   "metadata": {},
   "outputs": [],
   "source": [
    "# how do we get the first book in the list? and what is in it?\n",
    "book1 = books[0]\n",
    "print(book1)\n",
    "\n",
    "# how do we get any specific book in the list?\n",
    "book2 = books[6]"
   ]
  },
  {
   "cell_type": "code",
   "execution_count": null,
   "id": "1a95d312",
   "metadata": {},
   "outputs": [],
   "source": [
    "# now, the challenge said to have a list of titles, so how do we get the title from this single book?\n",
    "title1 = book1\n",
    "print(title1)"
   ]
  },
  {
   "cell_type": "code",
   "execution_count": null,
   "id": "d7970406",
   "metadata": {},
   "outputs": [],
   "source": [
    "# alright, we have the title, now we want the length - how do we do that? \n",
    "# We steal some code! Specifically, Ethan's\n",
    "\n",
    "book1_length = len(book1) # what happens when I run this code? why won't this give us the result we want?\n",
    "print(book1_length)\n",
    "\n",
    "# answer: it gives us the number of characters in the string 'austen-emma.txt'"
   ]
  },
  {
   "cell_type": "code",
   "execution_count": null,
   "id": "527d9192",
   "metadata": {},
   "outputs": [],
   "source": [
    "# so what we want to do instead is:\n",
    "\n",
    "book1 = nltk.corpus.gutenberg.raw(title1) \n",
    "\n",
    "# remember that title1 before running the above code contains the same as book1\n",
    "# but now that we have overwritten book1, what do each of them hold now?\n",
    "\n",
    "print(title1)\n",
    "print(book1[:50]) # slicing because the output is otherwise too big\n",
    "len(book1)\n",
    "# why does this output look the way it does?\n",
    "# answer: it's counting the number of characters in the whole book (including spaces)"
   ]
  },
  {
   "cell_type": "code",
   "execution_count": null,
   "id": "5884adc9",
   "metadata": {},
   "outputs": [],
   "source": [
    "# but we want to count words! \n",
    "# so, let's steal some more code!\n",
    "\n",
    "# we add this line again, so that we can run this cell over and over without error\n",
    "# (which would be due to overwriting)\n",
    "book1 = nltk.corpus.gutenberg.raw(title1) \n",
    "\n",
    "# From Ethan's notebook:\n",
    "\n",
    "# make all characters lowercase\n",
    "book1 = book1.lower()\n",
    "\n",
    "# remove the \"\\n\" characters, which indicate line breaks in the text (newlines)\n",
    "book1 = book1.replace('\\n', '') \n",
    "book1 = book1.replace('\\r', '') \n",
    "\n",
    "\n",
    "# split up the text into a long list of individual words\n",
    "book1 = book1.split(' ')\n",
    "\n",
    "# How should we modify this code to work for us? \n",
    "# answer: we swapped out all instances of 'bible' with 'book1'"
   ]
  },
  {
   "cell_type": "code",
   "execution_count": null,
   "id": "3c4e85c5",
   "metadata": {},
   "outputs": [],
   "source": [
    "# notice again that we have overwritten book1 - so when we print this out, the output is now different\n",
    "print(book1[100:150]) "
   ]
  },
  {
   "cell_type": "code",
   "execution_count": null,
   "id": "7a660cc8",
   "metadata": {},
   "outputs": [],
   "source": [
    "# and what happens now when we do this?\n",
    "\n",
    "book1_length = len(book1)\n",
    "print(book1_length)\n",
    "\n",
    "# yaaay!! the number of words!! (with some artefacts due to the way we split, but that is besides the point)"
   ]
  },
  {
   "cell_type": "markdown",
   "id": "bccbb811",
   "metadata": {},
   "source": [
    "### So far so good! We have code that now prints the title and the length of a specific book - let's make it a for-loop"
   ]
  },
  {
   "cell_type": "code",
   "execution_count": null,
   "id": "509883a7",
   "metadata": {},
   "outputs": [],
   "source": [
    "# let's try a simple thing\n",
    "for a in books:\n",
    "    print(a)\n"
   ]
  },
  {
   "cell_type": "code",
   "execution_count": null,
   "id": "1ab837f2",
   "metadata": {
    "scrolled": true
   },
   "outputs": [],
   "source": [
    "# now we copy our code and modify it, and then check whether that works\n",
    "for i in books:\n",
    "    title = i\n",
    "    book = nltk.corpus.gutenberg.raw(title)\n",
    "    book = book.lower()\n",
    "    book = book.replace('\\n', '') \n",
    "    book = book.replace('\\r', '') \n",
    "    book = book.split(' ')\n",
    "    book_length = len(book)\n",
    "    \n",
    "    print(title, book_length)\n",
    "\n"
   ]
  },
  {
   "cell_type": "code",
   "execution_count": null,
   "id": "0e8bf933",
   "metadata": {},
   "outputs": [],
   "source": [
    "# and now we get the whole thing: the two lists zipped together\n",
    "titles = []\n",
    "book_lengths = []\n",
    "\n",
    "for title in books: \n",
    "    book = nltk.corpus.gutenberg.raw(title)\n",
    "    book = book.lower()\n",
    "    book = book.replace('\\n', '') \n",
    "    book = book.replace('\\r', '') \n",
    "    book = book.split(' ')\n",
    "    book_length = len(book)\n",
    "    \n",
    "    titles.append(title)\n",
    "    book_lengths.append(book_length)\n",
    "\n",
    "output = list(zip(titles, book_lengths))\n",
    "output"
   ]
  },
  {
   "cell_type": "code",
   "execution_count": null,
   "id": "adae1ee9",
   "metadata": {},
   "outputs": [],
   "source": [
    "# advanced – I didn't go through this in class, but it might be of some interest to some of you\n",
    "# DON'T PANIC IF YOU DON'T GET THIS, there's a reason I call it 'advanced' :-) \n",
    "\n",
    "output = []\n",
    "\n",
    "for title in books:\n",
    "    book = nltk.corpus.gutenberg.raw(title)\n",
    "    book = book.lower().replace('\\n', ' ').replace('\\r', ' ').split(' ')\n",
    "    output.append((title[:-4], len(book)))\n",
    "\n",
    "output\n"
   ]
  },
  {
   "cell_type": "code",
   "execution_count": null,
   "id": "b2ef3e00",
   "metadata": {},
   "outputs": [],
   "source": []
  },
  {
   "cell_type": "code",
   "execution_count": null,
   "id": "c480bf8a",
   "metadata": {},
   "outputs": [],
   "source": []
  }
 ],
 "metadata": {
  "kernelspec": {
   "display_name": "Python 3 (ipykernel)",
   "language": "python",
   "name": "python3"
  },
  "language_info": {
   "codemirror_mode": {
    "name": "ipython",
    "version": 3
   },
   "file_extension": ".py",
   "mimetype": "text/x-python",
   "name": "python",
   "nbconvert_exporter": "python",
   "pygments_lexer": "ipython3",
   "version": "3.9.1"
  }
 },
 "nbformat": 4,
 "nbformat_minor": 5
}
