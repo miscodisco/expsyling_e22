{
 "cells": [
  {
   "cell_type": "markdown",
   "id": "b2d45867",
   "metadata": {},
   "source": [
    "# ANOVA"
   ]
  },
  {
   "cell_type": "code",
   "execution_count": 1,
   "id": "d6ac4c0a",
   "metadata": {},
   "outputs": [],
   "source": [
    "import pandas as pd\n",
    "import pingouin as pg\n",
    "import seaborn as sns\n",
    "from matplotlib import pyplot as plt\n",
    "\n",
    "import warnings\n",
    "warnings.filterwarnings('ignore')"
   ]
  },
  {
   "cell_type": "markdown",
   "id": "57ec4860",
   "metadata": {},
   "source": [
    "A glass of beer with the head having receded, leaving behind noticeable lacing\n",
    "\n",
    "<img src=\"https://upload.wikimedia.org/wikipedia/commons/thumb/a/a9/Mai_2012_Weißbier.JPG/1920px-Mai_2012_Weißbier.JPG\" width=\"200\"/>\n",
    "\n",
    "Image credit: Mai Weißbier, 2012"
   ]
  },
  {
   "cell_type": "markdown",
   "id": "ba98ac3f",
   "metadata": {},
   "source": [
    "## Beer Head Retention\n",
    "\n",
    "There's nothing like a good foamy head on a cold beer, but [it needs to be just right](https://en.wikipedia.org/wiki/Beer_head): not too much, not too little. That means there is a financial incentive for brewers to get the foam just right every time, and that means: science! Below, you can read the abstract from a study by Ault et al (1967), who devised a means to measure beer head retention (how much foam there is, how long it lasts, and how much it sticks to the glass) in a way that would as closely as possible mimic the consumer's experience."
   ]
  },
  {
   "cell_type": "markdown",
   "id": "4681ffa3",
   "metadata": {},
   "source": [
    "<img src=\"https://github.com/ethanweed/datasets-for-teaching/blob/main/Beer%20Head%20Retention/image_abstract.png?raw=true\" width=\"500\"/>"
   ]
  },
  {
   "cell_type": "markdown",
   "id": "5d112ee2",
   "metadata": {},
   "source": [
    "Below, you can see a schematic drawing of the device used for measuring beer head retention."
   ]
  },
  {
   "cell_type": "markdown",
   "id": "bfc56312",
   "metadata": {},
   "source": [
    "<img src=\"https://github.com/ethanweed/datasets-for-teaching/blob/main/Beer%20Head%20Retention/image_head_retention_apparatus.png?raw=true\" width=\"400\"/>"
   ]
  },
  {
   "cell_type": "markdown",
   "id": "5133af74",
   "metadata": {},
   "source": [
    "Ault et al (1967) measured [sixty bottles of beer](https://en.wikipedia.org/wiki/99_Bottles_of_Beer) from three different bottlings: \n",
    "\n",
    "1. Bottling: the batch of beers bottled at the same time\n",
    "2. Bottle: the bottle id number for each bottling\n",
    "3. Head_Formation: the distance from the top of the glass to the top of the foam after 5 seconds plus the distance from the previous top of the foam to the top of the foam after 30 seconds (see Ault et al, 1967, for details)\n",
    "4. Percent_Adhesion: The amount of \"lacing\", that is, foam stuck to the glass after the foam collapses\n",
    "5. Percent_Collapse: Essentially, how much foam is left after 240 seconds.\n",
    "\n",
    "Assignment: \n",
    "\n",
    "1. Compare the different bottling batches on each of the three outcome measures: Head_Formation, Percent_Adhesion, and Percent_Collapse, and report your results in APA format. Using the names from ``pingouin`` output, this could be \"A one-way ANOVA showed a significant effect of / no significant effect of SOURCE on DV (F(DDOF1, DDOF2) = F, p = p\".\n",
    "2. Make figures illustrating your results\n",
    "3. If you drink beer, based on your own preferences, which bottling had the best balance of formation, adhesion, and collapse?"
   ]
  },
  {
   "cell_type": "code",
   "execution_count": 2,
   "id": "a52e75cd",
   "metadata": {},
   "outputs": [],
   "source": [
    "df = pd.read_csv(\"https://raw.githubusercontent.com/ethanweed/datasets-for-teaching/main/Beer%20Head%20Retention/beer-head-data.csv\")"
   ]
  },
  {
   "cell_type": "code",
   "execution_count": 3,
   "id": "3e027f49",
   "metadata": {},
   "outputs": [
    {
     "data": {
      "text/html": [
       "<div>\n",
       "<style scoped>\n",
       "    .dataframe tbody tr th:only-of-type {\n",
       "        vertical-align: middle;\n",
       "    }\n",
       "\n",
       "    .dataframe tbody tr th {\n",
       "        vertical-align: top;\n",
       "    }\n",
       "\n",
       "    .dataframe thead th {\n",
       "        text-align: right;\n",
       "    }\n",
       "</style>\n",
       "<table border=\"1\" class=\"dataframe\">\n",
       "  <thead>\n",
       "    <tr style=\"text-align: right;\">\n",
       "      <th></th>\n",
       "      <th>Bottling</th>\n",
       "      <th>Bottle</th>\n",
       "      <th>Head_Formation</th>\n",
       "      <th>Percent_Adhesion</th>\n",
       "      <th>Percent_Collapse</th>\n",
       "    </tr>\n",
       "  </thead>\n",
       "  <tbody>\n",
       "    <tr>\n",
       "      <th>0</th>\n",
       "      <td>1</td>\n",
       "      <td>1</td>\n",
       "      <td>166</td>\n",
       "      <td>74</td>\n",
       "      <td>87</td>\n",
       "    </tr>\n",
       "    <tr>\n",
       "      <th>1</th>\n",
       "      <td>1</td>\n",
       "      <td>2</td>\n",
       "      <td>180</td>\n",
       "      <td>78</td>\n",
       "      <td>81</td>\n",
       "    </tr>\n",
       "    <tr>\n",
       "      <th>2</th>\n",
       "      <td>1</td>\n",
       "      <td>3</td>\n",
       "      <td>164</td>\n",
       "      <td>67</td>\n",
       "      <td>85</td>\n",
       "    </tr>\n",
       "    <tr>\n",
       "      <th>3</th>\n",
       "      <td>1</td>\n",
       "      <td>4</td>\n",
       "      <td>180</td>\n",
       "      <td>71</td>\n",
       "      <td>82</td>\n",
       "    </tr>\n",
       "    <tr>\n",
       "      <th>4</th>\n",
       "      <td>1</td>\n",
       "      <td>5</td>\n",
       "      <td>173</td>\n",
       "      <td>65</td>\n",
       "      <td>82</td>\n",
       "    </tr>\n",
       "  </tbody>\n",
       "</table>\n",
       "</div>"
      ],
      "text/plain": [
       "   Bottling  Bottle  Head_Formation  Percent_Adhesion  Percent_Collapse\n",
       "0         1       1             166                74                87\n",
       "1         1       2             180                78                81\n",
       "2         1       3             164                67                85\n",
       "3         1       4             180                71                82\n",
       "4         1       5             173                65                82"
      ]
     },
     "execution_count": 3,
     "metadata": {},
     "output_type": "execute_result"
    }
   ],
   "source": [
    "df.head()"
   ]
  },
  {
   "cell_type": "code",
   "execution_count": 4,
   "id": "39f52864",
   "metadata": {},
   "outputs": [
    {
     "data": {
      "text/html": [
       "<div>\n",
       "<style scoped>\n",
       "    .dataframe tbody tr th:only-of-type {\n",
       "        vertical-align: middle;\n",
       "    }\n",
       "\n",
       "    .dataframe tbody tr th {\n",
       "        vertical-align: top;\n",
       "    }\n",
       "\n",
       "    .dataframe thead th {\n",
       "        text-align: right;\n",
       "    }\n",
       "</style>\n",
       "<table border=\"1\" class=\"dataframe\">\n",
       "  <thead>\n",
       "    <tr style=\"text-align: right;\">\n",
       "      <th></th>\n",
       "      <th>Source</th>\n",
       "      <th>ddof1</th>\n",
       "      <th>ddof2</th>\n",
       "      <th>F</th>\n",
       "      <th>p-unc</th>\n",
       "      <th>np2</th>\n",
       "    </tr>\n",
       "  </thead>\n",
       "  <tbody>\n",
       "    <tr>\n",
       "      <th>0</th>\n",
       "      <td>Bottling</td>\n",
       "      <td>2</td>\n",
       "      <td>56</td>\n",
       "      <td>14.163106</td>\n",
       "      <td>0.000011</td>\n",
       "      <td>0.335912</td>\n",
       "    </tr>\n",
       "  </tbody>\n",
       "</table>\n",
       "</div>"
      ],
      "text/plain": [
       "     Source  ddof1  ddof2          F     p-unc       np2\n",
       "0  Bottling      2     56  14.163106  0.000011  0.335912"
      ]
     },
     "execution_count": 4,
     "metadata": {},
     "output_type": "execute_result"
    }
   ],
   "source": [
    "pg.anova(data = df, dv = 'Head_Formation', between = 'Bottling')"
   ]
  },
  {
   "cell_type": "code",
   "execution_count": 5,
   "id": "3be3e076",
   "metadata": {},
   "outputs": [
    {
     "data": {
      "text/plain": [
       "<AxesSubplot:xlabel='Bottling', ylabel='Head_Formation'>"
      ]
     },
     "execution_count": 5,
     "metadata": {},
     "output_type": "execute_result"
    },
    {
     "data": {
      "image/png": "[encoded data removed]",
      "text/plain": [
       "<Figure size 640x480 with 1 Axes>"
      ]
     },
     "metadata": {},
     "output_type": "display_data"
    }
   ],
   "source": [
    "sns.pointplot(data = df, x = 'Bottling', y = 'Head_Formation', color = 'purple')"
   ]
  },
  {
   "cell_type": "markdown",
   "id": "1fecb0bd",
   "metadata": {},
   "source": [
    "A one-way ANOVA showed a significant effect of Bottling on Head Formation (F(2, 56) = 14.16, p < 0.01 )"
   ]
  },
  {
   "cell_type": "code",
   "execution_count": 6,
   "id": "be5cc4ea",
   "metadata": {},
   "outputs": [
    {
     "data": {
      "text/html": [
       "<div>\n",
       "<style scoped>\n",
       "    .dataframe tbody tr th:only-of-type {\n",
       "        vertical-align: middle;\n",
       "    }\n",
       "\n",
       "    .dataframe tbody tr th {\n",
       "        vertical-align: top;\n",
       "    }\n",
       "\n",
       "    .dataframe thead th {\n",
       "        text-align: right;\n",
       "    }\n",
       "</style>\n",
       "<table border=\"1\" class=\"dataframe\">\n",
       "  <thead>\n",
       "    <tr style=\"text-align: right;\">\n",
       "      <th></th>\n",
       "      <th>Source</th>\n",
       "      <th>ddof1</th>\n",
       "      <th>ddof2</th>\n",
       "      <th>F</th>\n",
       "      <th>p-unc</th>\n",
       "      <th>np2</th>\n",
       "    </tr>\n",
       "  </thead>\n",
       "  <tbody>\n",
       "    <tr>\n",
       "      <th>0</th>\n",
       "      <td>Bottling</td>\n",
       "      <td>2</td>\n",
       "      <td>56</td>\n",
       "      <td>8.930398</td>\n",
       "      <td>0.00043</td>\n",
       "      <td>0.241817</td>\n",
       "    </tr>\n",
       "  </tbody>\n",
       "</table>\n",
       "</div>"
      ],
      "text/plain": [
       "     Source  ddof1  ddof2         F    p-unc       np2\n",
       "0  Bottling      2     56  8.930398  0.00043  0.241817"
      ]
     },
     "execution_count": 6,
     "metadata": {},
     "output_type": "execute_result"
    }
   ],
   "source": [
    "pg.anova(data = df, dv = 'Percent_Adhesion', between = 'Bottling')"
   ]
  },
  {
   "cell_type": "code",
   "execution_count": 23,
   "id": "7958d3b6",
   "metadata": {
    "scrolled": true
   },
   "outputs": [
    {
     "ename": "ValueError",
     "evalue": "Could not interpret input 'Bottling'",
     "output_type": "error",
     "traceback": [
      "\u001b[0;31m---------------------------------------------------------------------------\u001b[0m",
      "\u001b[0;31mValueError\u001b[0m                                Traceback (most recent call last)",
      "Cell \u001b[0;32mIn [23], line 1\u001b[0m\n\u001b[0;32m----> 1\u001b[0m \u001b[43msns\u001b[49m\u001b[38;5;241;43m.\u001b[39;49m\u001b[43mpointplot\u001b[49m\u001b[43m(\u001b[49m\u001b[43mdata\u001b[49m\u001b[43m \u001b[49m\u001b[38;5;241;43m=\u001b[39;49m\u001b[43m \u001b[49m\u001b[43mdf\u001b[49m\u001b[43m,\u001b[49m\u001b[43m \u001b[49m\u001b[43mx\u001b[49m\u001b[43m \u001b[49m\u001b[38;5;241;43m=\u001b[39;49m\u001b[43m \u001b[49m\u001b[38;5;124;43m'\u001b[39;49m\u001b[38;5;124;43mBottling\u001b[39;49m\u001b[38;5;124;43m'\u001b[39;49m\u001b[43m,\u001b[49m\u001b[43m \u001b[49m\u001b[43my\u001b[49m\u001b[43m \u001b[49m\u001b[38;5;241;43m=\u001b[39;49m\u001b[43m \u001b[49m\u001b[38;5;124;43m'\u001b[39;49m\u001b[38;5;124;43mPercent_Adhesion\u001b[39;49m\u001b[38;5;124;43m'\u001b[39;49m\u001b[43m,\u001b[49m\u001b[43m \u001b[49m\u001b[43mcolor\u001b[49m\u001b[43m \u001b[49m\u001b[38;5;241;43m=\u001b[39;49m\u001b[43m \u001b[49m\u001b[38;5;124;43m'\u001b[39;49m\u001b[38;5;124;43mgreen\u001b[39;49m\u001b[38;5;124;43m'\u001b[39;49m\u001b[43m)\u001b[49m\n",
      "File \u001b[0;32m/opt/homebrew/lib/python3.9/site-packages/seaborn/_decorators.py:46\u001b[0m, in \u001b[0;36m_deprecate_positional_args.<locals>.inner_f\u001b[0;34m(*args, **kwargs)\u001b[0m\n\u001b[1;32m     36\u001b[0m     warnings\u001b[38;5;241m.\u001b[39mwarn(\n\u001b[1;32m     37\u001b[0m         \u001b[38;5;124m\"\u001b[39m\u001b[38;5;124mPass the following variable\u001b[39m\u001b[38;5;132;01m{}\u001b[39;00m\u001b[38;5;124m as \u001b[39m\u001b[38;5;132;01m{}\u001b[39;00m\u001b[38;5;124mkeyword arg\u001b[39m\u001b[38;5;132;01m{}\u001b[39;00m\u001b[38;5;124m: \u001b[39m\u001b[38;5;132;01m{}\u001b[39;00m\u001b[38;5;124m. \u001b[39m\u001b[38;5;124m\"\u001b[39m\n\u001b[1;32m     38\u001b[0m         \u001b[38;5;124m\"\u001b[39m\u001b[38;5;124mFrom version 0.12, the only valid positional argument \u001b[39m\u001b[38;5;124m\"\u001b[39m\n\u001b[0;32m   (...)\u001b[0m\n\u001b[1;32m     43\u001b[0m         \u001b[38;5;167;01mFutureWarning\u001b[39;00m\n\u001b[1;32m     44\u001b[0m     )\n\u001b[1;32m     45\u001b[0m kwargs\u001b[38;5;241m.\u001b[39mupdate({k: arg \u001b[38;5;28;01mfor\u001b[39;00m k, arg \u001b[38;5;129;01min\u001b[39;00m \u001b[38;5;28mzip\u001b[39m(sig\u001b[38;5;241m.\u001b[39mparameters, args)})\n\u001b[0;32m---> 46\u001b[0m \u001b[38;5;28;01mreturn\u001b[39;00m \u001b[43mf\u001b[49m\u001b[43m(\u001b[49m\u001b[38;5;241;43m*\u001b[39;49m\u001b[38;5;241;43m*\u001b[39;49m\u001b[43mkwargs\u001b[49m\u001b[43m)\u001b[49m\n",
      "File \u001b[0;32m/opt/homebrew/lib/python3.9/site-packages/seaborn/categorical.py:3375\u001b[0m, in \u001b[0;36mpointplot\u001b[0;34m(x, y, hue, data, order, hue_order, estimator, ci, n_boot, units, seed, markers, linestyles, dodge, join, scale, orient, color, palette, errwidth, capsize, ax, **kwargs)\u001b[0m\n\u001b[1;32m   3362\u001b[0m \u001b[38;5;129m@_deprecate_positional_args\u001b[39m\n\u001b[1;32m   3363\u001b[0m \u001b[38;5;28;01mdef\u001b[39;00m \u001b[38;5;21mpointplot\u001b[39m(\n\u001b[1;32m   3364\u001b[0m     \u001b[38;5;241m*\u001b[39m,\n\u001b[0;32m   (...)\u001b[0m\n\u001b[1;32m   3372\u001b[0m     \u001b[38;5;241m*\u001b[39m\u001b[38;5;241m*\u001b[39mkwargs\n\u001b[1;32m   3373\u001b[0m ):\n\u001b[0;32m-> 3375\u001b[0m     plotter \u001b[38;5;241m=\u001b[39m \u001b[43m_PointPlotter\u001b[49m\u001b[43m(\u001b[49m\u001b[43mx\u001b[49m\u001b[43m,\u001b[49m\u001b[43m \u001b[49m\u001b[43my\u001b[49m\u001b[43m,\u001b[49m\u001b[43m \u001b[49m\u001b[43mhue\u001b[49m\u001b[43m,\u001b[49m\u001b[43m \u001b[49m\u001b[43mdata\u001b[49m\u001b[43m,\u001b[49m\u001b[43m \u001b[49m\u001b[43morder\u001b[49m\u001b[43m,\u001b[49m\u001b[43m \u001b[49m\u001b[43mhue_order\u001b[49m\u001b[43m,\u001b[49m\n\u001b[1;32m   3376\u001b[0m \u001b[43m                            \u001b[49m\u001b[43mestimator\u001b[49m\u001b[43m,\u001b[49m\u001b[43m \u001b[49m\u001b[43mci\u001b[49m\u001b[43m,\u001b[49m\u001b[43m \u001b[49m\u001b[43mn_boot\u001b[49m\u001b[43m,\u001b[49m\u001b[43m \u001b[49m\u001b[43munits\u001b[49m\u001b[43m,\u001b[49m\u001b[43m \u001b[49m\u001b[43mseed\u001b[49m\u001b[43m,\u001b[49m\n\u001b[1;32m   3377\u001b[0m \u001b[43m                            \u001b[49m\u001b[43mmarkers\u001b[49m\u001b[43m,\u001b[49m\u001b[43m \u001b[49m\u001b[43mlinestyles\u001b[49m\u001b[43m,\u001b[49m\u001b[43m \u001b[49m\u001b[43mdodge\u001b[49m\u001b[43m,\u001b[49m\u001b[43m \u001b[49m\u001b[43mjoin\u001b[49m\u001b[43m,\u001b[49m\u001b[43m \u001b[49m\u001b[43mscale\u001b[49m\u001b[43m,\u001b[49m\n\u001b[1;32m   3378\u001b[0m \u001b[43m                            \u001b[49m\u001b[43morient\u001b[49m\u001b[43m,\u001b[49m\u001b[43m \u001b[49m\u001b[43mcolor\u001b[49m\u001b[43m,\u001b[49m\u001b[43m \u001b[49m\u001b[43mpalette\u001b[49m\u001b[43m,\u001b[49m\u001b[43m \u001b[49m\u001b[43merrwidth\u001b[49m\u001b[43m,\u001b[49m\u001b[43m \u001b[49m\u001b[43mcapsize\u001b[49m\u001b[43m)\u001b[49m\n\u001b[1;32m   3380\u001b[0m     \u001b[38;5;28;01mif\u001b[39;00m ax \u001b[38;5;129;01mis\u001b[39;00m \u001b[38;5;28;01mNone\u001b[39;00m:\n\u001b[1;32m   3381\u001b[0m         ax \u001b[38;5;241m=\u001b[39m plt\u001b[38;5;241m.\u001b[39mgca()\n",
      "File \u001b[0;32m/opt/homebrew/lib/python3.9/site-packages/seaborn/categorical.py:1655\u001b[0m, in \u001b[0;36m_PointPlotter.__init__\u001b[0;34m(self, x, y, hue, data, order, hue_order, estimator, ci, n_boot, units, seed, markers, linestyles, dodge, join, scale, orient, color, palette, errwidth, capsize)\u001b[0m\n\u001b[1;32m   1650\u001b[0m \u001b[38;5;28;01mdef\u001b[39;00m \u001b[38;5;21m__init__\u001b[39m(\u001b[38;5;28mself\u001b[39m, x, y, hue, data, order, hue_order,\n\u001b[1;32m   1651\u001b[0m              estimator, ci, n_boot, units, seed,\n\u001b[1;32m   1652\u001b[0m              markers, linestyles, dodge, join, scale,\n\u001b[1;32m   1653\u001b[0m              orient, color, palette, errwidth\u001b[38;5;241m=\u001b[39m\u001b[38;5;28;01mNone\u001b[39;00m, capsize\u001b[38;5;241m=\u001b[39m\u001b[38;5;28;01mNone\u001b[39;00m):\n\u001b[1;32m   1654\u001b[0m     \u001b[38;5;124;03m\"\"\"Initialize the plotter.\"\"\"\u001b[39;00m\n\u001b[0;32m-> 1655\u001b[0m     \u001b[38;5;28;43mself\u001b[39;49m\u001b[38;5;241;43m.\u001b[39;49m\u001b[43mestablish_variables\u001b[49m\u001b[43m(\u001b[49m\u001b[43mx\u001b[49m\u001b[43m,\u001b[49m\u001b[43m \u001b[49m\u001b[43my\u001b[49m\u001b[43m,\u001b[49m\u001b[43m \u001b[49m\u001b[43mhue\u001b[49m\u001b[43m,\u001b[49m\u001b[43m \u001b[49m\u001b[43mdata\u001b[49m\u001b[43m,\u001b[49m\u001b[43m \u001b[49m\u001b[43morient\u001b[49m\u001b[43m,\u001b[49m\n\u001b[1;32m   1656\u001b[0m \u001b[43m                             \u001b[49m\u001b[43morder\u001b[49m\u001b[43m,\u001b[49m\u001b[43m \u001b[49m\u001b[43mhue_order\u001b[49m\u001b[43m,\u001b[49m\u001b[43m \u001b[49m\u001b[43munits\u001b[49m\u001b[43m)\u001b[49m\n\u001b[1;32m   1657\u001b[0m     \u001b[38;5;28mself\u001b[39m\u001b[38;5;241m.\u001b[39mestablish_colors(color, palette, \u001b[38;5;241m1\u001b[39m)\n\u001b[1;32m   1658\u001b[0m     \u001b[38;5;28mself\u001b[39m\u001b[38;5;241m.\u001b[39mestimate_statistic(estimator, ci, n_boot, seed)\n",
      "File \u001b[0;32m/opt/homebrew/lib/python3.9/site-packages/seaborn/categorical.py:153\u001b[0m, in \u001b[0;36m_CategoricalPlotter.establish_variables\u001b[0;34m(self, x, y, hue, data, orient, order, hue_order, units)\u001b[0m\n\u001b[1;32m    151\u001b[0m     \u001b[38;5;28;01mif\u001b[39;00m \u001b[38;5;28misinstance\u001b[39m(var, \u001b[38;5;28mstr\u001b[39m):\n\u001b[1;32m    152\u001b[0m         err \u001b[38;5;241m=\u001b[39m \u001b[38;5;124m\"\u001b[39m\u001b[38;5;124mCould not interpret input \u001b[39m\u001b[38;5;124m'\u001b[39m\u001b[38;5;132;01m{}\u001b[39;00m\u001b[38;5;124m'\u001b[39m\u001b[38;5;124m\"\u001b[39m\u001b[38;5;241m.\u001b[39mformat(var)\n\u001b[0;32m--> 153\u001b[0m         \u001b[38;5;28;01mraise\u001b[39;00m \u001b[38;5;167;01mValueError\u001b[39;00m(err)\n\u001b[1;32m    155\u001b[0m \u001b[38;5;66;03m# Figure out the plotting orientation\u001b[39;00m\n\u001b[1;32m    156\u001b[0m orient \u001b[38;5;241m=\u001b[39m infer_orient(\n\u001b[1;32m    157\u001b[0m     x, y, orient, require_numeric\u001b[38;5;241m=\u001b[39m\u001b[38;5;28mself\u001b[39m\u001b[38;5;241m.\u001b[39mrequire_numeric\n\u001b[1;32m    158\u001b[0m )\n",
      "\u001b[0;31mValueError\u001b[0m: Could not interpret input 'Bottling'"
     ]
    }
   ],
   "source": [
    "sns.pointplot(data = df, x = 'Bottling', y = 'Percent_Adhesion', color = 'green')"
   ]
  },
  {
   "cell_type": "markdown",
   "id": "98fbc15d",
   "metadata": {},
   "source": [
    "A one-way ANOVA showed a significant effect of Bottling on Percent Adhesion (F(2, 56) = 8.93, p < 0.01 )"
   ]
  },
  {
   "cell_type": "code",
   "execution_count": 9,
   "id": "3aa97984",
   "metadata": {},
   "outputs": [
    {
     "data": {
      "text/html": [
       "<div>\n",
       "<style scoped>\n",
       "    .dataframe tbody tr th:only-of-type {\n",
       "        vertical-align: middle;\n",
       "    }\n",
       "\n",
       "    .dataframe tbody tr th {\n",
       "        vertical-align: top;\n",
       "    }\n",
       "\n",
       "    .dataframe thead th {\n",
       "        text-align: right;\n",
       "    }\n",
       "</style>\n",
       "<table border=\"1\" class=\"dataframe\">\n",
       "  <thead>\n",
       "    <tr style=\"text-align: right;\">\n",
       "      <th></th>\n",
       "      <th>Source</th>\n",
       "      <th>ddof1</th>\n",
       "      <th>ddof2</th>\n",
       "      <th>F</th>\n",
       "      <th>p-unc</th>\n",
       "      <th>np2</th>\n",
       "    </tr>\n",
       "  </thead>\n",
       "  <tbody>\n",
       "    <tr>\n",
       "      <th>0</th>\n",
       "      <td>Bottling</td>\n",
       "      <td>2</td>\n",
       "      <td>56</td>\n",
       "      <td>35.210245</td>\n",
       "      <td>1.254225e-10</td>\n",
       "      <td>0.557034</td>\n",
       "    </tr>\n",
       "  </tbody>\n",
       "</table>\n",
       "</div>"
      ],
      "text/plain": [
       "     Source  ddof1  ddof2          F         p-unc       np2\n",
       "0  Bottling      2     56  35.210245  1.254225e-10  0.557034"
      ]
     },
     "execution_count": 9,
     "metadata": {},
     "output_type": "execute_result"
    }
   ],
   "source": [
    "pg.anova(data = df, dv = 'Percent_Collapse', between = 'Bottling')"
   ]
  },
  {
   "cell_type": "code",
   "execution_count": 11,
   "id": "5c6a875c",
   "metadata": {},
   "outputs": [
    {
     "data": {
      "text/plain": [
       "<AxesSubplot:xlabel='Bottling', ylabel='Percent_Collapse'>"
      ]
     },
     "execution_count": 11,
     "metadata": {},
     "output_type": "execute_result"
    },
    {
     "data": {
      "image/png": "[encoded data removed]",
      "text/plain": [
       "<Figure size 640x480 with 1 Axes>"
      ]
     },
     "metadata": {},
     "output_type": "display_data"
    }
   ],
   "source": [
    "sns.pointplot(data = df, x = 'Bottling', y = 'Percent_Collapse', color = 'brown')"
   ]
  },
  {
   "cell_type": "markdown",
   "id": "c94a08c0",
   "metadata": {},
   "source": [
    "## Barking sea lions"
   ]
  },
  {
   "cell_type": "markdown",
   "id": "9000640c",
   "metadata": {},
   "source": [
    "California sea lion (Zalophus californianus) and a Western gull (Larus occidentalis) in Scripps Park in La Jolla (San Diego, California).\n",
    "\n",
    "<img src=\"https://upload.wikimedia.org/wikipedia/commons/thumb/7/74/California_sea_lion_in_La_Jolla_%2870568%29.jpg/2560px-California_sea_lion_in_La_Jolla_%2870568%29.jpg\" width=\"300\"/>\n",
    "\n",
    "Image credit: Rhododendrites (2016)"
   ]
  },
  {
   "cell_type": "markdown",
   "id": "33505ffb",
   "metadata": {},
   "source": [
    "Sea lions love to make noise, and in the sea lion business, the noise they make is called \"barking\". To the untrained ear, all sea lions may sound the same, but in fact, there may be local \"dialects\". Ahonen et al (2014) carried out a study of sea lion barks, measuring, among other things, the duration of the barks at seven different locations in Australia (see map below).\n",
    "\n",
    "<img src=\"https://github.com/ethanweed/datasets-for-teaching/blob/main/Durations%20of%20Seal%20Lion%20Barking%20Calls/image_locations.png?raw=true\" width=\"550\"/>"
   ]
  },
  {
   "cell_type": "markdown",
   "id": "1f757b47",
   "metadata": {},
   "source": [
    "Below, you can read the article abstract:\n",
    "\n",
    "<img src=\"https://github.com/ethanweed/datasets-for-teaching/blob/main/Durations%20of%20Seal%20Lion%20Barking%20Calls/image_abstract.png?raw=true\" width=\"\"/>"
   ]
  },
  {
   "cell_type": "markdown",
   "id": "a494f961",
   "metadata": {},
   "source": [
    "Assignment:\n",
    "\n",
    "1. Use the dataset below to check the researchers' results. Was there a signficant difference in barking duration between the different locations?\n",
    "2. Report your findings using the APA format (see beer example above)\n",
    "3. Reproduce panel A from figure 4, below. Sadly, we don't have the data for the interbark durations, so you can't do panel B. You can use the location numbers, but for an extra challenge, use Python to replace the numbers with the location names. You can see the location names in table 2 below, which are ordered in the same order as the location numbers in the data:\n",
    "\n",
    "<img src=\"https://github.com/ethanweed/datasets-for-teaching/blob/main/Durations%20of%20Seal%20Lion%20Barking%20Calls/image_table2.png?raw=true\" width=\"\"/>"
   ]
  },
  {
   "cell_type": "markdown",
   "id": "1f94ed0f",
   "metadata": {},
   "source": [
    "<img src=\"https://github.com/ethanweed/datasets-for-teaching/blob/main/Durations%20of%20Seal%20Lion%20Barking%20Calls/image_figure4.png?raw=true\" width=\"\"/>"
   ]
  },
  {
   "cell_type": "markdown",
   "id": "224e865a",
   "metadata": {},
   "source": [
    "## References\n",
    "\n",
    "Ahonen, H., Stow, A. J., Harcourt, R. G., & Charrier, I. (2014). Adult male Australian sea lion barking calls reveal clear geographical variations. Animal Behaviour, 97, 229-239.\n",
    "\n",
    "Ault, R. G., Hudson, E. J., Linehan, D. J., & Woodward, J. D. (1967). A practical approach to the assessment of head retention of bottled beers. Journal of the Institute of Brewing, 73(6), 558-566.\n",
    "\n"
   ]
  },
  {
   "cell_type": "code",
   "execution_count": 12,
   "id": "a92280dd",
   "metadata": {},
   "outputs": [],
   "source": [
    "df = pd.read_csv('https://raw.githubusercontent.com/ethanweed/datasets-for-teaching/main/Durations%20of%20Seal%20Lion%20Barking%20Calls/sea-lion-barking-data.csv')"
   ]
  },
  {
   "cell_type": "code",
   "execution_count": 13,
   "id": "0e96d6cb",
   "metadata": {},
   "outputs": [
    {
     "data": {
      "text/html": [
       "<div>\n",
       "<style scoped>\n",
       "    .dataframe tbody tr th:only-of-type {\n",
       "        vertical-align: middle;\n",
       "    }\n",
       "\n",
       "    .dataframe tbody tr th {\n",
       "        vertical-align: top;\n",
       "    }\n",
       "\n",
       "    .dataframe thead th {\n",
       "        text-align: right;\n",
       "    }\n",
       "</style>\n",
       "<table border=\"1\" class=\"dataframe\">\n",
       "  <thead>\n",
       "    <tr style=\"text-align: right;\">\n",
       "      <th></th>\n",
       "      <th>location</th>\n",
       "      <th>duration</th>\n",
       "    </tr>\n",
       "  </thead>\n",
       "  <tbody>\n",
       "    <tr>\n",
       "      <th>0</th>\n",
       "      <td>1</td>\n",
       "      <td>51.05</td>\n",
       "    </tr>\n",
       "    <tr>\n",
       "      <th>1</th>\n",
       "      <td>1</td>\n",
       "      <td>54.58</td>\n",
       "    </tr>\n",
       "    <tr>\n",
       "      <th>2</th>\n",
       "      <td>1</td>\n",
       "      <td>52.34</td>\n",
       "    </tr>\n",
       "    <tr>\n",
       "      <th>3</th>\n",
       "      <td>1</td>\n",
       "      <td>50.24</td>\n",
       "    </tr>\n",
       "    <tr>\n",
       "      <th>4</th>\n",
       "      <td>1</td>\n",
       "      <td>53.25</td>\n",
       "    </tr>\n",
       "  </tbody>\n",
       "</table>\n",
       "</div>"
      ],
      "text/plain": [
       "   location  duration\n",
       "0         1     51.05\n",
       "1         1     54.58\n",
       "2         1     52.34\n",
       "3         1     50.24\n",
       "4         1     53.25"
      ]
     },
     "execution_count": 13,
     "metadata": {},
     "output_type": "execute_result"
    }
   ],
   "source": [
    "df.head()"
   ]
  },
  {
   "cell_type": "code",
   "execution_count": 14,
   "id": "d54f3ef5",
   "metadata": {},
   "outputs": [
    {
     "data": {
      "text/plain": [
       "(1240, 2)"
      ]
     },
     "execution_count": 14,
     "metadata": {},
     "output_type": "execute_result"
    }
   ],
   "source": [
    "df.shape"
   ]
  },
  {
   "cell_type": "code",
   "execution_count": 15,
   "id": "833c0438",
   "metadata": {},
   "outputs": [
    {
     "data": {
      "text/html": [
       "<div>\n",
       "<style scoped>\n",
       "    .dataframe tbody tr th:only-of-type {\n",
       "        vertical-align: middle;\n",
       "    }\n",
       "\n",
       "    .dataframe tbody tr th {\n",
       "        vertical-align: top;\n",
       "    }\n",
       "\n",
       "    .dataframe thead th {\n",
       "        text-align: right;\n",
       "    }\n",
       "</style>\n",
       "<table border=\"1\" class=\"dataframe\">\n",
       "  <thead>\n",
       "    <tr style=\"text-align: right;\">\n",
       "      <th></th>\n",
       "      <th>Source</th>\n",
       "      <th>ddof1</th>\n",
       "      <th>ddof2</th>\n",
       "      <th>F</th>\n",
       "      <th>p-unc</th>\n",
       "      <th>np2</th>\n",
       "    </tr>\n",
       "  </thead>\n",
       "  <tbody>\n",
       "    <tr>\n",
       "      <th>0</th>\n",
       "      <td>location</td>\n",
       "      <td>6</td>\n",
       "      <td>1233</td>\n",
       "      <td>20.801235</td>\n",
       "      <td>2.544758e-23</td>\n",
       "      <td>0.091918</td>\n",
       "    </tr>\n",
       "  </tbody>\n",
       "</table>\n",
       "</div>"
      ],
      "text/plain": [
       "     Source  ddof1  ddof2          F         p-unc       np2\n",
       "0  location      6   1233  20.801235  2.544758e-23  0.091918"
      ]
     },
     "execution_count": 15,
     "metadata": {},
     "output_type": "execute_result"
    }
   ],
   "source": [
    "pg.anova(data = df, dv = 'duration', between = 'location')"
   ]
  },
  {
   "cell_type": "code",
   "execution_count": 16,
   "id": "0b9fb23c",
   "metadata": {},
   "outputs": [
    {
     "data": {
      "text/plain": [
       "<AxesSubplot:xlabel='location', ylabel='duration'>"
      ]
     },
     "execution_count": 16,
     "metadata": {},
     "output_type": "execute_result"
    },
    {
     "data": {
      "image/png": "[encoded data removed]",
      "text/plain": [
       "<Figure size 640x480 with 1 Axes>"
      ]
     },
     "metadata": {},
     "output_type": "display_data"
    }
   ],
   "source": [
    "sns.pointplot(data = df, x = 'location', y = 'duration', palette = 'twilight')"
   ]
  },
  {
   "cell_type": "markdown",
   "id": "bf91dd41",
   "metadata": {},
   "source": [
    "A one-way ANOVA showed a significant effect of location on bark duration (F(6, 1233) = 20.8, p < 0.01)"
   ]
  },
  {
   "cell_type": "code",
   "execution_count": 19,
   "id": "9fdff18f",
   "metadata": {},
   "outputs": [
    {
     "data": {
      "text/html": [
       "<div>\n",
       "<style scoped>\n",
       "    .dataframe tbody tr th:only-of-type {\n",
       "        vertical-align: middle;\n",
       "    }\n",
       "\n",
       "    .dataframe tbody tr th {\n",
       "        vertical-align: top;\n",
       "    }\n",
       "\n",
       "    .dataframe thead th {\n",
       "        text-align: right;\n",
       "    }\n",
       "</style>\n",
       "<table border=\"1\" class=\"dataframe\">\n",
       "  <thead>\n",
       "    <tr style=\"text-align: right;\">\n",
       "      <th></th>\n",
       "      <th>location</th>\n",
       "      <th>label</th>\n",
       "    </tr>\n",
       "  </thead>\n",
       "  <tbody>\n",
       "    <tr>\n",
       "      <th>0</th>\n",
       "      <td>1</td>\n",
       "      <td>Lewis</td>\n",
       "    </tr>\n",
       "    <tr>\n",
       "      <th>1</th>\n",
       "      <td>2</td>\n",
       "      <td>Liguana</td>\n",
       "    </tr>\n",
       "    <tr>\n",
       "      <th>2</th>\n",
       "      <td>3</td>\n",
       "      <td>Olive</td>\n",
       "    </tr>\n",
       "    <tr>\n",
       "      <th>3</th>\n",
       "      <td>4</td>\n",
       "      <td>Blefuscu</td>\n",
       "    </tr>\n",
       "    <tr>\n",
       "      <th>4</th>\n",
       "      <td>5</td>\n",
       "      <td>Lilliput</td>\n",
       "    </tr>\n",
       "    <tr>\n",
       "      <th>5</th>\n",
       "      <td>6</td>\n",
       "      <td>NF</td>\n",
       "    </tr>\n",
       "    <tr>\n",
       "      <th>6</th>\n",
       "      <td>7</td>\n",
       "      <td>Beagle</td>\n",
       "    </tr>\n",
       "  </tbody>\n",
       "</table>\n",
       "</div>"
      ],
      "text/plain": [
       "   location     label\n",
       "0         1     Lewis\n",
       "1         2   Liguana\n",
       "2         3     Olive\n",
       "3         4  Blefuscu\n",
       "4         5  Lilliput\n",
       "5         6        NF\n",
       "6         7    Beagle"
      ]
     },
     "execution_count": 19,
     "metadata": {},
     "output_type": "execute_result"
    }
   ],
   "source": [
    "\n",
    "vals = df['location'].unique()\n",
    "\n",
    "locs = ['Lewis', 'Liguana', 'Olive', 'Blefuscu', 'Lilliput', 'NF', 'Beagle']\n",
    "\n",
    "df_vals_locs = pd.DataFrame(zip(vals, locs), columns = ['location', 'label'])\n",
    "df_vals_locs\n",
    "\n",
    "\n"
   ]
  },
  {
   "cell_type": "code",
   "execution_count": 20,
   "id": "1b4e84af",
   "metadata": {},
   "outputs": [
    {
     "data": {
      "text/html": [
       "<div>\n",
       "<style scoped>\n",
       "    .dataframe tbody tr th:only-of-type {\n",
       "        vertical-align: middle;\n",
       "    }\n",
       "\n",
       "    .dataframe tbody tr th {\n",
       "        vertical-align: top;\n",
       "    }\n",
       "\n",
       "    .dataframe thead th {\n",
       "        text-align: right;\n",
       "    }\n",
       "</style>\n",
       "<table border=\"1\" class=\"dataframe\">\n",
       "  <thead>\n",
       "    <tr style=\"text-align: right;\">\n",
       "      <th></th>\n",
       "      <th>location</th>\n",
       "      <th>duration</th>\n",
       "      <th>label</th>\n",
       "    </tr>\n",
       "  </thead>\n",
       "  <tbody>\n",
       "    <tr>\n",
       "      <th>0</th>\n",
       "      <td>1</td>\n",
       "      <td>51.05</td>\n",
       "      <td>Lewis</td>\n",
       "    </tr>\n",
       "    <tr>\n",
       "      <th>1</th>\n",
       "      <td>1</td>\n",
       "      <td>54.58</td>\n",
       "      <td>Lewis</td>\n",
       "    </tr>\n",
       "    <tr>\n",
       "      <th>2</th>\n",
       "      <td>1</td>\n",
       "      <td>52.34</td>\n",
       "      <td>Lewis</td>\n",
       "    </tr>\n",
       "    <tr>\n",
       "      <th>3</th>\n",
       "      <td>1</td>\n",
       "      <td>50.24</td>\n",
       "      <td>Lewis</td>\n",
       "    </tr>\n",
       "    <tr>\n",
       "      <th>4</th>\n",
       "      <td>1</td>\n",
       "      <td>53.25</td>\n",
       "      <td>Lewis</td>\n",
       "    </tr>\n",
       "    <tr>\n",
       "      <th>...</th>\n",
       "      <td>...</td>\n",
       "      <td>...</td>\n",
       "      <td>...</td>\n",
       "    </tr>\n",
       "    <tr>\n",
       "      <th>1235</th>\n",
       "      <td>7</td>\n",
       "      <td>109.97</td>\n",
       "      <td>Beagle</td>\n",
       "    </tr>\n",
       "    <tr>\n",
       "      <th>1236</th>\n",
       "      <td>7</td>\n",
       "      <td>75.13</td>\n",
       "      <td>Beagle</td>\n",
       "    </tr>\n",
       "    <tr>\n",
       "      <th>1237</th>\n",
       "      <td>7</td>\n",
       "      <td>113.49</td>\n",
       "      <td>Beagle</td>\n",
       "    </tr>\n",
       "    <tr>\n",
       "      <th>1238</th>\n",
       "      <td>7</td>\n",
       "      <td>117.44</td>\n",
       "      <td>Beagle</td>\n",
       "    </tr>\n",
       "    <tr>\n",
       "      <th>1239</th>\n",
       "      <td>7</td>\n",
       "      <td>89.95</td>\n",
       "      <td>Beagle</td>\n",
       "    </tr>\n",
       "  </tbody>\n",
       "</table>\n",
       "<p>1240 rows × 3 columns</p>\n",
       "</div>"
      ],
      "text/plain": [
       "      location  duration   label\n",
       "0            1     51.05   Lewis\n",
       "1            1     54.58   Lewis\n",
       "2            1     52.34   Lewis\n",
       "3            1     50.24   Lewis\n",
       "4            1     53.25   Lewis\n",
       "...        ...       ...     ...\n",
       "1235         7    109.97  Beagle\n",
       "1236         7     75.13  Beagle\n",
       "1237         7    113.49  Beagle\n",
       "1238         7    117.44  Beagle\n",
       "1239         7     89.95  Beagle\n",
       "\n",
       "[1240 rows x 3 columns]"
      ]
     },
     "execution_count": 20,
     "metadata": {},
     "output_type": "execute_result"
    }
   ],
   "source": [
    "new_df = df.merge(df_vals_locs, on = 'location')\n",
    "\n",
    "new_df"
   ]
  },
  {
   "cell_type": "code",
   "execution_count": 22,
   "id": "b043841e",
   "metadata": {},
   "outputs": [
    {
     "data": {
      "text/plain": [
       "<AxesSubplot:xlabel='label', ylabel='duration'>"
      ]
     },
     "execution_count": 22,
     "metadata": {},
     "output_type": "execute_result"
    },
    {
     "data": {
      "image/png": "[encoded data removed]",
      "text/plain": [
       "<Figure size 640x480 with 1 Axes>"
      ]
     },
     "metadata": {},
     "output_type": "display_data"
    }
   ],
   "source": [
    "sns.pointplot(data = new_df, x = 'label', y = 'duration', palette = 'twilight')"
   ]
  },
  {
   "cell_type": "code",
   "execution_count": null,
   "id": "adcd52e5",
   "metadata": {},
   "outputs": [],
   "source": []
  }
 ],
 "metadata": {
  "kernelspec": {
   "display_name": "Python 3 (ipykernel)",
   "language": "python",
   "name": "python3"
  },
  "language_info": {
   "codemirror_mode": {
    "name": "ipython",
    "version": 3
   },
   "file_extension": ".py",
   "mimetype": "text/x-python",
   "name": "python",
   "nbconvert_exporter": "python",
   "pygments_lexer": "ipython3",
   "version": "3.9.9"
  }
 },
 "nbformat": 4,
 "nbformat_minor": 5
}
