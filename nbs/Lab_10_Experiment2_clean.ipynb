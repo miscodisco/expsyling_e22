{
 "cells": [
  {
   "cell_type": "markdown",
   "id": "122ff235",
   "metadata": {},
   "source": [
    "# Lab Report 2\n",
    "\n",
    "**Research question 1**: Can we observe a masked priming effect (in a non-native language)?\n",
    "\n",
    "**Research question 2**: If there is a masked priming effect, does it increase, decrease, or stay the same after a short period of time (80 ms)?\n",
    "\n",
    "**Research question 3**: If there is a masked priming effect, is there also a semantic priming effect (in the incongruent pairs)?\n",
    "\n",
    "Other things to check:\n",
    "\n",
    "- did participants improve over time (both within blocks and over all trials)?\n",
    "- did it make a difference whether participants were in block A or block B (short SOA then long vs. long SOA then short)?\n",
    "- ???\n",
    "\n",
    "Two main communications: short and long Stimulus Onset Asynchrony (SOA)\n",
    "\n",
    "- Fixation: ###### 539 ms\n",
    "- Mask: ##### 32 ms\n",
    "- Prime: 32 ms\n",
    "- Mask: ##### 32 ms\n",
    "- (short SOA condition): 0 ms break. Proceed directly to target\n",
    "- (long condition): Blank screen: 80 ms\n",
    "- Target: timeout after 2000 ms\n",
    "\n",
    "30 prime/target pairs in the short condition and 30 pairs in the long condition\n",
    "\n",
    "Approx. half the participants saw the short SOA first (group A), and half saw the long SOA first (group B).\n",
    "\n",
    "Congruent and Incongruent stimuli were fully randomised within each SOA block\n",
    "\n",
    "Stimuli were taken from: \n",
    "\n",
    "Peel, H. J., Royals, K. A., & Chouinard, P. A. (2022). The effects of word identity, case, and SOA on word priming in a subliminal context. _Journal of Psycholinguistic Research, 51_(1), 1-15."
   ]
  },
  {
   "cell_type": "code",
   "execution_count": 5,
   "id": "23acd900",
   "metadata": {},
   "outputs": [],
   "source": [
    "# Setup\n",
    "\n",
    "import numpy as np\n",
    "import pandas as pd\n",
    "import pingouin as pg\n",
    "import seaborn as sns\n",
    "\n",
    "import warnings\n",
    "warnings.filterwarnings('ignore')"
   ]
  },
  {
   "cell_type": "markdown",
   "id": "c16a4a75",
   "metadata": {},
   "source": [
    "Combine the group A and group B data"
   ]
  },
  {
   "cell_type": "code",
   "execution_count": 98,
   "id": "ce0e3beb",
   "metadata": {},
   "outputs": [
    {
     "data": {
      "text/html": [
       "<div>\n",
       "<style scoped>\n",
       "    .dataframe tbody tr th:only-of-type {\n",
       "        vertical-align: middle;\n",
       "    }\n",
       "\n",
       "    .dataframe tbody tr th {\n",
       "        vertical-align: top;\n",
       "    }\n",
       "\n",
       "    .dataframe thead th {\n",
       "        text-align: right;\n",
       "    }\n",
       "</style>\n",
       "<table border=\"1\" class=\"dataframe\">\n",
       "  <thead>\n",
       "    <tr style=\"text-align: right;\">\n",
       "      <th></th>\n",
       "      <th>id</th>\n",
       "      <th>counter_balance</th>\n",
       "      <th>condition</th>\n",
       "      <th>rt</th>\n",
       "      <th>congruence</th>\n",
       "      <th>soa</th>\n",
       "      <th>correct</th>\n",
       "      <th>target</th>\n",
       "      <th>prime</th>\n",
       "    </tr>\n",
       "  </thead>\n",
       "  <tbody>\n",
       "    <tr>\n",
       "      <th>4</th>\n",
       "      <td>799</td>\n",
       "      <td>A</td>\n",
       "      <td>Con_Synth</td>\n",
       "      <td>824</td>\n",
       "      <td>congruent</td>\n",
       "      <td>short</td>\n",
       "      <td>1</td>\n",
       "      <td>ROPE</td>\n",
       "      <td>rope</td>\n",
       "    </tr>\n",
       "    <tr>\n",
       "      <th>5</th>\n",
       "      <td>799</td>\n",
       "      <td>A</td>\n",
       "      <td>Con_Nat</td>\n",
       "      <td>796</td>\n",
       "      <td>congruent</td>\n",
       "      <td>short</td>\n",
       "      <td>1</td>\n",
       "      <td>PUPPY</td>\n",
       "      <td>puppy</td>\n",
       "    </tr>\n",
       "    <tr>\n",
       "      <th>6</th>\n",
       "      <td>799</td>\n",
       "      <td>A</td>\n",
       "      <td>Inc_Synth_Synth</td>\n",
       "      <td>881</td>\n",
       "      <td>incongruent</td>\n",
       "      <td>short</td>\n",
       "      <td>0</td>\n",
       "      <td>PLAZA</td>\n",
       "      <td>silo</td>\n",
       "    </tr>\n",
       "    <tr>\n",
       "      <th>7</th>\n",
       "      <td>799</td>\n",
       "      <td>A</td>\n",
       "      <td>Con_Synth</td>\n",
       "      <td>1243</td>\n",
       "      <td>congruent</td>\n",
       "      <td>short</td>\n",
       "      <td>1</td>\n",
       "      <td>TOAST</td>\n",
       "      <td>toast</td>\n",
       "    </tr>\n",
       "    <tr>\n",
       "      <th>8</th>\n",
       "      <td>799</td>\n",
       "      <td>A</td>\n",
       "      <td>Con_Nat</td>\n",
       "      <td>1956</td>\n",
       "      <td>congruent</td>\n",
       "      <td>short</td>\n",
       "      <td>1</td>\n",
       "      <td>CAVE</td>\n",
       "      <td>cave</td>\n",
       "    </tr>\n",
       "    <tr>\n",
       "      <th>9</th>\n",
       "      <td>799</td>\n",
       "      <td>A</td>\n",
       "      <td>Con_Synth</td>\n",
       "      <td>1963</td>\n",
       "      <td>congruent</td>\n",
       "      <td>short</td>\n",
       "      <td>1</td>\n",
       "      <td>TANK</td>\n",
       "      <td>tank</td>\n",
       "    </tr>\n",
       "    <tr>\n",
       "      <th>10</th>\n",
       "      <td>799</td>\n",
       "      <td>A</td>\n",
       "      <td>Inc_Synth_Synth</td>\n",
       "      <td>1112</td>\n",
       "      <td>incongruent</td>\n",
       "      <td>short</td>\n",
       "      <td>0</td>\n",
       "      <td>RAZOR</td>\n",
       "      <td>wharf</td>\n",
       "    </tr>\n",
       "    <tr>\n",
       "      <th>11</th>\n",
       "      <td>799</td>\n",
       "      <td>A</td>\n",
       "      <td>Con_Nat</td>\n",
       "      <td>1257</td>\n",
       "      <td>congruent</td>\n",
       "      <td>short</td>\n",
       "      <td>1</td>\n",
       "      <td>CORN</td>\n",
       "      <td>corn</td>\n",
       "    </tr>\n",
       "    <tr>\n",
       "      <th>12</th>\n",
       "      <td>799</td>\n",
       "      <td>A</td>\n",
       "      <td>Con_Nat</td>\n",
       "      <td>1043</td>\n",
       "      <td>congruent</td>\n",
       "      <td>short</td>\n",
       "      <td>1</td>\n",
       "      <td>SEED</td>\n",
       "      <td>seed</td>\n",
       "    </tr>\n",
       "    <tr>\n",
       "      <th>13</th>\n",
       "      <td>799</td>\n",
       "      <td>A</td>\n",
       "      <td>Inc_Nat_Nat</td>\n",
       "      <td>2019</td>\n",
       "      <td>incongruent</td>\n",
       "      <td>short</td>\n",
       "      <td>0</td>\n",
       "      <td>TWIG</td>\n",
       "      <td>cobra</td>\n",
       "    </tr>\n",
       "    <tr>\n",
       "      <th>14</th>\n",
       "      <td>799</td>\n",
       "      <td>A</td>\n",
       "      <td>Inc_Synth_Nat</td>\n",
       "      <td>1127</td>\n",
       "      <td>incongruent</td>\n",
       "      <td>short</td>\n",
       "      <td>0</td>\n",
       "      <td>VINE</td>\n",
       "      <td>arena</td>\n",
       "    </tr>\n",
       "    <tr>\n",
       "      <th>15</th>\n",
       "      <td>799</td>\n",
       "      <td>A</td>\n",
       "      <td>Con_Nat</td>\n",
       "      <td>957</td>\n",
       "      <td>congruent</td>\n",
       "      <td>short</td>\n",
       "      <td>1</td>\n",
       "      <td>DAISY</td>\n",
       "      <td>daisy</td>\n",
       "    </tr>\n",
       "    <tr>\n",
       "      <th>16</th>\n",
       "      <td>799</td>\n",
       "      <td>A</td>\n",
       "      <td>Con_Nat</td>\n",
       "      <td>874</td>\n",
       "      <td>congruent</td>\n",
       "      <td>short</td>\n",
       "      <td>1</td>\n",
       "      <td>GOOSE</td>\n",
       "      <td>goose</td>\n",
       "    </tr>\n",
       "    <tr>\n",
       "      <th>17</th>\n",
       "      <td>799</td>\n",
       "      <td>A</td>\n",
       "      <td>Con_Nat</td>\n",
       "      <td>1252</td>\n",
       "      <td>congruent</td>\n",
       "      <td>short</td>\n",
       "      <td>1</td>\n",
       "      <td>GRASS</td>\n",
       "      <td>grass</td>\n",
       "    </tr>\n",
       "    <tr>\n",
       "      <th>18</th>\n",
       "      <td>799</td>\n",
       "      <td>A</td>\n",
       "      <td>Con_Nat</td>\n",
       "      <td>749</td>\n",
       "      <td>congruent</td>\n",
       "      <td>short</td>\n",
       "      <td>1</td>\n",
       "      <td>TIGER</td>\n",
       "      <td>tiger</td>\n",
       "    </tr>\n",
       "    <tr>\n",
       "      <th>19</th>\n",
       "      <td>799</td>\n",
       "      <td>A</td>\n",
       "      <td>Inc_Nat_Synth</td>\n",
       "      <td>1204</td>\n",
       "      <td>incongruent</td>\n",
       "      <td>short</td>\n",
       "      <td>1</td>\n",
       "      <td>SHED</td>\n",
       "      <td>peach</td>\n",
       "    </tr>\n",
       "    <tr>\n",
       "      <th>20</th>\n",
       "      <td>799</td>\n",
       "      <td>A</td>\n",
       "      <td>Inc_Synth_Synth</td>\n",
       "      <td>688</td>\n",
       "      <td>incongruent</td>\n",
       "      <td>short</td>\n",
       "      <td>0</td>\n",
       "      <td>SOFA</td>\n",
       "      <td>kiosk</td>\n",
       "    </tr>\n",
       "    <tr>\n",
       "      <th>21</th>\n",
       "      <td>799</td>\n",
       "      <td>A</td>\n",
       "      <td>Con_Nat</td>\n",
       "      <td>881</td>\n",
       "      <td>congruent</td>\n",
       "      <td>short</td>\n",
       "      <td>1</td>\n",
       "      <td>DEER</td>\n",
       "      <td>deer</td>\n",
       "    </tr>\n",
       "    <tr>\n",
       "      <th>22</th>\n",
       "      <td>799</td>\n",
       "      <td>A</td>\n",
       "      <td>Con_Nat</td>\n",
       "      <td>2001</td>\n",
       "      <td>congruent</td>\n",
       "      <td>short</td>\n",
       "      <td>0</td>\n",
       "      <td>CREEK</td>\n",
       "      <td>creek</td>\n",
       "    </tr>\n",
       "    <tr>\n",
       "      <th>23</th>\n",
       "      <td>799</td>\n",
       "      <td>A</td>\n",
       "      <td>Con_Synth</td>\n",
       "      <td>1028</td>\n",
       "      <td>congruent</td>\n",
       "      <td>short</td>\n",
       "      <td>1</td>\n",
       "      <td>CABLE</td>\n",
       "      <td>cable</td>\n",
       "    </tr>\n",
       "    <tr>\n",
       "      <th>24</th>\n",
       "      <td>799</td>\n",
       "      <td>A</td>\n",
       "      <td>Inc_Nat_Synth</td>\n",
       "      <td>999</td>\n",
       "      <td>incongruent</td>\n",
       "      <td>short</td>\n",
       "      <td>1</td>\n",
       "      <td>YACHT</td>\n",
       "      <td>crow</td>\n",
       "    </tr>\n",
       "    <tr>\n",
       "      <th>25</th>\n",
       "      <td>799</td>\n",
       "      <td>A</td>\n",
       "      <td>Inc_Synth_Synth</td>\n",
       "      <td>1325</td>\n",
       "      <td>incongruent</td>\n",
       "      <td>short</td>\n",
       "      <td>0</td>\n",
       "      <td>SHELF</td>\n",
       "      <td>spade</td>\n",
       "    </tr>\n",
       "    <tr>\n",
       "      <th>26</th>\n",
       "      <td>799</td>\n",
       "      <td>A</td>\n",
       "      <td>Inc_Synth_Nat</td>\n",
       "      <td>988</td>\n",
       "      <td>incongruent</td>\n",
       "      <td>short</td>\n",
       "      <td>1</td>\n",
       "      <td>CORAL</td>\n",
       "      <td>sewer</td>\n",
       "    </tr>\n",
       "    <tr>\n",
       "      <th>27</th>\n",
       "      <td>799</td>\n",
       "      <td>A</td>\n",
       "      <td>Con_Nat</td>\n",
       "      <td>1251</td>\n",
       "      <td>congruent</td>\n",
       "      <td>short</td>\n",
       "      <td>1</td>\n",
       "      <td>WORM</td>\n",
       "      <td>worm</td>\n",
       "    </tr>\n",
       "    <tr>\n",
       "      <th>28</th>\n",
       "      <td>799</td>\n",
       "      <td>A</td>\n",
       "      <td>Con_Synth</td>\n",
       "      <td>1205</td>\n",
       "      <td>congruent</td>\n",
       "      <td>short</td>\n",
       "      <td>1</td>\n",
       "      <td>GATE</td>\n",
       "      <td>gate</td>\n",
       "    </tr>\n",
       "    <tr>\n",
       "      <th>29</th>\n",
       "      <td>799</td>\n",
       "      <td>A</td>\n",
       "      <td>Inc_Nat_Nat</td>\n",
       "      <td>2017</td>\n",
       "      <td>incongruent</td>\n",
       "      <td>short</td>\n",
       "      <td>0</td>\n",
       "      <td>GULLY</td>\n",
       "      <td>lime</td>\n",
       "    </tr>\n",
       "    <tr>\n",
       "      <th>30</th>\n",
       "      <td>799</td>\n",
       "      <td>A</td>\n",
       "      <td>Con_Nat</td>\n",
       "      <td>1167</td>\n",
       "      <td>congruent</td>\n",
       "      <td>short</td>\n",
       "      <td>0</td>\n",
       "      <td>HAWK</td>\n",
       "      <td>hawk</td>\n",
       "    </tr>\n",
       "    <tr>\n",
       "      <th>31</th>\n",
       "      <td>799</td>\n",
       "      <td>A</td>\n",
       "      <td>Con_Synth</td>\n",
       "      <td>1676</td>\n",
       "      <td>congruent</td>\n",
       "      <td>short</td>\n",
       "      <td>1</td>\n",
       "      <td>SWORD</td>\n",
       "      <td>sword</td>\n",
       "    </tr>\n",
       "    <tr>\n",
       "      <th>32</th>\n",
       "      <td>799</td>\n",
       "      <td>A</td>\n",
       "      <td>Con_Synth</td>\n",
       "      <td>951</td>\n",
       "      <td>congruent</td>\n",
       "      <td>short</td>\n",
       "      <td>1</td>\n",
       "      <td>DRUG</td>\n",
       "      <td>drug</td>\n",
       "    </tr>\n",
       "    <tr>\n",
       "      <th>33</th>\n",
       "      <td>799</td>\n",
       "      <td>A</td>\n",
       "      <td>Inc_Nat_Synth</td>\n",
       "      <td>1166</td>\n",
       "      <td>incongruent</td>\n",
       "      <td>short</td>\n",
       "      <td>1</td>\n",
       "      <td>GLOVE</td>\n",
       "      <td>toad</td>\n",
       "    </tr>\n",
       "    <tr>\n",
       "      <th>34</th>\n",
       "      <td>799</td>\n",
       "      <td>A</td>\n",
       "      <td>Inc_Synth_Synth</td>\n",
       "      <td>1004</td>\n",
       "      <td>incongruent</td>\n",
       "      <td>short</td>\n",
       "      <td>0</td>\n",
       "      <td>SPOON</td>\n",
       "      <td>patio</td>\n",
       "    </tr>\n",
       "    <tr>\n",
       "      <th>35</th>\n",
       "      <td>799</td>\n",
       "      <td>A</td>\n",
       "      <td>Con_Synth</td>\n",
       "      <td>831</td>\n",
       "      <td>congruent</td>\n",
       "      <td>short</td>\n",
       "      <td>0</td>\n",
       "      <td>BREAD</td>\n",
       "      <td>bread</td>\n",
       "    </tr>\n",
       "    <tr>\n",
       "      <th>36</th>\n",
       "      <td>799</td>\n",
       "      <td>A</td>\n",
       "      <td>Con_Nat</td>\n",
       "      <td>1298</td>\n",
       "      <td>congruent</td>\n",
       "      <td>short</td>\n",
       "      <td>1</td>\n",
       "      <td>WHALE</td>\n",
       "      <td>whale</td>\n",
       "    </tr>\n",
       "    <tr>\n",
       "      <th>37</th>\n",
       "      <td>799</td>\n",
       "      <td>A</td>\n",
       "      <td>Inc_Nat_Nat</td>\n",
       "      <td>860</td>\n",
       "      <td>incongruent</td>\n",
       "      <td>short</td>\n",
       "      <td>0</td>\n",
       "      <td>OTTER</td>\n",
       "      <td>berry</td>\n",
       "    </tr>\n",
       "    <tr>\n",
       "      <th>38</th>\n",
       "      <td>799</td>\n",
       "      <td>A</td>\n",
       "      <td>Con_Synth</td>\n",
       "      <td>1480</td>\n",
       "      <td>congruent</td>\n",
       "      <td>short</td>\n",
       "      <td>1</td>\n",
       "      <td>BIKE</td>\n",
       "      <td>bike</td>\n",
       "    </tr>\n",
       "    <tr>\n",
       "      <th>39</th>\n",
       "      <td>799</td>\n",
       "      <td>A</td>\n",
       "      <td>Inc_Nat_Synth</td>\n",
       "      <td>984</td>\n",
       "      <td>incongruent</td>\n",
       "      <td>short</td>\n",
       "      <td>1</td>\n",
       "      <td>COIN</td>\n",
       "      <td>leaf</td>\n",
       "    </tr>\n",
       "    <tr>\n",
       "      <th>40</th>\n",
       "      <td>799</td>\n",
       "      <td>A</td>\n",
       "      <td>Inc_Nat_Nat</td>\n",
       "      <td>797</td>\n",
       "      <td>incongruent</td>\n",
       "      <td>short</td>\n",
       "      <td>0</td>\n",
       "      <td>LLAMA</td>\n",
       "      <td>grape</td>\n",
       "    </tr>\n",
       "    <tr>\n",
       "      <th>41</th>\n",
       "      <td>799</td>\n",
       "      <td>A</td>\n",
       "      <td>Inc_Synth_Nat</td>\n",
       "      <td>1187</td>\n",
       "      <td>incongruent</td>\n",
       "      <td>short</td>\n",
       "      <td>1</td>\n",
       "      <td>SNAIL</td>\n",
       "      <td>harp</td>\n",
       "    </tr>\n",
       "    <tr>\n",
       "      <th>42</th>\n",
       "      <td>799</td>\n",
       "      <td>A</td>\n",
       "      <td>Inc_Synth_Nat</td>\n",
       "      <td>775</td>\n",
       "      <td>incongruent</td>\n",
       "      <td>short</td>\n",
       "      <td>1</td>\n",
       "      <td>HUSKY</td>\n",
       "      <td>rake</td>\n",
       "    </tr>\n",
       "    <tr>\n",
       "      <th>43</th>\n",
       "      <td>799</td>\n",
       "      <td>A</td>\n",
       "      <td>Inc_Nat_Nat</td>\n",
       "      <td>1013</td>\n",
       "      <td>incongruent</td>\n",
       "      <td>short</td>\n",
       "      <td>1</td>\n",
       "      <td>PETAL</td>\n",
       "      <td>fern</td>\n",
       "    </tr>\n",
       "    <tr>\n",
       "      <th>44</th>\n",
       "      <td>799</td>\n",
       "      <td>A</td>\n",
       "      <td>Inc_Synth_Nat</td>\n",
       "      <td>860</td>\n",
       "      <td>incongruent</td>\n",
       "      <td>short</td>\n",
       "      <td>1</td>\n",
       "      <td>MOTH</td>\n",
       "      <td>spear</td>\n",
       "    </tr>\n",
       "    <tr>\n",
       "      <th>45</th>\n",
       "      <td>799</td>\n",
       "      <td>A</td>\n",
       "      <td>Inc_Nat_Synth</td>\n",
       "      <td>669</td>\n",
       "      <td>incongruent</td>\n",
       "      <td>short</td>\n",
       "      <td>1</td>\n",
       "      <td>BENCH</td>\n",
       "      <td>camel</td>\n",
       "    </tr>\n",
       "    <tr>\n",
       "      <th>46</th>\n",
       "      <td>799</td>\n",
       "      <td>A</td>\n",
       "      <td>Inc_Synth_Synth</td>\n",
       "      <td>1177</td>\n",
       "      <td>incongruent</td>\n",
       "      <td>short</td>\n",
       "      <td>0</td>\n",
       "      <td>CLOTH</td>\n",
       "      <td>sash</td>\n",
       "    </tr>\n",
       "    <tr>\n",
       "      <th>47</th>\n",
       "      <td>799</td>\n",
       "      <td>A</td>\n",
       "      <td>Con_Synth</td>\n",
       "      <td>927</td>\n",
       "      <td>congruent</td>\n",
       "      <td>short</td>\n",
       "      <td>1</td>\n",
       "      <td>TOWER</td>\n",
       "      <td>tower</td>\n",
       "    </tr>\n",
       "    <tr>\n",
       "      <th>48</th>\n",
       "      <td>799</td>\n",
       "      <td>A</td>\n",
       "      <td>Con_Nat</td>\n",
       "      <td>702</td>\n",
       "      <td>congruent</td>\n",
       "      <td>short</td>\n",
       "      <td>1</td>\n",
       "      <td>FROG</td>\n",
       "      <td>frog</td>\n",
       "    </tr>\n",
       "    <tr>\n",
       "      <th>49</th>\n",
       "      <td>799</td>\n",
       "      <td>A</td>\n",
       "      <td>Con_Nat</td>\n",
       "      <td>839</td>\n",
       "      <td>congruent</td>\n",
       "      <td>short</td>\n",
       "      <td>1</td>\n",
       "      <td>SOIL</td>\n",
       "      <td>soil</td>\n",
       "    </tr>\n",
       "    <tr>\n",
       "      <th>50</th>\n",
       "      <td>799</td>\n",
       "      <td>A</td>\n",
       "      <td>Con_Synth</td>\n",
       "      <td>1385</td>\n",
       "      <td>congruent</td>\n",
       "      <td>short</td>\n",
       "      <td>1</td>\n",
       "      <td>COAT</td>\n",
       "      <td>coat</td>\n",
       "    </tr>\n",
       "    <tr>\n",
       "      <th>51</th>\n",
       "      <td>799</td>\n",
       "      <td>A</td>\n",
       "      <td>Inc_Nat_Nat</td>\n",
       "      <td>2001</td>\n",
       "      <td>incongruent</td>\n",
       "      <td>short</td>\n",
       "      <td>0</td>\n",
       "      <td>DINGO</td>\n",
       "      <td>poppy</td>\n",
       "    </tr>\n",
       "    <tr>\n",
       "      <th>52</th>\n",
       "      <td>799</td>\n",
       "      <td>A</td>\n",
       "      <td>Con_Synth</td>\n",
       "      <td>1609</td>\n",
       "      <td>congruent</td>\n",
       "      <td>short</td>\n",
       "      <td>0</td>\n",
       "      <td>MAIL</td>\n",
       "      <td>mail</td>\n",
       "    </tr>\n",
       "    <tr>\n",
       "      <th>53</th>\n",
       "      <td>799</td>\n",
       "      <td>A</td>\n",
       "      <td>Nat_Nat_Synth</td>\n",
       "      <td>1030</td>\n",
       "      <td>incongruent</td>\n",
       "      <td>short</td>\n",
       "      <td>0</td>\n",
       "      <td>SLOTH</td>\n",
       "      <td>finch</td>\n",
       "    </tr>\n",
       "  </tbody>\n",
       "</table>\n",
       "</div>"
      ],
      "text/plain": [
       "     id counter_balance        condition    rt   congruence    soa  correct  \\\n",
       "4   799               A        Con_Synth   824    congruent  short        1   \n",
       "5   799               A          Con_Nat   796    congruent  short        1   \n",
       "6   799               A  Inc_Synth_Synth   881  incongruent  short        0   \n",
       "7   799               A        Con_Synth  1243    congruent  short        1   \n",
       "8   799               A          Con_Nat  1956    congruent  short        1   \n",
       "9   799               A        Con_Synth  1963    congruent  short        1   \n",
       "10  799               A  Inc_Synth_Synth  1112  incongruent  short        0   \n",
       "11  799               A          Con_Nat  1257    congruent  short        1   \n",
       "12  799               A          Con_Nat  1043    congruent  short        1   \n",
       "13  799               A      Inc_Nat_Nat  2019  incongruent  short        0   \n",
       "14  799               A    Inc_Synth_Nat  1127  incongruent  short        0   \n",
       "15  799               A          Con_Nat   957    congruent  short        1   \n",
       "16  799               A          Con_Nat   874    congruent  short        1   \n",
       "17  799               A          Con_Nat  1252    congruent  short        1   \n",
       "18  799               A          Con_Nat   749    congruent  short        1   \n",
       "19  799               A    Inc_Nat_Synth  1204  incongruent  short        1   \n",
       "20  799               A  Inc_Synth_Synth   688  incongruent  short        0   \n",
       "21  799               A          Con_Nat   881    congruent  short        1   \n",
       "22  799               A          Con_Nat  2001    congruent  short        0   \n",
       "23  799               A        Con_Synth  1028    congruent  short        1   \n",
       "24  799               A    Inc_Nat_Synth   999  incongruent  short        1   \n",
       "25  799               A  Inc_Synth_Synth  1325  incongruent  short        0   \n",
       "26  799               A    Inc_Synth_Nat   988  incongruent  short        1   \n",
       "27  799               A          Con_Nat  1251    congruent  short        1   \n",
       "28  799               A        Con_Synth  1205    congruent  short        1   \n",
       "29  799               A      Inc_Nat_Nat  2017  incongruent  short        0   \n",
       "30  799               A          Con_Nat  1167    congruent  short        0   \n",
       "31  799               A        Con_Synth  1676    congruent  short        1   \n",
       "32  799               A        Con_Synth   951    congruent  short        1   \n",
       "33  799               A    Inc_Nat_Synth  1166  incongruent  short        1   \n",
       "34  799               A  Inc_Synth_Synth  1004  incongruent  short        0   \n",
       "35  799               A        Con_Synth   831    congruent  short        0   \n",
       "36  799               A          Con_Nat  1298    congruent  short        1   \n",
       "37  799               A      Inc_Nat_Nat   860  incongruent  short        0   \n",
       "38  799               A        Con_Synth  1480    congruent  short        1   \n",
       "39  799               A    Inc_Nat_Synth   984  incongruent  short        1   \n",
       "40  799               A      Inc_Nat_Nat   797  incongruent  short        0   \n",
       "41  799               A    Inc_Synth_Nat  1187  incongruent  short        1   \n",
       "42  799               A    Inc_Synth_Nat   775  incongruent  short        1   \n",
       "43  799               A      Inc_Nat_Nat  1013  incongruent  short        1   \n",
       "44  799               A    Inc_Synth_Nat   860  incongruent  short        1   \n",
       "45  799               A    Inc_Nat_Synth   669  incongruent  short        1   \n",
       "46  799               A  Inc_Synth_Synth  1177  incongruent  short        0   \n",
       "47  799               A        Con_Synth   927    congruent  short        1   \n",
       "48  799               A          Con_Nat   702    congruent  short        1   \n",
       "49  799               A          Con_Nat   839    congruent  short        1   \n",
       "50  799               A        Con_Synth  1385    congruent  short        1   \n",
       "51  799               A      Inc_Nat_Nat  2001  incongruent  short        0   \n",
       "52  799               A        Con_Synth  1609    congruent  short        0   \n",
       "53  799               A    Nat_Nat_Synth  1030  incongruent  short        0   \n",
       "\n",
       "   target  prime  \n",
       "4    ROPE   rope  \n",
       "5   PUPPY  puppy  \n",
       "6   PLAZA   silo  \n",
       "7   TOAST  toast  \n",
       "8    CAVE   cave  \n",
       "9    TANK   tank  \n",
       "10  RAZOR  wharf  \n",
       "11   CORN   corn  \n",
       "12   SEED   seed  \n",
       "13   TWIG  cobra  \n",
       "14   VINE  arena  \n",
       "15  DAISY  daisy  \n",
       "16  GOOSE  goose  \n",
       "17  GRASS  grass  \n",
       "18  TIGER  tiger  \n",
       "19   SHED  peach  \n",
       "20   SOFA  kiosk  \n",
       "21   DEER   deer  \n",
       "22  CREEK  creek  \n",
       "23  CABLE  cable  \n",
       "24  YACHT   crow  \n",
       "25  SHELF  spade  \n",
       "26  CORAL  sewer  \n",
       "27   WORM   worm  \n",
       "28   GATE   gate  \n",
       "29  GULLY   lime  \n",
       "30   HAWK   hawk  \n",
       "31  SWORD  sword  \n",
       "32   DRUG   drug  \n",
       "33  GLOVE   toad  \n",
       "34  SPOON  patio  \n",
       "35  BREAD  bread  \n",
       "36  WHALE  whale  \n",
       "37  OTTER  berry  \n",
       "38   BIKE   bike  \n",
       "39   COIN   leaf  \n",
       "40  LLAMA  grape  \n",
       "41  SNAIL   harp  \n",
       "42  HUSKY   rake  \n",
       "43  PETAL   fern  \n",
       "44   MOTH  spear  \n",
       "45  BENCH  camel  \n",
       "46  CLOTH   sash  \n",
       "47  TOWER  tower  \n",
       "48   FROG   frog  \n",
       "49   SOIL   soil  \n",
       "50   COAT   coat  \n",
       "51  DINGO  poppy  \n",
       "52   MAIL   mail  \n",
       "53  SLOTH  finch  "
      ]
     },
     "execution_count": 98,
     "metadata": {},
     "output_type": "execute_result"
    }
   ],
   "source": [
    "rawA = 'https://raw.githubusercontent.com/ethanweed/ExPsyLing/master/datasets/Masked_repetition_priming/MR_A.csv' \n",
    "rawB = 'https://raw.githubusercontent.com/ethanweed/ExPsyLing/master/datasets/Masked_repetition_priming/MR_B.csv'\n",
    "\n",
    "raw_a = pd.read_csv(rawA)\n",
    "raw_b = pd.read_csv(rawB)\n",
    "\n",
    "df_A = pd.DataFrame({\"id\": raw_a['jatosStudyResultId'],\n",
    "                     \"counter_balance\": raw_a['counterbalance'],\n",
    "                     \"condition\": raw_a['condition'],\n",
    "                     \"rt\": raw_a['response_time'],\n",
    "                     \"congruence\": raw_a['congruence'],\n",
    "                     \"soa\": raw_a['soa_condition'],\n",
    "                     \"correct\": raw_a['correct'],\n",
    "                     \"target\": raw_a['target'],\n",
    "                    \"prime\": raw_a['prime']})\n",
    "df_A = df_A.loc[df_A['soa'] != 'practice']\n",
    "df_A.head()\n",
    "\n",
    "\n",
    "df_B = pd.DataFrame({\"id\": raw_b['jatosStudyResultId'],\n",
    "                     \"counter_balance\": raw_b['counterbalance'],\n",
    "                     \"condition\": raw_b['condition'],\n",
    "                     \"rt\": raw_b['response_time'],\n",
    "                     \"congruence\": raw_b['congruence'],\n",
    "                     \"soa\": raw_b['soa_condition'],\n",
    "                     \"correct\": raw_b['correct'],\n",
    "                    \"target\": raw_b['target'],\n",
    "                    \"prime\": raw_b['prime']})\n",
    "df_B = df_B.loc[df_B['soa'] != 'practice']\n",
    "df_B.head()\n",
    "\n",
    "df = pd.concat([df_A,df_B])\n",
    "df.head(50)"
   ]
  },
  {
   "cell_type": "markdown",
   "id": "1ffc1723",
   "metadata": {},
   "source": [
    "Make a quick plot"
   ]
  },
  {
   "cell_type": "code",
   "execution_count": 7,
   "id": "b04e2fc4",
   "metadata": {
    "scrolled": false
   },
   "outputs": [
    {
     "data": {
      "text/plain": [
       "<AxesSubplot:xlabel='soa', ylabel='rt'>"
      ]
     },
     "execution_count": 7,
     "metadata": {},
     "output_type": "execute_result"
    },
    {
     "data": {
      "image/png": "[encoded data removed]",
      "text/plain": [
       "<Figure size 640x480 with 1 Axes>"
      ]
     },
     "metadata": {},
     "output_type": "display_data"
    }
   ],
   "source": [
    "sns.pointplot(data = df, x = 'soa', y = 'rt', hue = 'congruence')"
   ]
  },
  {
   "cell_type": "markdown",
   "id": "c6d5ec7c",
   "metadata": {},
   "source": [
    "Let's take a look at the individual trials."
   ]
  },
  {
   "cell_type": "code",
   "execution_count": 8,
   "id": "ae3314c3",
   "metadata": {},
   "outputs": [
    {
     "data": {
      "text/plain": [
       "<AxesSubplot:xlabel='soa', ylabel='rt'>"
      ]
     },
     "execution_count": 8,
     "metadata": {},
     "output_type": "execute_result"
    },
    {
     "data": {
      "image/png": "[encoded data removed]",
      "text/plain": [
       "<Figure size 640x480 with 1 Axes>"
      ]
     },
     "metadata": {},
     "output_type": "display_data"
    }
   ],
   "source": [
    "sns.scatterplot(data = df, x = 'soa', y = 'rt', hue = 'congruence')"
   ]
  },
  {
   "cell_type": "markdown",
   "id": "6b815b36",
   "metadata": {},
   "source": [
    "Too many datapoints on top of each other. Can't see anything! Make a different plot:"
   ]
  },
  {
   "cell_type": "code",
   "execution_count": 9,
   "id": "64cb9e0e",
   "metadata": {},
   "outputs": [
    {
     "data": {
      "image/png": "[encoded data removed]",
      "text/plain": [
       "<Figure size 640x480 with 1 Axes>"
      ]
     },
     "metadata": {},
     "output_type": "display_data"
    }
   ],
   "source": [
    "sns.boxplot(data = df, x = 'soa', y = 'rt', hue = 'congruence')\n",
    "sns.despine()"
   ]
  },
  {
   "cell_type": "markdown",
   "id": "2a65e160",
   "metadata": {},
   "source": [
    "Hmm. There are some outliers. Let's try without them.."
   ]
  },
  {
   "cell_type": "code",
   "execution_count": 10,
   "id": "7efbc391",
   "metadata": {
    "scrolled": false
   },
   "outputs": [
    {
     "data": {
      "text/plain": [
       "<AxesSubplot:xlabel='soa', ylabel='rt'>"
      ]
     },
     "execution_count": 10,
     "metadata": {},
     "output_type": "execute_result"
    },
    {
     "data": {
      "image/png": "[encoded data removed]",
      "text/plain": [
       "<Figure size 640x480 with 1 Axes>"
      ]
     },
     "metadata": {},
     "output_type": "display_data"
    }
   ],
   "source": [
    "sns.boxplot(data = df.loc[df['rt'] < 1200], x = 'soa', y = 'rt', hue = 'congruence')"
   ]
  },
  {
   "cell_type": "code",
   "execution_count": 11,
   "id": "f7442fc0",
   "metadata": {
    "scrolled": false
   },
   "outputs": [
    {
     "data": {
      "text/plain": [
       "<AxesSubplot:xlabel='soa', ylabel='rt'>"
      ]
     },
     "execution_count": 11,
     "metadata": {},
     "output_type": "execute_result"
    },
    {
     "data": {
      "image/png": "[encoded data removed]",
      "text/plain": [
       "<Figure size 640x480 with 1 Axes>"
      ]
     },
     "metadata": {},
     "output_type": "display_data"
    }
   ],
   "source": [
    "sns.pointplot(data = df.loc[df['rt'] < 1200], x = 'soa', y = 'rt', hue = 'congruence')"
   ]
  },
  {
   "cell_type": "markdown",
   "id": "260647cc",
   "metadata": {},
   "source": [
    "How many rows of data did we throw away, when we got rid of the \"outliers\"?"
   ]
  },
  {
   "cell_type": "code",
   "execution_count": 12,
   "id": "7df72d8c",
   "metadata": {},
   "outputs": [
    {
     "data": {
      "text/plain": [
       "392"
      ]
     },
     "execution_count": 12,
     "metadata": {},
     "output_type": "execute_result"
    }
   ],
   "source": [
    "df.shape[0] - df.loc[df['rt'] < 1200].shape[0]"
   ]
  },
  {
   "cell_type": "markdown",
   "id": "b92a7f0e",
   "metadata": {},
   "source": [
    "Did all the outliers come from the same person, or lots of different people?"
   ]
  },
  {
   "cell_type": "code",
   "execution_count": 13,
   "id": "45b29943",
   "metadata": {},
   "outputs": [
    {
     "data": {
      "text/plain": [
       "array([799, 796, 795, 794, 789, 788, 784, 777, 772, 770, 769, 802, 800,\n",
       "       798, 797, 792, 791, 786, 783, 779, 776, 773])"
      ]
     },
     "execution_count": 13,
     "metadata": {},
     "output_type": "execute_result"
    }
   ],
   "source": [
    "outliers = df[df['rt'] > 1200]\n",
    "outliers['id'].unique()"
   ]
  },
  {
   "cell_type": "markdown",
   "id": "daf67285",
   "metadata": {},
   "source": [
    "It looks like it was lots of different people. Did _all_ the participants have some scores above 1200 ms? Let's compare the array of ID's of the participants in the full data set with the ID's of the participants who had some RT's longer than 1200 ms, to see if they are exactly the same:"
   ]
  },
  {
   "cell_type": "code",
   "execution_count": 14,
   "id": "4b42ebf5",
   "metadata": {},
   "outputs": [
    {
     "data": {
      "text/plain": [
       "False"
      ]
     },
     "execution_count": 14,
     "metadata": {},
     "output_type": "execute_result"
    }
   ],
   "source": [
    "np.array_equal(outliers['id'].unique(), df['id'].unique())"
   ]
  },
  {
   "cell_type": "markdown",
   "id": "a1919658",
   "metadata": {},
   "source": [
    "Ok, so there were some participants who never took over 1200 ms. Who were they, and how many of them were there?"
   ]
  },
  {
   "cell_type": "code",
   "execution_count": 15,
   "id": "b2c2e2ed",
   "metadata": {},
   "outputs": [
    {
     "data": {
      "text/plain": [
       "[785]"
      ]
     },
     "execution_count": 15,
     "metadata": {},
     "output_type": "execute_result"
    }
   ],
   "source": [
    "speed_demons = [x for x in df['id'].unique() if x not in outliers['id'].unique()]\n",
    "speed_demons"
   ]
  },
  {
   "cell_type": "markdown",
   "id": "b49b0233",
   "metadata": {},
   "source": [
    "Ok, so there was actually only one participant who didn't have at least one \"outlier\" datapoint. Is there anything else unusual about this person's data? Let's plot participant 785's data together with everybody else's data (with outliers removed)."
   ]
  },
  {
   "cell_type": "code",
   "execution_count": 16,
   "id": "da60dbbe",
   "metadata": {},
   "outputs": [
    {
     "data": {
      "text/plain": [
       "<AxesSubplot:xlabel='soa', ylabel='rt'>"
      ]
     },
     "execution_count": 16,
     "metadata": {},
     "output_type": "execute_result"
    },
    {
     "data": {
      "image/png": "[encoded data removed]",
      "text/plain": [
       "<Figure size 640x480 with 1 Axes>"
      ]
     },
     "metadata": {},
     "output_type": "display_data"
    }
   ],
   "source": [
    "\n",
    "sns.pointplot(data = df.loc[((df['rt'] < 1200) & (df['id'] != 785))], \n",
    "              x = 'soa', y = 'rt', \n",
    "              hue = 'congruence')\n",
    "sns.pointplot(data = df.loc[df['id'] == 785], x = 'soa', y = 'rt', hue = 'congruence')"
   ]
  },
  {
   "cell_type": "markdown",
   "id": "ede31883",
   "metadata": {},
   "source": [
    "No, not really. The overall pattern is the same, they are just substantially faster than everybody else. What about their accuracy? Were they fast, but sloppy?"
   ]
  },
  {
   "cell_type": "code",
   "execution_count": 17,
   "id": "4581f32d",
   "metadata": {},
   "outputs": [],
   "source": [
    "def accuracy(data):\n",
    "    correct = len(data[data['correct']== 1])\n",
    "    errors = len(data[data['correct']== 0])\n",
    "    percent_correct = round((correct / (correct + errors)) * 100, 2)\n",
    "    return(percent_correct)"
   ]
  },
  {
   "cell_type": "code",
   "execution_count": 18,
   "id": "f370fbd9",
   "metadata": {},
   "outputs": [
    {
     "data": {
      "text/plain": [
       "74.17"
      ]
     },
     "execution_count": 18,
     "metadata": {},
     "output_type": "execute_result"
    }
   ],
   "source": [
    "accuracy(df.loc[df['id'] == 785])"
   ]
  },
  {
   "cell_type": "code",
   "execution_count": 19,
   "id": "b5483a5a",
   "metadata": {},
   "outputs": [
    {
     "data": {
      "text/plain": [
       "68.22"
      ]
     },
     "execution_count": 19,
     "metadata": {},
     "output_type": "execute_result"
    }
   ],
   "source": [
    "accuracy(df.loc[df['id'] != 785])"
   ]
  },
  {
   "cell_type": "markdown",
   "id": "2358f2f3",
   "metadata": {},
   "source": [
    "No, not only was this person faster than everybody else, they also made fewer mistakes. Now, what happens if we look at the data after removing the trials on which people made mistakes...?"
   ]
  },
  {
   "cell_type": "code",
   "execution_count": 20,
   "id": "b5326311",
   "metadata": {},
   "outputs": [
    {
     "data": {
      "text/plain": [
       "<AxesSubplot:xlabel='soa', ylabel='rt'>"
      ]
     },
     "execution_count": 20,
     "metadata": {},
     "output_type": "execute_result"
    },
    {
     "data": {
      "image/png": "[encoded data removed]",
      "text/plain": [
       "<Figure size 640x480 with 1 Axes>"
      ]
     },
     "metadata": {},
     "output_type": "display_data"
    }
   ],
   "source": [
    "sns.pointplot(data = df.loc[((df['rt'] < 1200) & (df['correct'] == 1))], \n",
    "              x = 'soa', y = 'rt', \n",
    "              hue = 'congruence')"
   ]
  },
  {
   "cell_type": "markdown",
   "id": "87cc367a",
   "metadata": {},
   "source": [
    "Could there be any semantic priming effect in the incongruent data? That is, do \"natural\" primes prime \"natural\" targets, even when they are incongruent?"
   ]
  },
  {
   "cell_type": "code",
   "execution_count": 45,
   "id": "57b5b78f",
   "metadata": {},
   "outputs": [
    {
     "data": {
      "text/plain": [
       "<AxesSubplot:xlabel='condition', ylabel='rt'>"
      ]
     },
     "execution_count": 45,
     "metadata": {},
     "output_type": "execute_result"
    },
    {
     "data": {
      "image/png": "[encoded data removed]",
      "text/plain": [
       "<Figure size 640x480 with 1 Axes>"
      ]
     },
     "metadata": {},
     "output_type": "display_data"
    }
   ],
   "source": [
    "sns.pointplot(data = df.loc[((df['rt'] < 1200) & \n",
    "                             (df['correct'] == 1) & \n",
    "                             (df['congruence'] == 'incongruent'))], \n",
    "              y = 'rt', \n",
    "              x = 'condition')"
   ]
  },
  {
   "cell_type": "markdown",
   "id": "a730255d",
   "metadata": {},
   "source": [
    "Huh. That looks weird. What's going on with that Nat_Nat_Synth?"
   ]
  },
  {
   "cell_type": "code",
   "execution_count": 22,
   "id": "2894c1a1",
   "metadata": {},
   "outputs": [
    {
     "data": {
      "text/html": [
       "<div>\n",
       "<style scoped>\n",
       "    .dataframe tbody tr th:only-of-type {\n",
       "        vertical-align: middle;\n",
       "    }\n",
       "\n",
       "    .dataframe tbody tr th {\n",
       "        vertical-align: top;\n",
       "    }\n",
       "\n",
       "    .dataframe thead th {\n",
       "        text-align: right;\n",
       "    }\n",
       "</style>\n",
       "<table border=\"1\" class=\"dataframe\">\n",
       "  <thead>\n",
       "    <tr style=\"text-align: right;\">\n",
       "      <th></th>\n",
       "      <th>id</th>\n",
       "      <th>counter_balance</th>\n",
       "      <th>condition</th>\n",
       "      <th>rt</th>\n",
       "      <th>congruence</th>\n",
       "      <th>soa</th>\n",
       "      <th>correct</th>\n",
       "    </tr>\n",
       "  </thead>\n",
       "  <tbody>\n",
       "    <tr>\n",
       "      <th>53</th>\n",
       "      <td>799</td>\n",
       "      <td>A</td>\n",
       "      <td>Nat_Nat_Synth</td>\n",
       "      <td>1030</td>\n",
       "      <td>incongruent</td>\n",
       "      <td>short</td>\n",
       "      <td>0</td>\n",
       "    </tr>\n",
       "    <tr>\n",
       "      <th>176</th>\n",
       "      <td>796</td>\n",
       "      <td>A</td>\n",
       "      <td>Nat_Nat_Synth</td>\n",
       "      <td>1080</td>\n",
       "      <td>incongruent</td>\n",
       "      <td>short</td>\n",
       "      <td>0</td>\n",
       "    </tr>\n",
       "    <tr>\n",
       "      <th>301</th>\n",
       "      <td>795</td>\n",
       "      <td>A</td>\n",
       "      <td>Nat_Nat_Synth</td>\n",
       "      <td>1226</td>\n",
       "      <td>incongruent</td>\n",
       "      <td>short</td>\n",
       "      <td>0</td>\n",
       "    </tr>\n",
       "    <tr>\n",
       "      <th>408</th>\n",
       "      <td>794</td>\n",
       "      <td>A</td>\n",
       "      <td>Nat_Nat_Synth</td>\n",
       "      <td>1964</td>\n",
       "      <td>incongruent</td>\n",
       "      <td>short</td>\n",
       "      <td>1</td>\n",
       "    </tr>\n",
       "    <tr>\n",
       "      <th>520</th>\n",
       "      <td>789</td>\n",
       "      <td>A</td>\n",
       "      <td>Nat_Nat_Synth</td>\n",
       "      <td>782</td>\n",
       "      <td>incongruent</td>\n",
       "      <td>short</td>\n",
       "      <td>0</td>\n",
       "    </tr>\n",
       "    <tr>\n",
       "      <th>639</th>\n",
       "      <td>788</td>\n",
       "      <td>A</td>\n",
       "      <td>Nat_Nat_Synth</td>\n",
       "      <td>901</td>\n",
       "      <td>incongruent</td>\n",
       "      <td>short</td>\n",
       "      <td>0</td>\n",
       "    </tr>\n",
       "    <tr>\n",
       "      <th>764</th>\n",
       "      <td>785</td>\n",
       "      <td>A</td>\n",
       "      <td>Nat_Nat_Synth</td>\n",
       "      <td>590</td>\n",
       "      <td>incongruent</td>\n",
       "      <td>short</td>\n",
       "      <td>0</td>\n",
       "    </tr>\n",
       "    <tr>\n",
       "      <th>876</th>\n",
       "      <td>784</td>\n",
       "      <td>A</td>\n",
       "      <td>Nat_Nat_Synth</td>\n",
       "      <td>862</td>\n",
       "      <td>incongruent</td>\n",
       "      <td>short</td>\n",
       "      <td>0</td>\n",
       "    </tr>\n",
       "    <tr>\n",
       "      <th>1010</th>\n",
       "      <td>777</td>\n",
       "      <td>A</td>\n",
       "      <td>Nat_Nat_Synth</td>\n",
       "      <td>786</td>\n",
       "      <td>incongruent</td>\n",
       "      <td>short</td>\n",
       "      <td>0</td>\n",
       "    </tr>\n",
       "    <tr>\n",
       "      <th>1140</th>\n",
       "      <td>772</td>\n",
       "      <td>A</td>\n",
       "      <td>Nat_Nat_Synth</td>\n",
       "      <td>756</td>\n",
       "      <td>incongruent</td>\n",
       "      <td>short</td>\n",
       "      <td>0</td>\n",
       "    </tr>\n",
       "    <tr>\n",
       "      <th>1272</th>\n",
       "      <td>770</td>\n",
       "      <td>A</td>\n",
       "      <td>Nat_Nat_Synth</td>\n",
       "      <td>862</td>\n",
       "      <td>incongruent</td>\n",
       "      <td>short</td>\n",
       "      <td>0</td>\n",
       "    </tr>\n",
       "    <tr>\n",
       "      <th>1368</th>\n",
       "      <td>769</td>\n",
       "      <td>A</td>\n",
       "      <td>Nat_Nat_Synth</td>\n",
       "      <td>1942</td>\n",
       "      <td>incongruent</td>\n",
       "      <td>short</td>\n",
       "      <td>0</td>\n",
       "    </tr>\n",
       "    <tr>\n",
       "      <th>70</th>\n",
       "      <td>802</td>\n",
       "      <td>B</td>\n",
       "      <td>Nat_Nat_Synth</td>\n",
       "      <td>861</td>\n",
       "      <td>incongruent</td>\n",
       "      <td>short</td>\n",
       "      <td>0</td>\n",
       "    </tr>\n",
       "    <tr>\n",
       "      <th>201</th>\n",
       "      <td>800</td>\n",
       "      <td>B</td>\n",
       "      <td>Nat_Nat_Synth</td>\n",
       "      <td>745</td>\n",
       "      <td>incongruent</td>\n",
       "      <td>short</td>\n",
       "      <td>0</td>\n",
       "    </tr>\n",
       "    <tr>\n",
       "      <th>313</th>\n",
       "      <td>798</td>\n",
       "      <td>B</td>\n",
       "      <td>Nat_Nat_Synth</td>\n",
       "      <td>722</td>\n",
       "      <td>incongruent</td>\n",
       "      <td>short</td>\n",
       "      <td>0</td>\n",
       "    </tr>\n",
       "    <tr>\n",
       "      <th>478</th>\n",
       "      <td>797</td>\n",
       "      <td>B</td>\n",
       "      <td>Nat_Nat_Synth</td>\n",
       "      <td>1128</td>\n",
       "      <td>incongruent</td>\n",
       "      <td>short</td>\n",
       "      <td>0</td>\n",
       "    </tr>\n",
       "    <tr>\n",
       "      <th>577</th>\n",
       "      <td>792</td>\n",
       "      <td>B</td>\n",
       "      <td>Nat_Nat_Synth</td>\n",
       "      <td>826</td>\n",
       "      <td>incongruent</td>\n",
       "      <td>short</td>\n",
       "      <td>0</td>\n",
       "    </tr>\n",
       "    <tr>\n",
       "      <th>743</th>\n",
       "      <td>791</td>\n",
       "      <td>B</td>\n",
       "      <td>Nat_Nat_Synth</td>\n",
       "      <td>1188</td>\n",
       "      <td>incongruent</td>\n",
       "      <td>short</td>\n",
       "      <td>1</td>\n",
       "    </tr>\n",
       "    <tr>\n",
       "      <th>859</th>\n",
       "      <td>786</td>\n",
       "      <td>B</td>\n",
       "      <td>Nat_Nat_Synth</td>\n",
       "      <td>869</td>\n",
       "      <td>incongruent</td>\n",
       "      <td>short</td>\n",
       "      <td>0</td>\n",
       "    </tr>\n",
       "    <tr>\n",
       "      <th>936</th>\n",
       "      <td>783</td>\n",
       "      <td>B</td>\n",
       "      <td>Nat_Nat_Synth</td>\n",
       "      <td>1003</td>\n",
       "      <td>incongruent</td>\n",
       "      <td>short</td>\n",
       "      <td>0</td>\n",
       "    </tr>\n",
       "    <tr>\n",
       "      <th>1075</th>\n",
       "      <td>779</td>\n",
       "      <td>B</td>\n",
       "      <td>Nat_Nat_Synth</td>\n",
       "      <td>913</td>\n",
       "      <td>incongruent</td>\n",
       "      <td>short</td>\n",
       "      <td>0</td>\n",
       "    </tr>\n",
       "    <tr>\n",
       "      <th>1202</th>\n",
       "      <td>776</td>\n",
       "      <td>B</td>\n",
       "      <td>Nat_Nat_Synth</td>\n",
       "      <td>1173</td>\n",
       "      <td>incongruent</td>\n",
       "      <td>short</td>\n",
       "      <td>0</td>\n",
       "    </tr>\n",
       "    <tr>\n",
       "      <th>1358</th>\n",
       "      <td>773</td>\n",
       "      <td>B</td>\n",
       "      <td>Nat_Nat_Synth</td>\n",
       "      <td>1025</td>\n",
       "      <td>incongruent</td>\n",
       "      <td>short</td>\n",
       "      <td>0</td>\n",
       "    </tr>\n",
       "  </tbody>\n",
       "</table>\n",
       "</div>"
      ],
      "text/plain": [
       "       id counter_balance      condition    rt   congruence    soa  correct\n",
       "53    799               A  Nat_Nat_Synth  1030  incongruent  short        0\n",
       "176   796               A  Nat_Nat_Synth  1080  incongruent  short        0\n",
       "301   795               A  Nat_Nat_Synth  1226  incongruent  short        0\n",
       "408   794               A  Nat_Nat_Synth  1964  incongruent  short        1\n",
       "520   789               A  Nat_Nat_Synth   782  incongruent  short        0\n",
       "639   788               A  Nat_Nat_Synth   901  incongruent  short        0\n",
       "764   785               A  Nat_Nat_Synth   590  incongruent  short        0\n",
       "876   784               A  Nat_Nat_Synth   862  incongruent  short        0\n",
       "1010  777               A  Nat_Nat_Synth   786  incongruent  short        0\n",
       "1140  772               A  Nat_Nat_Synth   756  incongruent  short        0\n",
       "1272  770               A  Nat_Nat_Synth   862  incongruent  short        0\n",
       "1368  769               A  Nat_Nat_Synth  1942  incongruent  short        0\n",
       "70    802               B  Nat_Nat_Synth   861  incongruent  short        0\n",
       "201   800               B  Nat_Nat_Synth   745  incongruent  short        0\n",
       "313   798               B  Nat_Nat_Synth   722  incongruent  short        0\n",
       "478   797               B  Nat_Nat_Synth  1128  incongruent  short        0\n",
       "577   792               B  Nat_Nat_Synth   826  incongruent  short        0\n",
       "743   791               B  Nat_Nat_Synth  1188  incongruent  short        1\n",
       "859   786               B  Nat_Nat_Synth   869  incongruent  short        0\n",
       "936   783               B  Nat_Nat_Synth  1003  incongruent  short        0\n",
       "1075  779               B  Nat_Nat_Synth   913  incongruent  short        0\n",
       "1202  776               B  Nat_Nat_Synth  1173  incongruent  short        0\n",
       "1358  773               B  Nat_Nat_Synth  1025  incongruent  short        0"
      ]
     },
     "execution_count": 22,
     "metadata": {},
     "output_type": "execute_result"
    }
   ],
   "source": [
    "natnatsynth = df[df['condition'] == 'Nat_Nat_Synth']\n",
    "natnatsynth"
   ]
  },
  {
   "cell_type": "code",
   "execution_count": 23,
   "id": "01206197",
   "metadata": {},
   "outputs": [
    {
     "data": {
      "text/html": [
       "<div>\n",
       "<style scoped>\n",
       "    .dataframe tbody tr th:only-of-type {\n",
       "        vertical-align: middle;\n",
       "    }\n",
       "\n",
       "    .dataframe tbody tr th {\n",
       "        vertical-align: top;\n",
       "    }\n",
       "\n",
       "    .dataframe thead th {\n",
       "        text-align: right;\n",
       "    }\n",
       "</style>\n",
       "<table border=\"1\" class=\"dataframe\">\n",
       "  <thead>\n",
       "    <tr style=\"text-align: right;\">\n",
       "      <th></th>\n",
       "      <th>prime</th>\n",
       "      <th>target</th>\n",
       "    </tr>\n",
       "  </thead>\n",
       "  <tbody>\n",
       "    <tr>\n",
       "      <th>53</th>\n",
       "      <td>finch</td>\n",
       "      <td>SLOTH</td>\n",
       "    </tr>\n",
       "    <tr>\n",
       "      <th>176</th>\n",
       "      <td>finch</td>\n",
       "      <td>SLOTH</td>\n",
       "    </tr>\n",
       "    <tr>\n",
       "      <th>301</th>\n",
       "      <td>finch</td>\n",
       "      <td>SLOTH</td>\n",
       "    </tr>\n",
       "    <tr>\n",
       "      <th>408</th>\n",
       "      <td>finch</td>\n",
       "      <td>SLOTH</td>\n",
       "    </tr>\n",
       "    <tr>\n",
       "      <th>520</th>\n",
       "      <td>finch</td>\n",
       "      <td>SLOTH</td>\n",
       "    </tr>\n",
       "    <tr>\n",
       "      <th>639</th>\n",
       "      <td>finch</td>\n",
       "      <td>SLOTH</td>\n",
       "    </tr>\n",
       "    <tr>\n",
       "      <th>764</th>\n",
       "      <td>finch</td>\n",
       "      <td>SLOTH</td>\n",
       "    </tr>\n",
       "    <tr>\n",
       "      <th>876</th>\n",
       "      <td>finch</td>\n",
       "      <td>SLOTH</td>\n",
       "    </tr>\n",
       "    <tr>\n",
       "      <th>1010</th>\n",
       "      <td>finch</td>\n",
       "      <td>SLOTH</td>\n",
       "    </tr>\n",
       "    <tr>\n",
       "      <th>1140</th>\n",
       "      <td>finch</td>\n",
       "      <td>SLOTH</td>\n",
       "    </tr>\n",
       "    <tr>\n",
       "      <th>1272</th>\n",
       "      <td>finch</td>\n",
       "      <td>SLOTH</td>\n",
       "    </tr>\n",
       "    <tr>\n",
       "      <th>1368</th>\n",
       "      <td>finch</td>\n",
       "      <td>SLOTH</td>\n",
       "    </tr>\n",
       "  </tbody>\n",
       "</table>\n",
       "</div>"
      ],
      "text/plain": [
       "      prime target\n",
       "53    finch  SLOTH\n",
       "176   finch  SLOTH\n",
       "301   finch  SLOTH\n",
       "408   finch  SLOTH\n",
       "520   finch  SLOTH\n",
       "639   finch  SLOTH\n",
       "764   finch  SLOTH\n",
       "876   finch  SLOTH\n",
       "1010  finch  SLOTH\n",
       "1140  finch  SLOTH\n",
       "1272  finch  SLOTH\n",
       "1368  finch  SLOTH"
      ]
     },
     "execution_count": 23,
     "metadata": {},
     "output_type": "execute_result"
    }
   ],
   "source": [
    "natnatsynth = raw_a[raw_a['condition'] == 'Nat_Nat_Synth']\n",
    "nns = pd.DataFrame(natnatsynth, columns = ['prime', 'target'])\n",
    "nns"
   ]
  },
  {
   "cell_type": "code",
   "execution_count": 24,
   "id": "526c8eba",
   "metadata": {},
   "outputs": [
    {
     "data": {
      "text/html": [
       "<div>\n",
       "<style scoped>\n",
       "    .dataframe tbody tr th:only-of-type {\n",
       "        vertical-align: middle;\n",
       "    }\n",
       "\n",
       "    .dataframe tbody tr th {\n",
       "        vertical-align: top;\n",
       "    }\n",
       "\n",
       "    .dataframe thead th {\n",
       "        text-align: right;\n",
       "    }\n",
       "</style>\n",
       "<table border=\"1\" class=\"dataframe\">\n",
       "  <thead>\n",
       "    <tr style=\"text-align: right;\">\n",
       "      <th></th>\n",
       "      <th>prime</th>\n",
       "      <th>target</th>\n",
       "    </tr>\n",
       "  </thead>\n",
       "  <tbody>\n",
       "    <tr>\n",
       "      <th>70</th>\n",
       "      <td>finch</td>\n",
       "      <td>SLOTH</td>\n",
       "    </tr>\n",
       "    <tr>\n",
       "      <th>201</th>\n",
       "      <td>finch</td>\n",
       "      <td>SLOTH</td>\n",
       "    </tr>\n",
       "    <tr>\n",
       "      <th>313</th>\n",
       "      <td>finch</td>\n",
       "      <td>SLOTH</td>\n",
       "    </tr>\n",
       "    <tr>\n",
       "      <th>478</th>\n",
       "      <td>finch</td>\n",
       "      <td>SLOTH</td>\n",
       "    </tr>\n",
       "    <tr>\n",
       "      <th>577</th>\n",
       "      <td>finch</td>\n",
       "      <td>SLOTH</td>\n",
       "    </tr>\n",
       "    <tr>\n",
       "      <th>743</th>\n",
       "      <td>finch</td>\n",
       "      <td>SLOTH</td>\n",
       "    </tr>\n",
       "    <tr>\n",
       "      <th>859</th>\n",
       "      <td>finch</td>\n",
       "      <td>SLOTH</td>\n",
       "    </tr>\n",
       "    <tr>\n",
       "      <th>936</th>\n",
       "      <td>finch</td>\n",
       "      <td>SLOTH</td>\n",
       "    </tr>\n",
       "    <tr>\n",
       "      <th>1075</th>\n",
       "      <td>finch</td>\n",
       "      <td>SLOTH</td>\n",
       "    </tr>\n",
       "    <tr>\n",
       "      <th>1202</th>\n",
       "      <td>finch</td>\n",
       "      <td>SLOTH</td>\n",
       "    </tr>\n",
       "    <tr>\n",
       "      <th>1358</th>\n",
       "      <td>finch</td>\n",
       "      <td>SLOTH</td>\n",
       "    </tr>\n",
       "  </tbody>\n",
       "</table>\n",
       "</div>"
      ],
      "text/plain": [
       "      prime target\n",
       "70    finch  SLOTH\n",
       "201   finch  SLOTH\n",
       "313   finch  SLOTH\n",
       "478   finch  SLOTH\n",
       "577   finch  SLOTH\n",
       "743   finch  SLOTH\n",
       "859   finch  SLOTH\n",
       "936   finch  SLOTH\n",
       "1075  finch  SLOTH\n",
       "1202  finch  SLOTH\n",
       "1358  finch  SLOTH"
      ]
     },
     "execution_count": 24,
     "metadata": {},
     "output_type": "execute_result"
    }
   ],
   "source": [
    "natnatsynth = raw_b[raw_b['condition'] == 'Nat_Nat_Synth']\n",
    "nns = pd.DataFrame(natnatsynth, columns = ['prime', 'target'])\n",
    "nns"
   ]
  },
  {
   "cell_type": "markdown",
   "id": "e3cfe19d",
   "metadata": {},
   "source": [
    "Ah. It seems like there is one item I mislabled, the one where \"finch\" primes \"SLOTH\". That should be easy to fix..."
   ]
  },
  {
   "cell_type": "markdown",
   "id": "9c73bf2e",
   "metadata": {},
   "source": [
    "From here on, it's up to you. Clean up my mess with finch/SLOTH, and do some appropriate analyses to get answers to the research questions..."
   ]
  },
  {
   "cell_type": "code",
   "execution_count": 95,
   "id": "01e179bf",
   "metadata": {},
   "outputs": [],
   "source": [
    "\n",
    "df.replace(to_replace = 'Nat_Nat_Synth', value = 'Inc_Nat_Nat', inplace = True )\n"
   ]
  },
  {
   "cell_type": "code",
   "execution_count": 32,
   "id": "c88c20fb",
   "metadata": {},
   "outputs": [
    {
     "data": {
      "text/html": [
       "<div>\n",
       "<style scoped>\n",
       "    .dataframe tbody tr th:only-of-type {\n",
       "        vertical-align: middle;\n",
       "    }\n",
       "\n",
       "    .dataframe tbody tr th {\n",
       "        vertical-align: top;\n",
       "    }\n",
       "\n",
       "    .dataframe thead th {\n",
       "        text-align: right;\n",
       "    }\n",
       "</style>\n",
       "<table border=\"1\" class=\"dataframe\">\n",
       "  <thead>\n",
       "    <tr style=\"text-align: right;\">\n",
       "      <th></th>\n",
       "      <th>id</th>\n",
       "      <th>counter_balance</th>\n",
       "      <th>condition</th>\n",
       "      <th>rt</th>\n",
       "      <th>congruence</th>\n",
       "      <th>soa</th>\n",
       "      <th>correct</th>\n",
       "    </tr>\n",
       "  </thead>\n",
       "  <tbody>\n",
       "  </tbody>\n",
       "</table>\n",
       "</div>"
      ],
      "text/plain": [
       "Empty DataFrame\n",
       "Columns: [id, counter_balance, condition, rt, congruence, soa, correct]\n",
       "Index: []"
      ]
     },
     "execution_count": 32,
     "metadata": {},
     "output_type": "execute_result"
    }
   ],
   "source": [
    "check = df.loc[df['condition'] == 'Nat_Nat_Synth']\n",
    "\n",
    "check"
   ]
  },
  {
   "cell_type": "code",
   "execution_count": 44,
   "id": "9640265e",
   "metadata": {},
   "outputs": [
    {
     "data": {
      "image/png": "[encoded data removed]",
      "text/plain": [
       "<Figure size 640x480 with 1 Axes>"
      ]
     },
     "metadata": {},
     "output_type": "display_data"
    }
   ],
   "source": [
    "sns.pointplot(data = df, x = 'soa', y = 'rt', hue = 'congruence', palette = 'twilight')\n",
    "sns.despine()"
   ]
  },
  {
   "cell_type": "code",
   "execution_count": 35,
   "id": "8b64bd2b",
   "metadata": {},
   "outputs": [
    {
     "data": {
      "text/html": [
       "<div>\n",
       "<style scoped>\n",
       "    .dataframe tbody tr th:only-of-type {\n",
       "        vertical-align: middle;\n",
       "    }\n",
       "\n",
       "    .dataframe tbody tr th {\n",
       "        vertical-align: top;\n",
       "    }\n",
       "\n",
       "    .dataframe thead th {\n",
       "        text-align: right;\n",
       "    }\n",
       "</style>\n",
       "<table border=\"1\" class=\"dataframe\">\n",
       "  <thead>\n",
       "    <tr style=\"text-align: right;\">\n",
       "      <th></th>\n",
       "      <th>Source</th>\n",
       "      <th>SS</th>\n",
       "      <th>ddof1</th>\n",
       "      <th>ddof2</th>\n",
       "      <th>MS</th>\n",
       "      <th>F</th>\n",
       "      <th>p-unc</th>\n",
       "      <th>p-GG-corr</th>\n",
       "      <th>ng2</th>\n",
       "      <th>eps</th>\n",
       "    </tr>\n",
       "  </thead>\n",
       "  <tbody>\n",
       "    <tr>\n",
       "      <th>0</th>\n",
       "      <td>soa</td>\n",
       "      <td>20738.017440</td>\n",
       "      <td>1</td>\n",
       "      <td>22</td>\n",
       "      <td>20738.017440</td>\n",
       "      <td>5.084641</td>\n",
       "      <td>0.034427</td>\n",
       "      <td>0.034427</td>\n",
       "      <td>0.010918</td>\n",
       "      <td>1.0</td>\n",
       "    </tr>\n",
       "    <tr>\n",
       "      <th>1</th>\n",
       "      <td>congruence</td>\n",
       "      <td>27378.050048</td>\n",
       "      <td>1</td>\n",
       "      <td>22</td>\n",
       "      <td>27378.050048</td>\n",
       "      <td>15.337799</td>\n",
       "      <td>0.000739</td>\n",
       "      <td>0.000739</td>\n",
       "      <td>0.014364</td>\n",
       "      <td>1.0</td>\n",
       "    </tr>\n",
       "    <tr>\n",
       "      <th>2</th>\n",
       "      <td>soa * congruence</td>\n",
       "      <td>26361.816425</td>\n",
       "      <td>1</td>\n",
       "      <td>22</td>\n",
       "      <td>26361.816425</td>\n",
       "      <td>12.020311</td>\n",
       "      <td>0.002191</td>\n",
       "      <td>0.002191</td>\n",
       "      <td>0.013838</td>\n",
       "      <td>1.0</td>\n",
       "    </tr>\n",
       "  </tbody>\n",
       "</table>\n",
       "</div>"
      ],
      "text/plain": [
       "             Source            SS  ddof1  ddof2            MS          F  \\\n",
       "0               soa  20738.017440      1     22  20738.017440   5.084641   \n",
       "1        congruence  27378.050048      1     22  27378.050048  15.337799   \n",
       "2  soa * congruence  26361.816425      1     22  26361.816425  12.020311   \n",
       "\n",
       "      p-unc  p-GG-corr       ng2  eps  \n",
       "0  0.034427   0.034427  0.010918  1.0  \n",
       "1  0.000739   0.000739  0.014364  1.0  \n",
       "2  0.002191   0.002191  0.013838  1.0  "
      ]
     },
     "execution_count": 35,
     "metadata": {},
     "output_type": "execute_result"
    }
   ],
   "source": [
    "\n",
    "pg.rm_anova(data = df, dv = 'rt', within = ['soa', 'congruence'], subject = 'id', detailed = True)\n",
    "\n"
   ]
  },
  {
   "cell_type": "code",
   "execution_count": 38,
   "id": "9e2cc2a3",
   "metadata": {},
   "outputs": [
    {
     "data": {
      "text/html": [
       "<div>\n",
       "<style scoped>\n",
       "    .dataframe tbody tr th:only-of-type {\n",
       "        vertical-align: middle;\n",
       "    }\n",
       "\n",
       "    .dataframe tbody tr th {\n",
       "        vertical-align: top;\n",
       "    }\n",
       "\n",
       "    .dataframe thead th {\n",
       "        text-align: right;\n",
       "    }\n",
       "</style>\n",
       "<table border=\"1\" class=\"dataframe\">\n",
       "  <thead>\n",
       "    <tr style=\"text-align: right;\">\n",
       "      <th></th>\n",
       "      <th>Contrast</th>\n",
       "      <th>soa</th>\n",
       "      <th>A</th>\n",
       "      <th>B</th>\n",
       "      <th>Paired</th>\n",
       "      <th>Parametric</th>\n",
       "      <th>T</th>\n",
       "      <th>dof</th>\n",
       "      <th>alternative</th>\n",
       "      <th>p-unc</th>\n",
       "      <th>p-corr</th>\n",
       "      <th>p-adjust</th>\n",
       "      <th>BF10</th>\n",
       "      <th>hedges</th>\n",
       "    </tr>\n",
       "  </thead>\n",
       "  <tbody>\n",
       "    <tr>\n",
       "      <th>0</th>\n",
       "      <td>soa</td>\n",
       "      <td>-</td>\n",
       "      <td>long</td>\n",
       "      <td>short</td>\n",
       "      <td>False</td>\n",
       "      <td>True</td>\n",
       "      <td>-2.665459</td>\n",
       "      <td>2758.0</td>\n",
       "      <td>two-sided</td>\n",
       "      <td>0.007733</td>\n",
       "      <td>NaN</td>\n",
       "      <td>NaN</td>\n",
       "      <td>1.46</td>\n",
       "      <td>-0.101445</td>\n",
       "    </tr>\n",
       "    <tr>\n",
       "      <th>1</th>\n",
       "      <td>congruence</td>\n",
       "      <td>-</td>\n",
       "      <td>congruent</td>\n",
       "      <td>incongruent</td>\n",
       "      <td>False</td>\n",
       "      <td>True</td>\n",
       "      <td>-3.063859</td>\n",
       "      <td>2758.0</td>\n",
       "      <td>two-sided</td>\n",
       "      <td>0.002206</td>\n",
       "      <td>NaN</td>\n",
       "      <td>NaN</td>\n",
       "      <td>4.529</td>\n",
       "      <td>-0.116607</td>\n",
       "    </tr>\n",
       "    <tr>\n",
       "      <th>2</th>\n",
       "      <td>soa * congruence</td>\n",
       "      <td>long</td>\n",
       "      <td>congruent</td>\n",
       "      <td>incongruent</td>\n",
       "      <td>False</td>\n",
       "      <td>True</td>\n",
       "      <td>-0.041157</td>\n",
       "      <td>1378.0</td>\n",
       "      <td>two-sided</td>\n",
       "      <td>0.967177</td>\n",
       "      <td>1.000000</td>\n",
       "      <td>bonf</td>\n",
       "      <td>0.06</td>\n",
       "      <td>-0.002215</td>\n",
       "    </tr>\n",
       "    <tr>\n",
       "      <th>3</th>\n",
       "      <td>soa * congruence</td>\n",
       "      <td>short</td>\n",
       "      <td>congruent</td>\n",
       "      <td>incongruent</td>\n",
       "      <td>False</td>\n",
       "      <td>True</td>\n",
       "      <td>-4.256022</td>\n",
       "      <td>1378.0</td>\n",
       "      <td>two-sided</td>\n",
       "      <td>0.000022</td>\n",
       "      <td>0.000044</td>\n",
       "      <td>bonf</td>\n",
       "      <td>446.014</td>\n",
       "      <td>-0.229012</td>\n",
       "    </tr>\n",
       "  </tbody>\n",
       "</table>\n",
       "</div>"
      ],
      "text/plain": [
       "           Contrast    soa          A            B Paired  Parametric  \\\n",
       "0               soa      -       long        short  False        True   \n",
       "1        congruence      -  congruent  incongruent  False        True   \n",
       "2  soa * congruence   long  congruent  incongruent  False        True   \n",
       "3  soa * congruence  short  congruent  incongruent  False        True   \n",
       "\n",
       "          T     dof alternative     p-unc    p-corr p-adjust     BF10  \\\n",
       "0 -2.665459  2758.0   two-sided  0.007733       NaN      NaN     1.46   \n",
       "1 -3.063859  2758.0   two-sided  0.002206       NaN      NaN    4.529   \n",
       "2 -0.041157  1378.0   two-sided  0.967177  1.000000     bonf     0.06   \n",
       "3 -4.256022  1378.0   two-sided  0.000022  0.000044     bonf  446.014   \n",
       "\n",
       "     hedges  \n",
       "0 -0.101445  \n",
       "1 -0.116607  \n",
       "2 -0.002215  \n",
       "3 -0.229012  "
      ]
     },
     "execution_count": 38,
     "metadata": {},
     "output_type": "execute_result"
    }
   ],
   "source": [
    "pg.pairwise_ttests(data = df, dv = 'rt', between = ['soa', 'congruence'], padjust = 'bonf')"
   ]
  },
  {
   "cell_type": "code",
   "execution_count": 97,
   "id": "10ab6fa9",
   "metadata": {},
   "outputs": [
    {
     "data": {
      "text/plain": [
       "<AxesSubplot:xlabel='condition', ylabel='rt'>"
      ]
     },
     "execution_count": 97,
     "metadata": {},
     "output_type": "execute_result"
    },
    {
     "data": {
      "image/png": "[encoded data removed]",
      "text/plain": [
       "<Figure size 640x480 with 1 Axes>"
      ]
     },
     "metadata": {},
     "output_type": "display_data"
    }
   ],
   "source": [
    "sns.pointplot(data = df.loc[((df['rt'] < 1200) & \n",
    "                             (df['correct'] == 1) & \n",
    "                             (df['congruence'] == 'incongruent'))], \n",
    "              y = 'rt', \n",
    "              x = 'condition')"
   ]
  },
  {
   "cell_type": "code",
   "execution_count": 47,
   "id": "c99192ef",
   "metadata": {},
   "outputs": [
    {
     "data": {
      "text/html": [
       "<div>\n",
       "<style scoped>\n",
       "    .dataframe tbody tr th:only-of-type {\n",
       "        vertical-align: middle;\n",
       "    }\n",
       "\n",
       "    .dataframe tbody tr th {\n",
       "        vertical-align: top;\n",
       "    }\n",
       "\n",
       "    .dataframe thead th {\n",
       "        text-align: right;\n",
       "    }\n",
       "</style>\n",
       "<table border=\"1\" class=\"dataframe\">\n",
       "  <thead>\n",
       "    <tr style=\"text-align: right;\">\n",
       "      <th></th>\n",
       "      <th>Source</th>\n",
       "      <th>ddof1</th>\n",
       "      <th>ddof2</th>\n",
       "      <th>F</th>\n",
       "      <th>p-unc</th>\n",
       "      <th>ng2</th>\n",
       "      <th>eps</th>\n",
       "    </tr>\n",
       "  </thead>\n",
       "  <tbody>\n",
       "    <tr>\n",
       "      <th>0</th>\n",
       "      <td>condition</td>\n",
       "      <td>3</td>\n",
       "      <td>12</td>\n",
       "      <td>1.258585</td>\n",
       "      <td>0.332365</td>\n",
       "      <td>0.095474</td>\n",
       "      <td>0.485123</td>\n",
       "    </tr>\n",
       "  </tbody>\n",
       "</table>\n",
       "</div>"
      ],
      "text/plain": [
       "      Source  ddof1  ddof2         F     p-unc       ng2       eps\n",
       "0  condition      3     12  1.258585  0.332365  0.095474  0.485123"
      ]
     },
     "execution_count": 47,
     "metadata": {},
     "output_type": "execute_result"
    }
   ],
   "source": [
    "pg.rm_anova(data = df.loc[((df['rt'] < 1200) & \n",
    "                             (df['correct'] == 1) & \n",
    "                             (df['congruence'] == 'incongruent'))], \n",
    "            dv = 'rt', within = ['condition'], subject = 'id' )"
   ]
  },
  {
   "cell_type": "code",
   "execution_count": 123,
   "id": "d3a3214f",
   "metadata": {},
   "outputs": [],
   "source": [
    "lol = df.loc[df['condition'] == 'Inc_Synth_Synth']\n",
    "\n",
    "lol2 = lol.loc[lol['correct'] == 0]"
   ]
  },
  {
   "cell_type": "code",
   "execution_count": 124,
   "id": "f4d06692",
   "metadata": {},
   "outputs": [
    {
     "data": {
      "text/plain": [
       "SHELF    23\n",
       "CLOTH    23\n",
       "PLATE    23\n",
       "COUCH    23\n",
       "WHEEL    23\n",
       "PLAZA    22\n",
       "RAZOR    22\n",
       "SOFA     22\n",
       "SPOON    22\n",
       "TRASH    22\n",
       "CHAIN    22\n",
       "PIANO    22\n",
       "CABIN    22\n",
       "CANDY    21\n",
       "CAFÉ    11\n",
       "CAFÉ     10\n",
       "Name: target, dtype: int64"
      ]
     },
     "execution_count": 124,
     "metadata": {},
     "output_type": "execute_result"
    }
   ],
   "source": [
    "lol2['target'].value_counts()"
   ]
  },
  {
   "cell_type": "code",
   "execution_count": 140,
   "id": "f3f7d016",
   "metadata": {},
   "outputs": [
    {
     "data": {
      "text/plain": [
       "0    333\n",
       "1     12\n",
       "Name: correct, dtype: int64"
      ]
     },
     "execution_count": 140,
     "metadata": {},
     "output_type": "execute_result"
    }
   ],
   "source": [
    "df.loc[df['condition'] == 'Inc_Synth_Synth', 'correct'].value_counts()"
   ]
  },
  {
   "cell_type": "code",
   "execution_count": 125,
   "id": "bdca5aca",
   "metadata": {},
   "outputs": [
    {
     "data": {
      "text/plain": [
       "PLAZA    23\n",
       "RAZOR    23\n",
       "SOFA     23\n",
       "SHELF    23\n",
       "SPOON    23\n",
       "CLOTH    23\n",
       "TRASH    23\n",
       "CHAIN    23\n",
       "PIANO    23\n",
       "CABIN    23\n",
       "PLATE    23\n",
       "COUCH    23\n",
       "WHEEL    23\n",
       "CANDY    23\n",
       "CAFÉ    12\n",
       "CAFÉ     11\n",
       "Name: target, dtype: int64"
      ]
     },
     "execution_count": 125,
     "metadata": {},
     "output_type": "execute_result"
    }
   ],
   "source": [
    "lol['target'].value_counts()"
   ]
  },
  {
   "cell_type": "code",
   "execution_count": 75,
   "id": "f1bdc51d",
   "metadata": {},
   "outputs": [],
   "source": [
    "lol2 = lol.loc[lol['correct'] == 1]"
   ]
  },
  {
   "cell_type": "code",
   "execution_count": 83,
   "id": "4c1fcaf3",
   "metadata": {},
   "outputs": [],
   "source": [
    "list1 = lol2['id'].unique()"
   ]
  },
  {
   "cell_type": "code",
   "execution_count": 81,
   "id": "9a3acf40",
   "metadata": {},
   "outputs": [],
   "source": [
    "lol3 = lol.loc[lol['correct'] == 0]\n",
    "list2 = lol3['id'].unique()"
   ]
  },
  {
   "cell_type": "code",
   "execution_count": 84,
   "id": "ed448893",
   "metadata": {},
   "outputs": [
    {
     "name": "stdout",
     "output_type": "stream",
     "text": [
      "796\n",
      "794\n",
      "789\n",
      "788\n",
      "772\n",
      "769\n",
      "802\n",
      "800\n",
      "798\n",
      "797\n",
      "791\n",
      "783\n",
      "779\n",
      "776\n",
      "773\n"
     ]
    }
   ],
   "source": [
    "for i in list2:\n",
    "    if i not in list1:\n",
    "        print(i)"
   ]
  },
  {
   "cell_type": "code",
   "execution_count": 122,
   "id": "44b0dafa",
   "metadata": {},
   "outputs": [
    {
     "data": {
      "text/plain": [
       "23"
      ]
     },
     "execution_count": 122,
     "metadata": {},
     "output_type": "execute_result"
    }
   ],
   "source": [
    "len(df['id'].unique())"
   ]
  },
  {
   "cell_type": "code",
   "execution_count": 121,
   "id": "48f169f4",
   "metadata": {},
   "outputs": [
    {
     "data": {
      "text/plain": [
       "SLOTH    1\n",
       "DRUG     1\n",
       "SWAN     1\n",
       "CRAB     1\n",
       "WHEEL    1\n",
       "        ..\n",
       "BENCH    1\n",
       "COAT     1\n",
       "TWIG     1\n",
       "COIN     1\n",
       "BRICK    1\n",
       "Name: target, Length: 120, dtype: int64"
      ]
     },
     "execution_count": 121,
     "metadata": {},
     "output_type": "execute_result"
    }
   ],
   "source": [
    "person = df.loc[df['id'] == 769]\n",
    "\n",
    "person['target'].value_counts()"
   ]
  },
  {
   "cell_type": "code",
   "execution_count": 131,
   "id": "9850664d",
   "metadata": {},
   "outputs": [
    {
     "data": {
      "text/plain": [
       "<AxesSubplot:xlabel='id', ylabel='rt'>"
      ]
     },
     "execution_count": 131,
     "metadata": {},
     "output_type": "execute_result"
    },
    {
     "data": {
      "image/png": "[encoded data removed]",
      "text/plain": [
       "<Figure size 640x480 with 1 Axes>"
      ]
     },
     "metadata": {},
     "output_type": "display_data"
    }
   ],
   "source": [
    "lol5 = df.loc[df['condition'] == 'Inc_Nat_Synth']\n",
    "\n",
    "sns.stripplot(data = lol5, x = 'id', y = 'rt', hue = 'correct')"
   ]
  },
  {
   "cell_type": "code",
   "execution_count": 133,
   "id": "fc802592",
   "metadata": {},
   "outputs": [
    {
     "data": {
      "text/plain": [
       "<AxesSubplot:xlabel='id', ylabel='rt'>"
      ]
     },
     "execution_count": 133,
     "metadata": {},
     "output_type": "execute_result"
    },
    {
     "data": {
      "image/png": "[encoded data removed]",
      "text/plain": [
       "<Figure size 640x480 with 1 Axes>"
      ]
     },
     "metadata": {},
     "output_type": "display_data"
    }
   ],
   "source": [
    "sns.stripplot(data = lol, x = 'id', y = 'rt', hue = 'correct')"
   ]
  },
  {
   "cell_type": "code",
   "execution_count": 135,
   "id": "cc225725",
   "metadata": {},
   "outputs": [
    {
     "data": {
      "text/plain": [
       "<AxesSubplot:xlabel='target_nat', ylabel='rt'>"
      ]
     },
     "execution_count": 135,
     "metadata": {},
     "output_type": "execute_result"
    },
    {
     "data": {
      "image/png": "[encoded data removed]",
      "text/plain": [
       "<Figure size 640x480 with 1 Axes>"
      ]
     },
     "metadata": {},
     "output_type": "display_data"
    }
   ],
   "source": [
    "df['target_nat'] = np.where((df['condition'] == 'Inc_Nat_Nat') | (df['condition'] == 'Inc_Synth_Nat'), 1, 0)\n",
    "\n",
    "sns.barplot(data = df.loc[df['congruence'] == 'incongruent'], x = 'target_nat', y = 'rt')"
   ]
  },
  {
   "cell_type": "code",
   "execution_count": 138,
   "id": "e836abd9",
   "metadata": {},
   "outputs": [
    {
     "data": {
      "text/html": [
       "<div>\n",
       "<style scoped>\n",
       "    .dataframe tbody tr th:only-of-type {\n",
       "        vertical-align: middle;\n",
       "    }\n",
       "\n",
       "    .dataframe tbody tr th {\n",
       "        vertical-align: top;\n",
       "    }\n",
       "\n",
       "    .dataframe thead th {\n",
       "        text-align: right;\n",
       "    }\n",
       "</style>\n",
       "<table border=\"1\" class=\"dataframe\">\n",
       "  <thead>\n",
       "    <tr style=\"text-align: right;\">\n",
       "      <th></th>\n",
       "      <th>T</th>\n",
       "      <th>dof</th>\n",
       "      <th>alternative</th>\n",
       "      <th>p-val</th>\n",
       "      <th>CI95%</th>\n",
       "      <th>cohen-d</th>\n",
       "      <th>BF10</th>\n",
       "      <th>power</th>\n",
       "    </tr>\n",
       "  </thead>\n",
       "  <tbody>\n",
       "    <tr>\n",
       "      <th>T-test</th>\n",
       "      <td>1.154959</td>\n",
       "      <td>1358.620442</td>\n",
       "      <td>two-sided</td>\n",
       "      <td>0.24831</td>\n",
       "      <td>[-13.02, 50.29]</td>\n",
       "      <td>0.062325</td>\n",
       "      <td>0.117</td>\n",
       "      <td>0.211679</td>\n",
       "    </tr>\n",
       "  </tbody>\n",
       "</table>\n",
       "</div>"
      ],
      "text/plain": [
       "               T          dof alternative    p-val            CI95%   cohen-d  \\\n",
       "T-test  1.154959  1358.620442   two-sided  0.24831  [-13.02, 50.29]  0.062325   \n",
       "\n",
       "         BF10     power  \n",
       "T-test  0.117  0.211679  "
      ]
     },
     "execution_count": 138,
     "metadata": {},
     "output_type": "execute_result"
    }
   ],
   "source": [
    "group1 = df.loc[(df['target_nat'] == 0) & (df['congruence'] == 'incongruent')]\n",
    "group2 = df.loc[(df['target_nat'] == 1) & (df['congruence'] == 'incongruent')]\n",
    "\n",
    "pg.ttest(group1['rt'], group2['rt'], paired = True)"
   ]
  },
  {
   "cell_type": "code",
   "execution_count": null,
   "id": "b062c5d5",
   "metadata": {},
   "outputs": [],
   "source": []
  }
 ],
 "metadata": {
  "kernelspec": {
   "display_name": "Python 3 (ipykernel)",
   "language": "python",
   "name": "python3"
  },
  "language_info": {
   "codemirror_mode": {
    "name": "ipython",
    "version": 3
   },
   "file_extension": ".py",
   "mimetype": "text/x-python",
   "name": "python",
   "nbconvert_exporter": "python",
   "pygments_lexer": "ipython3",
   "version": "3.9.9"
  }
 },
 "nbformat": 4,
 "nbformat_minor": 5
}
