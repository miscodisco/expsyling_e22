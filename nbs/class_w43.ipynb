{
 "cells": [
  {
   "cell_type": "markdown",
   "id": "58e45f42",
   "metadata": {},
   "source": [
    "# Let's look at what you've learned so far!"
   ]
  },
  {
   "cell_type": "markdown",
   "id": "753c033f",
   "metadata": {},
   "source": [
    "Below is a series of challenges that take you through the skills and knowledge we've covered in class so far. Some of it might be quite challenging, and some of it might be quite easy. <br>\n",
    "Underneath some of the cells are hints which are either code snippets, a prompt to google, or a link to something that might be useful. Being able to read other people's code and apply it to your own problem is super useful and something I want you to get used to, because 90% of coding is just that - stealing :) <br>\n",
    "Also! These queestions are written in a way that makes sense in my head, but they might not make sense to you - so don't hestitate to ask if you don't understand the questions or if you don't know what to do! "
   ]
  },
  {
   "cell_type": "code",
   "execution_count": null,
   "id": "b12c7bb3",
   "metadata": {},
   "outputs": [],
   "source": [
    "# packages \n",
    "import pandas as pd\n",
    "import numpy as np\n",
    "import seaborn as sns\n",
    "import matplotlib.pyplot as plt"
   ]
  },
  {
   "cell_type": "markdown",
   "id": "5e1ad2ce",
   "metadata": {},
   "source": [
    "## Challenge 1 - working with lists"
   ]
  },
  {
   "cell_type": "markdown",
   "id": "a7522104",
   "metadata": {},
   "source": [
    "Make a list (called my_list) of twenty things - it can be names, fruits, movies, etc. Make some of the twenty things be repetitions of themselves, e.g., have tomato in there 3 times and potato twice but lettuce only once (total of 6 things out of twenty)"
   ]
  },
  {
   "cell_type": "code",
   "execution_count": null,
   "id": "8e6c7567",
   "metadata": {},
   "outputs": [],
   "source": [
    "my_list = "
   ]
  },
  {
   "cell_type": "markdown",
   "id": "bc87a6e1",
   "metadata": {},
   "source": [
    "Make a list of all the unique things in my_list"
   ]
  },
  {
   "cell_type": "code",
   "execution_count": null,
   "id": "838d4755",
   "metadata": {
    "scrolled": true
   },
   "outputs": [],
   "source": [
    "unique_list = "
   ]
  },
  {
   "cell_type": "markdown",
   "id": "0db214cb",
   "metadata": {},
   "source": [
    "**Imagine we want a dataframe where:** <br>\n",
    "- the first column is the list of unique items in our list (easy)\n",
    "- the second column is the length of the word in the first column (medium)\n",
    "- the third column is how many times that word appeared in the original list (hard)\n",
    "    \n",
    "e.g.,<br>\n",
    "\n",
    "    | unique_list | length | count |\n",
    "    |-------------|--------|-------|\n",
    "    |    tomato   |   6    |   3   |\n",
    "    |    potato   |   6    |   2   |     \n",
    "    |   lettuce   |   7    |   1   |      \n",
    "\n",
    "There are a few different ways to solve this so I'll give a few different hints "
   ]
  },
  {
   "cell_type": "code",
   "execution_count": null,
   "id": "7305e9a6",
   "metadata": {},
   "outputs": [],
   "source": [
    "# YOUR CODE GOES HERE :-)\n",
    "\n"
   ]
  },
  {
   "cell_type": "markdown",
   "id": "42495072",
   "metadata": {},
   "source": [
    "*Which hints are useful for you depends on how you approach the challenge - start simple and then build up. \n",
    "If you want to challenge yourself further, then see if you can come up with additional columns to add to the dataframe.*\n",
    "\n",
    "HINT ONE:\n",
    "a way to start solving the first two columns is to look at ethan's code from lab02 challenge 2 and the live coding session from 15/09\n",
    "\n",
    "HINT TWO:\n",
    "https://stackoverflow.com/questions/42815768/pandas-adding-column-with-the-length-of-other-column-as-value\n",
    "\n",
    "HINT THREE: \n",
    "https://datagy.io/python-count-occurrences-in-list/\n",
    "(you might also need to do a loop :-O ) "
   ]
  },
  {
   "cell_type": "code",
   "execution_count": null,
   "id": "2bc9dd06",
   "metadata": {},
   "outputs": [],
   "source": [
    "# when you've solved it, the code below should show the first five rows of your dataframe\n",
    "\n",
    "df.head()"
   ]
  },
  {
   "cell_type": "markdown",
   "id": "5c173c9f",
   "metadata": {},
   "source": [
    "## Challenge 2 - data stuff"
   ]
  },
  {
   "cell_type": "markdown",
   "id": "f058a08d",
   "metadata": {},
   "source": [
    "We'll use the data from the lab session before the fall break"
   ]
  },
  {
   "cell_type": "code",
   "execution_count": null,
   "id": "51119b18",
   "metadata": {},
   "outputs": [],
   "source": [
    "url = 'https://osf.io/download/r7udh/'\n",
    "\n",
    "df = pd.read_csv(url)\n",
    "\n",
    "df.head()"
   ]
  },
  {
   "cell_type": "markdown",
   "id": "57d57aed",
   "metadata": {},
   "source": [
    "**Answer the following questions:**\n",
    "1. how many rows and columns are in the data?\n",
    "2. how many unique participants are in the data?\n",
    "3. how many NaN's are in the whole data? how many in the Response column and how many in the Score column?\n",
    "4. remove the NaN's from the data, and answer the first two Q's again\n",
    "5. what is the mean score for each participant? what about the score for each participant for each word in item? \n",
    "6. what is the mean score for each diversity condition? what about the mean score for each participant in each diversity condition? \n",
    "7. what is the mean score for only the word 'shirt'? what about the mean score for 'shirt' in each diversity condition?\n",
    "8. come up with your own interesting question :-) "
   ]
  },
  {
   "cell_type": "code",
   "execution_count": null,
   "id": "757ec681",
   "metadata": {},
   "outputs": [],
   "source": [
    "# YOUR CODE HERE :-) make more chunks if you want to!\n",
    "\n"
   ]
  },
  {
   "cell_type": "markdown",
   "id": "4075c2e3",
   "metadata": {},
   "source": [
    "*HINTS* <br>\n",
    "- for Q's 1, 2, and 4: lots of the code can be found in previous live coding sessions especially the one from last week and the one from 6/10 <br>\n",
    "- for Q 3: google 'pandas count na' <br>\n",
    "- for Q's 5-7: use group_by() and look at the livecoding session from 6/10 <br>\n",
    "- for Q's 5-7: if you get the mean for multiple columns and not just 'score' that is completely fine! if you want to challenge yourself further and just get it to output the mean score then take a look at this: https://realpython.com/pandas-groupby/\n",
    "- for Q 7: you might also want to take a look at Lab_03_clean on brightspace (it's a .ipynb file so you might need to upload it to ucloud to open it) - or your own solutions from lab 3!"
   ]
  },
  {
   "cell_type": "markdown",
   "id": "259a93ff",
   "metadata": {},
   "source": [
    "## Challenge 3 - plotting"
   ]
  },
  {
   "cell_type": "markdown",
   "id": "16cce177",
   "metadata": {},
   "source": [
    "**Make a pretty plot using the data from above and post it in here:** <br>\n",
    "https://docs.google.com/document/d/1IYBdYG6N2H1-lQrn0eyibk89yI5izPC1aJx7rWe8Qcw/edit?usp=sharing\n",
    "<br>\n",
    "*You can put your name as well if you want - I'll highlight my favorites on Monday :-)*"
   ]
  },
  {
   "cell_type": "code",
   "execution_count": null,
   "id": "8d4206f1",
   "metadata": {},
   "outputs": [],
   "source": [
    "# YOUR CODE GOES HERE\n"
   ]
  },
  {
   "cell_type": "markdown",
   "id": "e19328a5",
   "metadata": {},
   "source": [
    "#### also also, if you want to, you can give me some anonymous feedback here: \n",
    "https://docs.google.com/document/d/1vCU1Op_4zXqWOre6G-dU-coKDfdIzzTlljnTss9KfV0/edit?usp=sharing"
   ]
  }
 ],
 "metadata": {
  "kernelspec": {
   "display_name": "Python 3 (ipykernel)",
   "language": "python",
   "name": "python3"
  },
  "language_info": {
   "codemirror_mode": {
    "name": "ipython",
    "version": 3
   },
   "file_extension": ".py",
   "mimetype": "text/x-python",
   "name": "python",
   "nbconvert_exporter": "python",
   "pygments_lexer": "ipython3",
   "version": "3.9.9"
  }
 },
 "nbformat": 4,
 "nbformat_minor": 5
}
