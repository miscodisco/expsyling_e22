{
 "cells": [
  {
   "cell_type": "markdown",
   "id": "a1d154ce",
   "metadata": {},
   "source": [
    "# Let's look at what you've learned so far!"
   ]
  },
  {
   "cell_type": "markdown",
   "id": "a7c508f1",
   "metadata": {},
   "source": [
    "Below is a series of challenges that take you through the skills and knowledge we've covered in class so far. Some of it might be quite challenging, and some of it might be quite easy.\n",
    "Underneath some of the cells is a hint which is either a code snippet, a prompt to google, or a link to a stackoverflow post. Being able to read other people's code and apply it to your own problem is super useful and something I want you to get used to, because 90% of coding is just that - stealing :)"
   ]
  },
  {
   "cell_type": "code",
   "execution_count": 6,
   "id": "bc60bd3a",
   "metadata": {},
   "outputs": [
    {
     "name": "stderr",
     "output_type": "stream",
     "text": [
      "[nltk_data] Downloading package gutenberg to\n",
      "[nltk_data]     /Users/miajacobsen/nltk_data...\n",
      "[nltk_data]   Package gutenberg is already up-to-date!\n"
     ]
    },
    {
     "data": {
      "text/plain": [
       "True"
      ]
     },
     "execution_count": 6,
     "metadata": {},
     "output_type": "execute_result"
    }
   ],
   "source": [
    "# packages \n",
    "import pandas as pd\n",
    "import numpy as np\n",
    "import seaborn as sns\n",
    "import matplotlib.pyplot as plt"
   ]
  },
  {
   "cell_type": "markdown",
   "id": "c4e6f0cc",
   "metadata": {},
   "source": [
    "## Challenge 1 - working with lists"
   ]
  },
  {
   "cell_type": "markdown",
   "id": "b4ff1486",
   "metadata": {},
   "source": [
    "Make a list (called my_list) of twenty things - it can be names, fruits, movies, etc. Make some of the twenty things be repetitions of themselves, e.g., have tomato in there 3 times and potato twice but lettuce only once (total of 6 things out of twnety)"
   ]
  },
  {
   "cell_type": "code",
   "execution_count": 3,
   "id": "2b0d5c9b",
   "metadata": {},
   "outputs": [
    {
     "name": "stdout",
     "output_type": "stream",
     "text": [
      "['kvinde', 'kend', 'din', 'krop', 'og', 'usynlige', 'kvinde', 'og', 'din', 'nat', 'skal', 'overleve', 'og', 'den', 'usynlige', 'sang', 'den', 'og', 'usynlige', 'barn']\n"
     ]
    }
   ],
   "source": [
    "my_list = ['kvinde', 'kend', 'din', 'krop', 'og',\n",
    "           'usynlige', 'kvinde', 'og','din', 'nat', \n",
    "           'skal', 'overleve', 'og','den', 'usynlige', \n",
    "           'sang','den', 'og','usynlige', 'barn']\n",
    "\n",
    "print(my_list)"
   ]
  },
  {
   "cell_type": "markdown",
   "id": "0e024d77",
   "metadata": {},
   "source": [
    "Make a list of all the unique things in the list"
   ]
  },
  {
   "cell_type": "code",
   "execution_count": 4,
   "id": "3c9cd092",
   "metadata": {},
   "outputs": [
    {
     "name": "stdout",
     "output_type": "stream",
     "text": [
      "{'den', 'overleve', 'krop', 'usynlige', 'din', 'og', 'sang', 'kvinde', 'barn', 'kend', 'skal', 'nat'}\n"
     ]
    }
   ],
   "source": [
    "unique_list = set(my_list)\n",
    "print(unique_list)"
   ]
  },
  {
   "cell_type": "markdown",
   "id": "41971674",
   "metadata": {},
   "source": [
    "Imagine we want a dataframe where:\n",
    "    the first column is the list of unique items in our list (easy)\n",
    "    the second column is the length of the word in the first column (medium)\n",
    "    the third column is how many times that word appeared in the original list (hard)\n",
    "    \n",
    "e.g., \n",
    "    unique_list   length    count\n",
    "    tomato        6         3\n",
    "    potato        6         2\n",
    "    lettuce       7         1\n",
    "\n",
    "There are a few different ways to solve this so I'll give a few different hints "
   ]
  },
  {
   "cell_type": "code",
   "execution_count": 22,
   "id": "cbb4c23c",
   "metadata": {},
   "outputs": [],
   "source": [
    "df = pd.DataFrame(unique_list)\n",
    "\n",
    "df['len'] = df[0].str.len()\n",
    "\n",
    "count = []\n",
    "\n",
    "for i in unique_list:\n",
    "    count.append(my_list.count(i))\n",
    "\n",
    "df['count'] = count\n",
    "\n"
   ]
  },
  {
   "cell_type": "code",
   "execution_count": 23,
   "id": "4e5ccd8a",
   "metadata": {},
   "outputs": [
    {
     "data": {
      "text/html": [
       "<div>\n",
       "<style scoped>\n",
       "    .dataframe tbody tr th:only-of-type {\n",
       "        vertical-align: middle;\n",
       "    }\n",
       "\n",
       "    .dataframe tbody tr th {\n",
       "        vertical-align: top;\n",
       "    }\n",
       "\n",
       "    .dataframe thead th {\n",
       "        text-align: right;\n",
       "    }\n",
       "</style>\n",
       "<table border=\"1\" class=\"dataframe\">\n",
       "  <thead>\n",
       "    <tr style=\"text-align: right;\">\n",
       "      <th></th>\n",
       "      <th>0</th>\n",
       "      <th>len</th>\n",
       "      <th>count</th>\n",
       "    </tr>\n",
       "  </thead>\n",
       "  <tbody>\n",
       "    <tr>\n",
       "      <th>0</th>\n",
       "      <td>den</td>\n",
       "      <td>3</td>\n",
       "      <td>2</td>\n",
       "    </tr>\n",
       "    <tr>\n",
       "      <th>1</th>\n",
       "      <td>overleve</td>\n",
       "      <td>8</td>\n",
       "      <td>1</td>\n",
       "    </tr>\n",
       "    <tr>\n",
       "      <th>2</th>\n",
       "      <td>krop</td>\n",
       "      <td>4</td>\n",
       "      <td>1</td>\n",
       "    </tr>\n",
       "    <tr>\n",
       "      <th>3</th>\n",
       "      <td>usynlige</td>\n",
       "      <td>8</td>\n",
       "      <td>3</td>\n",
       "    </tr>\n",
       "    <tr>\n",
       "      <th>4</th>\n",
       "      <td>din</td>\n",
       "      <td>3</td>\n",
       "      <td>2</td>\n",
       "    </tr>\n",
       "  </tbody>\n",
       "</table>\n",
       "</div>"
      ],
      "text/plain": [
       "          0  len  count\n",
       "0       den    3      2\n",
       "1  overleve    8      1\n",
       "2      krop    4      1\n",
       "3  usynlige    8      3\n",
       "4       din    3      2"
      ]
     },
     "execution_count": 23,
     "metadata": {},
     "output_type": "execute_result"
    }
   ],
   "source": [
    "# when you've solved it, the code below should show the first five rows of your dataframe\n",
    "\n",
    "df.head()"
   ]
  },
  {
   "cell_type": "markdown",
   "id": "d66e5e66",
   "metadata": {},
   "source": [
    "## Challenge 2"
   ]
  },
  {
   "cell_type": "code",
   "execution_count": 29,
   "id": "21742738",
   "metadata": {},
   "outputs": [
    {
     "data": {
      "text/html": [
       "<div>\n",
       "<style scoped>\n",
       "    .dataframe tbody tr th:only-of-type {\n",
       "        vertical-align: middle;\n",
       "    }\n",
       "\n",
       "    .dataframe tbody tr th {\n",
       "        vertical-align: top;\n",
       "    }\n",
       "\n",
       "    .dataframe thead th {\n",
       "        text-align: right;\n",
       "    }\n",
       "</style>\n",
       "<table border=\"1\" class=\"dataframe\">\n",
       "  <thead>\n",
       "    <tr style=\"text-align: right;\">\n",
       "      <th></th>\n",
       "      <th>Participant.ID</th>\n",
       "      <th>Version</th>\n",
       "      <th>Set</th>\n",
       "      <th>Subset</th>\n",
       "      <th>Baseword</th>\n",
       "      <th>Diversity</th>\n",
       "      <th>Item</th>\n",
       "      <th>Question</th>\n",
       "      <th>Response.Box</th>\n",
       "      <th>Response</th>\n",
       "      <th>Score</th>\n",
       "    </tr>\n",
       "  </thead>\n",
       "  <tbody>\n",
       "    <tr>\n",
       "      <th>0</th>\n",
       "      <td>1</td>\n",
       "      <td>B2</td>\n",
       "      <td>B</td>\n",
       "      <td>2</td>\n",
       "      <td>shirt</td>\n",
       "      <td>low</td>\n",
       "      <td>hust</td>\n",
       "      <td>Earlier you read about a type of shirt that wa...</td>\n",
       "      <td>1</td>\n",
       "      <td>stretchy</td>\n",
       "      <td>3.0</td>\n",
       "    </tr>\n",
       "    <tr>\n",
       "      <th>1</th>\n",
       "      <td>1</td>\n",
       "      <td>B2</td>\n",
       "      <td>B</td>\n",
       "      <td>2</td>\n",
       "      <td>shirt</td>\n",
       "      <td>low</td>\n",
       "      <td>hust</td>\n",
       "      <td>Earlier you read about a type of shirt that wa...</td>\n",
       "      <td>2</td>\n",
       "      <td>can't be torn</td>\n",
       "      <td>NaN</td>\n",
       "    </tr>\n",
       "    <tr>\n",
       "      <th>2</th>\n",
       "      <td>1</td>\n",
       "      <td>B2</td>\n",
       "      <td>B</td>\n",
       "      <td>2</td>\n",
       "      <td>shirt</td>\n",
       "      <td>low</td>\n",
       "      <td>hust</td>\n",
       "      <td>Earlier you read about a type of shirt that wa...</td>\n",
       "      <td>3</td>\n",
       "      <td>stain proof</td>\n",
       "      <td>NaN</td>\n",
       "    </tr>\n",
       "    <tr>\n",
       "      <th>3</th>\n",
       "      <td>1</td>\n",
       "      <td>B2</td>\n",
       "      <td>B</td>\n",
       "      <td>2</td>\n",
       "      <td>shirt</td>\n",
       "      <td>low</td>\n",
       "      <td>hust</td>\n",
       "      <td>Earlier you read about a type of shirt that wa...</td>\n",
       "      <td>4</td>\n",
       "      <td>NaN</td>\n",
       "      <td>NaN</td>\n",
       "    </tr>\n",
       "    <tr>\n",
       "      <th>4</th>\n",
       "      <td>1</td>\n",
       "      <td>B2</td>\n",
       "      <td>B</td>\n",
       "      <td>2</td>\n",
       "      <td>shirt</td>\n",
       "      <td>low</td>\n",
       "      <td>hust</td>\n",
       "      <td>Earlier you read about a type of shirt that wa...</td>\n",
       "      <td>5</td>\n",
       "      <td>NaN</td>\n",
       "      <td>NaN</td>\n",
       "    </tr>\n",
       "  </tbody>\n",
       "</table>\n",
       "</div>"
      ],
      "text/plain": [
       "   Participant.ID Version Set  Subset Baseword Diversity  Item  \\\n",
       "0               1      B2   B       2    shirt       low  hust   \n",
       "1               1      B2   B       2    shirt       low  hust   \n",
       "2               1      B2   B       2    shirt       low  hust   \n",
       "3               1      B2   B       2    shirt       low  hust   \n",
       "4               1      B2   B       2    shirt       low  hust   \n",
       "\n",
       "                                            Question  Response.Box  \\\n",
       "0  Earlier you read about a type of shirt that wa...             1   \n",
       "1  Earlier you read about a type of shirt that wa...             2   \n",
       "2  Earlier you read about a type of shirt that wa...             3   \n",
       "3  Earlier you read about a type of shirt that wa...             4   \n",
       "4  Earlier you read about a type of shirt that wa...             5   \n",
       "\n",
       "        Response  Score  \n",
       "0       stretchy    3.0  \n",
       "1  can't be torn    NaN  \n",
       "2    stain proof    NaN  \n",
       "3            NaN    NaN  \n",
       "4            NaN    NaN  "
      ]
     },
     "execution_count": 29,
     "metadata": {},
     "output_type": "execute_result"
    }
   ],
   "source": [
    "url = 'https://osf.io/download/r7udh/'\n",
    "\n",
    "df = pd.read_csv(url)\n",
    "\n",
    "df.head()"
   ]
  },
  {
   "cell_type": "markdown",
   "id": "4470cd7f",
   "metadata": {},
   "source": [
    "Answer the following questions: \n",
    "- how many rows and columns are in the data?\n",
    "- how many unique participants are in the data?\n",
    "- how many NaN's are in the whole data? how many in the Response column and how many in the Score column? ( https://datatofish.com/count-nan-pandas-dataframe/ ) \n",
    "- remove the NaN's from the data, and answer the first two Q's again\n",
    "- what is the mean score for each participant? what about the score for each participant for each word in item? \n",
    "- what is the mean score for each participant in each diversity condition? \n",
    "- what is the mean score for only the word 'shirt'? what about the mean score for 'shirt' in each diversity condition?\n",
    "- come up with your own interesting question :-) "
   ]
  },
  {
   "cell_type": "code",
   "execution_count": 30,
   "id": "bb272046",
   "metadata": {},
   "outputs": [
    {
     "name": "stdout",
     "output_type": "stream",
     "text": [
      "(5600, 11)\n",
      "100\n"
     ]
    }
   ],
   "source": [
    "print(df.shape)\n",
    "print(len(df['Participant.ID'].unique()))"
   ]
  },
  {
   "cell_type": "code",
   "execution_count": 31,
   "id": "58475a2c",
   "metadata": {},
   "outputs": [
    {
     "name": "stdout",
     "output_type": "stream",
     "text": [
      "(800, 11)\n",
      "100\n"
     ]
    }
   ],
   "source": [
    "df = df.dropna()\n",
    "print(df.shape)\n",
    "print(len(df['Participant.ID'].unique()))"
   ]
  },
  {
   "cell_type": "code",
   "execution_count": 53,
   "id": "fe96c36b",
   "metadata": {},
   "outputs": [],
   "source": [
    "id_mean = df.groupby(['Participant.ID'])['Score'].mean()\n",
    "id_item_mean = df.groupby(['Participant.ID', 'Diversity'])['Score'].mean()\n",
    "id_div_mean = df.groupby(['Participant.ID', 'Diversity'])['Score'].mean()"
   ]
  },
  {
   "cell_type": "code",
   "execution_count": 59,
   "id": "07f69efa",
   "metadata": {},
   "outputs": [
    {
     "data": {
      "text/plain": [
       "Diversity\n",
       "high    2.08\n",
       "low     3.72\n",
       "Name: Score, dtype: float64"
      ]
     },
     "execution_count": 59,
     "metadata": {},
     "output_type": "execute_result"
    }
   ],
   "source": [
    "shirt_mean = df.loc[df['Baseword'] == 'shirt']['Score'].mean()\n",
    "shirt_div = df.loc[df['Baseword'] == 'shirt'].groupby('Diversity')['Score'].mean()\n",
    "shirt_div"
   ]
  },
  {
   "cell_type": "code",
   "execution_count": null,
   "id": "ef782a66",
   "metadata": {},
   "outputs": [],
   "source": []
  }
 ],
 "metadata": {
  "kernelspec": {
   "display_name": "Python 3 (ipykernel)",
   "language": "python",
   "name": "python3"
  },
  "language_info": {
   "codemirror_mode": {
    "name": "ipython",
    "version": 3
   },
   "file_extension": ".py",
   "mimetype": "text/x-python",
   "name": "python",
   "nbconvert_exporter": "python",
   "pygments_lexer": "ipython3",
   "version": "3.9.9"
  }
 },
 "nbformat": 4,
 "nbformat_minor": 5
}
