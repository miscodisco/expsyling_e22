{
 "cells": [
  {
   "cell_type": "markdown",
   "id": "cd95e8df",
   "metadata": {},
   "source": [
    "# Let's get coding"
   ]
  },
  {
   "cell_type": "code",
   "execution_count": null,
   "id": "08632c3a",
   "metadata": {},
   "outputs": [],
   "source": [
    "%pip install pandas\n",
    "%pip install numpy\n",
    "%pip install seaborn\n",
    "%pip install pingouin\n",
    "%pip install statistics\n",
    "%pip install matplotlib"
   ]
  },
  {
   "cell_type": "code",
   "execution_count": null,
   "id": "e8cd218a",
   "metadata": {},
   "outputs": [],
   "source": [
    "# packages\n",
    "import pandas as pd\n",
    "import numpy as np\n",
    "import seaborn as sns\n",
    "import pingouin as pg \n",
    "import matplotlib.pyplot as plt\n",
    "import statistics\n",
    "from scipy.stats import ttest_rel\n",
    "from scipy import stats"
   ]
  },
  {
   "cell_type": "markdown",
   "id": "66abf652",
   "metadata": {},
   "source": [
    "> With a mean grade of 72.3, the psychology students scored slightly higher than the average grade of 67.5 (𝑡(19)=2.25, 𝑝<.05)\n",
    "\n",
    "or \n",
    "\n",
    "> Grades were significantly higher for psychology students **(mean = 72.3)** than the average student **(mean = 67.5) (t(19) = 2.25, p < 0.05)** "
   ]
  },
  {
   "cell_type": "markdown",
   "id": "22d345f2",
   "metadata": {},
   "source": [
    "## Dataset 1: Moon and aggression\n"
   ]
  },
  {
   "cell_type": "code",
   "execution_count": null,
   "id": "e6a17d9b",
   "metadata": {},
   "outputs": [],
   "source": [
    "df = pd.read_csv('https://raw.githubusercontent.com/ethanweed/datasets-for-teaching/main/JASP_data_library/2.%20T-Tests/Moon%20and%20Aggression.csv')\n",
    "df.head()"
   ]
  },
  {
   "cell_type": "code",
   "execution_count": null,
   "id": "fba46f9e",
   "metadata": {},
   "outputs": [],
   "source": [
    "# defining group 1 and 2"
   ]
  },
  {
   "cell_type": "code",
   "execution_count": null,
   "id": "9d3d2fe3",
   "metadata": {},
   "outputs": [],
   "source": [
    "# performing the appropriate t-test"
   ]
  },
  {
   "cell_type": "code",
   "execution_count": null,
   "id": "b0846ba4",
   "metadata": {},
   "outputs": [],
   "source": [
    "# reporting the results"
   ]
  },
  {
   "cell_type": "code",
   "execution_count": null,
   "id": "a48c3993",
   "metadata": {},
   "outputs": [],
   "source": [
    "# plotting the results"
   ]
  },
  {
   "cell_type": "markdown",
   "id": "b9817c54",
   "metadata": {},
   "source": [
    "## Dataset 2: Eye movements and word recall"
   ]
  },
  {
   "cell_type": "code",
   "execution_count": null,
   "id": "a219b501",
   "metadata": {},
   "outputs": [],
   "source": [
    "df = pd.read_csv('https://raw.githubusercontent.com/ethanweed/datasets-for-teaching/main/JASP_data_library/2.%20T-Tests/Eye%20Movements.csv')\n",
    "\n",
    "df.head()"
   ]
  },
  {
   "cell_type": "markdown",
   "id": "df56a712",
   "metadata": {},
   "source": [
    "## Dataset 3: Jeans "
   ]
  },
  {
   "cell_type": "code",
   "execution_count": null,
   "id": "e10c8bd7",
   "metadata": {},
   "outputs": [],
   "source": [
    "df = pd.read_csv('https://raw.githubusercontent.com/ethanweed/datasets-for-teaching/main/university_of_florida/bluejeans_laser.csv')\n",
    "\n",
    "df.head()"
   ]
  },
  {
   "cell_type": "markdown",
   "id": "68a3f976",
   "metadata": {},
   "source": [
    "## Dataset 4: Crime in the USA"
   ]
  },
  {
   "cell_type": "code",
   "execution_count": null,
   "id": "5ff7b28d",
   "metadata": {},
   "outputs": [],
   "source": [
    "df = pd.read_csv('https://raw.githubusercontent.com/ethanweed/datasets-for-teaching/main/sheffield_MASH/crime.csv')\n",
    "\n",
    "df.head()"
   ]
  }
 ],
 "metadata": {
  "kernelspec": {
   "display_name": "Python 3 (ipykernel)",
   "language": "python",
   "name": "python3"
  },
  "language_info": {
   "codemirror_mode": {
    "name": "ipython",
    "version": 3
   },
   "file_extension": ".py",
   "mimetype": "text/x-python",
   "name": "python",
   "nbconvert_exporter": "python",
   "pygments_lexer": "ipython3",
   "version": "3.9.9"
  }
 },
 "nbformat": 4,
 "nbformat_minor": 5
}
