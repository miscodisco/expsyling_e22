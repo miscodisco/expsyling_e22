{
 "cells": [
  {
   "cell_type": "markdown",
   "id": "b2d45867",
   "metadata": {},
   "source": [
    "# ANOVA"
   ]
  },
  {
   "cell_type": "code",
   "execution_count": null,
   "id": "341b267d",
   "metadata": {},
   "outputs": [],
   "source": [
    "%pip install pandas\n",
    "%pip install pingouin\n",
    "%pip install seaborn\n",
    "%pip install matplotlib\n",
    "%pip install warnings"
   ]
  },
  {
   "cell_type": "code",
   "execution_count": 1,
   "id": "d6ac4c0a",
   "metadata": {},
   "outputs": [],
   "source": [
    "import pandas as pd\n",
    "import pingouin as pg\n",
    "import seaborn as sns\n",
    "from matplotlib import pyplot as plt\n",
    "\n",
    "import warnings\n",
    "warnings.filterwarnings('ignore')"
   ]
  },
  {
   "cell_type": "markdown",
   "id": "57ec4860",
   "metadata": {},
   "source": [
    "A glass of beer with the head having receded, leaving behind noticeable lacing\n",
    "\n",
    "<img src=\"https://upload.wikimedia.org/wikipedia/commons/thumb/a/a9/Mai_2012_Weißbier.JPG/1920px-Mai_2012_Weißbier.JPG\" width=\"200\"/>\n",
    "\n",
    "Image credit: Mai Weißbier, 2012"
   ]
  },
  {
   "cell_type": "markdown",
   "id": "ba98ac3f",
   "metadata": {},
   "source": [
    "## Beer Head Retention\n",
    "\n",
    "There's nothing like a good foamy head on a cold beer, but [it needs to be just right](https://en.wikipedia.org/wiki/Beer_head): not too much, not too little. That means there is a financial incentive for brewers to get the foam just right every time, and that means: science! Below, you can read the abstract from a study by Ault et al (1967), who devised a means to measure beer head retention (how much foam there is, how long it lasts, and how much it sticks to the glass) in a way that would as closely as possible mimic the consumer's experience."
   ]
  },
  {
   "cell_type": "markdown",
   "id": "4681ffa3",
   "metadata": {},
   "source": [
    "<img src=\"https://github.com/ethanweed/datasets-for-teaching/blob/main/Beer%20Head%20Retention/image_abstract.png?raw=true\" width=\"500\"/>"
   ]
  },
  {
   "cell_type": "markdown",
   "id": "5d112ee2",
   "metadata": {},
   "source": [
    "Below, you can see a schematic drawing of the device used for measuring beer head retention."
   ]
  },
  {
   "cell_type": "markdown",
   "id": "bfc56312",
   "metadata": {},
   "source": [
    "<img src=\"https://github.com/ethanweed/datasets-for-teaching/blob/main/Beer%20Head%20Retention/image_head_retention_apparatus.png?raw=true\" width=\"400\"/>"
   ]
  },
  {
   "cell_type": "markdown",
   "id": "5133af74",
   "metadata": {},
   "source": [
    "Ault et al (1967) measured [sixty bottles of beer](https://en.wikipedia.org/wiki/99_Bottles_of_Beer) from three different bottlings: \n",
    "\n",
    "1. Bottling: the batch of beers bottled at the same time\n",
    "2. Bottle: the bottle id number for each bottling\n",
    "3. Head_Formation: the distance from the top of the glass to the top of the foam after 5 seconds plus the distance from the previous top of the foam to the top of the foam after 30 seconds (see Ault et al, 1967, for details)\n",
    "4. Percent_Adhesion: The amount of \"lacing\", that is, foam stuck to the glass after the foam collapses\n",
    "5. Percent_Collapse: Essentially, how much foam is left after 240 seconds.\n",
    "\n",
    "Assignment: \n",
    "\n",
    "1. Compare the different bottling batches on each of the three outcome measures: Head_Formation, Percent_Adhesion, and Percent_Collapse, and report your results in APA format. Using the names from ``pingouin`` output, this could be \"A one-way ANOVA showed a significant effect of / no significant effect of SOURCE on DV (F(DDOF1, DDOF2) = F, p = p\".\n",
    "2. Make figures illustrating your results\n",
    "3. If you drink beer, based on your own preferences, which bottling had the best balance of formation, adhesion, and collapse?"
   ]
  },
  {
   "cell_type": "code",
   "execution_count": 2,
   "id": "a52e75cd",
   "metadata": {},
   "outputs": [],
   "source": [
    "df = pd.read_csv(\"https://raw.githubusercontent.com/ethanweed/datasets-for-teaching/main/Beer%20Head%20Retention/beer-head-data.csv\")"
   ]
  },
  {
   "cell_type": "code",
   "execution_count": 15,
   "id": "1df87266",
   "metadata": {},
   "outputs": [
    {
     "data": {
      "text/html": [
       "<div>\n",
       "<style scoped>\n",
       "    .dataframe tbody tr th:only-of-type {\n",
       "        vertical-align: middle;\n",
       "    }\n",
       "\n",
       "    .dataframe tbody tr th {\n",
       "        vertical-align: top;\n",
       "    }\n",
       "\n",
       "    .dataframe thead th {\n",
       "        text-align: right;\n",
       "    }\n",
       "</style>\n",
       "<table border=\"1\" class=\"dataframe\">\n",
       "  <thead>\n",
       "    <tr style=\"text-align: right;\">\n",
       "      <th></th>\n",
       "      <th>Bottling</th>\n",
       "      <th>Bottle</th>\n",
       "      <th>Head_Formation</th>\n",
       "      <th>Percent_Adhesion</th>\n",
       "      <th>Percent_Collapse</th>\n",
       "    </tr>\n",
       "  </thead>\n",
       "  <tbody>\n",
       "    <tr>\n",
       "      <th>0</th>\n",
       "      <td>1</td>\n",
       "      <td>1</td>\n",
       "      <td>166</td>\n",
       "      <td>74</td>\n",
       "      <td>87</td>\n",
       "    </tr>\n",
       "    <tr>\n",
       "      <th>1</th>\n",
       "      <td>1</td>\n",
       "      <td>2</td>\n",
       "      <td>180</td>\n",
       "      <td>78</td>\n",
       "      <td>81</td>\n",
       "    </tr>\n",
       "    <tr>\n",
       "      <th>2</th>\n",
       "      <td>1</td>\n",
       "      <td>3</td>\n",
       "      <td>164</td>\n",
       "      <td>67</td>\n",
       "      <td>85</td>\n",
       "    </tr>\n",
       "    <tr>\n",
       "      <th>3</th>\n",
       "      <td>1</td>\n",
       "      <td>4</td>\n",
       "      <td>180</td>\n",
       "      <td>71</td>\n",
       "      <td>82</td>\n",
       "    </tr>\n",
       "    <tr>\n",
       "      <th>4</th>\n",
       "      <td>1</td>\n",
       "      <td>5</td>\n",
       "      <td>173</td>\n",
       "      <td>65</td>\n",
       "      <td>82</td>\n",
       "    </tr>\n",
       "  </tbody>\n",
       "</table>\n",
       "</div>"
      ],
      "text/plain": [
       "   Bottling  Bottle  Head_Formation  Percent_Adhesion  Percent_Collapse\n",
       "0         1       1             166                74                87\n",
       "1         1       2             180                78                81\n",
       "2         1       3             164                67                85\n",
       "3         1       4             180                71                82\n",
       "4         1       5             173                65                82"
      ]
     },
     "execution_count": 15,
     "metadata": {},
     "output_type": "execute_result"
    }
   ],
   "source": [
    "df.head()"
   ]
  },
  {
   "cell_type": "markdown",
   "id": "c94a08c0",
   "metadata": {},
   "source": [
    "## Barking sea lions"
   ]
  },
  {
   "cell_type": "markdown",
   "id": "9000640c",
   "metadata": {},
   "source": [
    "California sea lion (Zalophus californianus) and a Western gull (Larus occidentalis) in Scripps Park in La Jolla (San Diego, California).\n",
    "\n",
    "<img src=\"https://upload.wikimedia.org/wikipedia/commons/thumb/7/74/California_sea_lion_in_La_Jolla_%2870568%29.jpg/2560px-California_sea_lion_in_La_Jolla_%2870568%29.jpg\" width=\"300\"/>\n",
    "\n",
    "Image credit: Rhododendrites (2016)"
   ]
  },
  {
   "cell_type": "markdown",
   "id": "33505ffb",
   "metadata": {},
   "source": [
    "Sea lions love to make noise, and in the sea lion business, the noise they make is called \"barking\". To the untrained ear, all sea lions may sound the same, but in fact, there may be local \"dialects\". Ahonen et al (2014) carried out a study of sea lion barks, measuring, among other things, the duration of the barks at seven different locations in Australia (see map below).\n",
    "\n",
    "<img src=\"https://github.com/ethanweed/datasets-for-teaching/blob/main/Durations%20of%20Seal%20Lion%20Barking%20Calls/image_locations.png?raw=true\" width=\"550\"/>"
   ]
  },
  {
   "cell_type": "markdown",
   "id": "1f757b47",
   "metadata": {},
   "source": [
    "Below, you can read the article abstract:\n",
    "\n",
    "<img src=\"https://github.com/ethanweed/datasets-for-teaching/blob/main/Durations%20of%20Seal%20Lion%20Barking%20Calls/image_abstract.png?raw=true\" width=\"\"/>"
   ]
  },
  {
   "cell_type": "markdown",
   "id": "a494f961",
   "metadata": {},
   "source": [
    "Assignment:\n",
    "\n",
    "1. Use the dataset below to check the researchers' results. Was there a signficant difference in barking duration between the different locations?\n",
    "2. Report your findings using the APA format (see beer example above)\n",
    "3. Reproduce panel A from figure 4, below. Sadly, we don't have the data for the interbark durations, so you can't do panel B. You can use the location numbers, but for an extra challenge, use Python to replace the numbers with the location names. You can see the location names in table 2 below, which are ordered in the same order as the location numbers in the data:\n",
    "\n",
    "<img src=\"https://github.com/ethanweed/datasets-for-teaching/blob/main/Durations%20of%20Seal%20Lion%20Barking%20Calls/image_table2.png?raw=true\" width=\"\"/>"
   ]
  },
  {
   "cell_type": "markdown",
   "id": "1f94ed0f",
   "metadata": {},
   "source": [
    "<img src=\"https://github.com/ethanweed/datasets-for-teaching/blob/main/Durations%20of%20Seal%20Lion%20Barking%20Calls/image_figure4.png?raw=true\" width=\"\"/>"
   ]
  },
  {
   "cell_type": "markdown",
   "id": "224e865a",
   "metadata": {},
   "source": [
    "## References\n",
    "\n",
    "Ahonen, H., Stow, A. J., Harcourt, R. G., & Charrier, I. (2014). Adult male Australian sea lion barking calls reveal clear geographical variations. Animal Behaviour, 97, 229-239.\n",
    "\n",
    "Ault, R. G., Hudson, E. J., Linehan, D. J., & Woodward, J. D. (1967). A practical approach to the assessment of head retention of bottled beers. Journal of the Institute of Brewing, 73(6), 558-566.\n",
    "\n"
   ]
  },
  {
   "cell_type": "code",
   "execution_count": 16,
   "id": "5aecea61",
   "metadata": {},
   "outputs": [],
   "source": [
    "df = pd.read_csv('https://raw.githubusercontent.com/ethanweed/datasets-for-teaching/main/Durations%20of%20Seal%20Lion%20Barking%20Calls/sea-lion-barking-data.csv')"
   ]
  },
  {
   "cell_type": "code",
   "execution_count": 17,
   "id": "0f6e3a34",
   "metadata": {},
   "outputs": [
    {
     "data": {
      "text/html": [
       "<div>\n",
       "<style scoped>\n",
       "    .dataframe tbody tr th:only-of-type {\n",
       "        vertical-align: middle;\n",
       "    }\n",
       "\n",
       "    .dataframe tbody tr th {\n",
       "        vertical-align: top;\n",
       "    }\n",
       "\n",
       "    .dataframe thead th {\n",
       "        text-align: right;\n",
       "    }\n",
       "</style>\n",
       "<table border=\"1\" class=\"dataframe\">\n",
       "  <thead>\n",
       "    <tr style=\"text-align: right;\">\n",
       "      <th></th>\n",
       "      <th>location</th>\n",
       "      <th>duration</th>\n",
       "    </tr>\n",
       "  </thead>\n",
       "  <tbody>\n",
       "    <tr>\n",
       "      <th>0</th>\n",
       "      <td>1</td>\n",
       "      <td>51.05</td>\n",
       "    </tr>\n",
       "    <tr>\n",
       "      <th>1</th>\n",
       "      <td>1</td>\n",
       "      <td>54.58</td>\n",
       "    </tr>\n",
       "    <tr>\n",
       "      <th>2</th>\n",
       "      <td>1</td>\n",
       "      <td>52.34</td>\n",
       "    </tr>\n",
       "    <tr>\n",
       "      <th>3</th>\n",
       "      <td>1</td>\n",
       "      <td>50.24</td>\n",
       "    </tr>\n",
       "    <tr>\n",
       "      <th>4</th>\n",
       "      <td>1</td>\n",
       "      <td>53.25</td>\n",
       "    </tr>\n",
       "  </tbody>\n",
       "</table>\n",
       "</div>"
      ],
      "text/plain": [
       "   location  duration\n",
       "0         1     51.05\n",
       "1         1     54.58\n",
       "2         1     52.34\n",
       "3         1     50.24\n",
       "4         1     53.25"
      ]
     },
     "execution_count": 17,
     "metadata": {},
     "output_type": "execute_result"
    }
   ],
   "source": [
    "df.head()"
   ]
  },
  {
   "cell_type": "code",
   "execution_count": null,
   "id": "2381c3d5",
   "metadata": {},
   "outputs": [],
   "source": []
  }
 ],
 "metadata": {
  "kernelspec": {
   "display_name": "Python 3 (ipykernel)",
   "language": "python",
   "name": "python3"
  },
  "language_info": {
   "codemirror_mode": {
    "name": "ipython",
    "version": 3
   },
   "file_extension": ".py",
   "mimetype": "text/x-python",
   "name": "python",
   "nbconvert_exporter": "python",
   "pygments_lexer": "ipython3",
   "version": "3.9.9"
  }
 },
 "nbformat": 4,
 "nbformat_minor": 5
}
