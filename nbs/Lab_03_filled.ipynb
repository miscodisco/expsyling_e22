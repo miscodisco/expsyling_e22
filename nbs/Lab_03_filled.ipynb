{
 "cells": [
  {
   "cell_type": "markdown",
   "id": "67abb133",
   "metadata": {},
   "source": [
    "# Lab 03: Fun with `pandas`!"
   ]
  },
  {
   "cell_type": "markdown",
   "id": "0e4b3b08",
   "metadata": {},
   "source": [
    "Below are some exercises to get you working with `pandas` to manipulate data. As always, get as far as you can, and ask for help when you need it! Your teacher (me), you instructor, and your classmates are all here to help each other get better at coding. Getting the code to work is important, but do also take the time to make sure you understand what the commands are doing. This time, (with the exception of the Stroop challenge), all I've given you is the code to download the data. Then you are on your own. For the Stroop challenge, I gave the you code for the first step—after that, it's up to you :-)"
   ]
  },
  {
   "cell_type": "markdown",
   "id": "c3b21217",
   "metadata": {},
   "source": [
    "## Music sales challenge\n",
    "\n",
    "Write a script that:\n",
    "\n",
    "1. Combines the tables of best-selling physical singles and best-selling digital singles on the Wikipedia page \"List_of_best-selling_singles\"\n",
    "2. Adds a column which marks whether each row is from the list of physical singles or digital singles\n",
    "3. Outputs the artist and single name for the year you were born. If there is no entry for that year, take the closest year after you were born.\n",
    "4. Outputs the artist and single name for the year you were 15 years old."
   ]
  },
  {
   "cell_type": "code",
   "execution_count": 1,
   "id": "a20efc57",
   "metadata": {},
   "outputs": [
    {
     "data": {
      "text/plain": [
       "10"
      ]
     },
     "execution_count": 1,
     "metadata": {},
     "output_type": "execute_result"
    }
   ],
   "source": [
    "# Starter code...\n",
    "\n",
    "import pandas as pd\n",
    "# load data and let's take a look\n",
    "rawdata = pd.read_html(\"https://en.wikipedia.org/wiki/List_of_best-selling_singles\")\n"
   ]
  },
  {
   "cell_type": "code",
   "execution_count": null,
   "id": "6044cdb2",
   "metadata": {
    "scrolled": true
   },
   "outputs": [],
   "source": [
    "# start by going through the list to see what's actually df's \n",
    "\n",
    "df0 = rawdata[0]\n",
    "\n",
    "df0.head()"
   ]
  },
  {
   "cell_type": "code",
   "execution_count": null,
   "id": "4cf1c523",
   "metadata": {},
   "outputs": [],
   "source": [
    "# by combining knowledge from the link and our exploration let's combine some df's\n",
    "\n",
    "# the first two are physical copies, and it is easiest to first combine them and then add the col\n",
    "df0 = rawdata[0]\n",
    "df1 = rawdata[1]\n",
    "\n",
    "# steal ethan's code, comment on the fact we need the df's to be in a list \n",
    "df_physical = pd.concat([df0, df1]) # what does this do ? \n",
    "\n",
    "\n",
    "df_physical.head()\n",
    "\n",
    "# before adding the digital sales, it is way easier to just add  column now that says \"physical\"\n",
    "# so how do we do that?\n",
    "df_physical['type'] = 'physical'\n",
    "# remember that it should not be 'physical' or something like that as a column name, \n",
    "# bc we need to have the same col in the digital df, since we will combine them in the end\n",
    "df_physical.head()\n"
   ]
  },
  {
   "cell_type": "code",
   "execution_count": null,
   "id": "e24a5fd1",
   "metadata": {},
   "outputs": [],
   "source": [
    "# and now for the digital copies and making a final df\n",
    "# we just copy our code and modify it a bit\n",
    "df2 = rawdata[2]\n",
    "df3 = rawdata[3]\n",
    "df_digital = pd.concat([df2, df3]) \n",
    "\n",
    "df_digital['type'] = 'digital'\n",
    "\n",
    "df_digital.head()\n",
    "\n",
    "# making the final df, which is just combining digital and physical \n",
    "# might merge work better than concatenating?\n",
    "\n",
    "df = pd.concat([df_physical, df_digital])\n",
    "\n",
    "df.head(50)\n",
    "# but we can see that the index is weird bc of all the concatenating, so let's reset it \n",
    "\n",
    "df.reset_index(inplace = True)\n",
    "df.head(50)\n",
    "# that's 1 and 2 done\n",
    "# we could sort it further if we wanted to, but we'll skip that for now"
   ]
  },
  {
   "cell_type": "code",
   "execution_count": null,
   "id": "aafc57db",
   "metadata": {},
   "outputs": [],
   "source": [
    "# now number 3 - artist and single for year we were born\n",
    "# we want to do is called filtering\n",
    "# we want python to take a birthyear and then find every row that matches that year in realse year\n",
    "\n",
    "# lying a lil bit bc 1999 doesn't return anything\n",
    "year = 1998\n",
    "\n",
    "# we need to save this new \"df\" in something \n",
    "# and then what we do, is call the df and with .loc \n",
    "# specify that we want it to check the relased col for years that match our year\n",
    "# .iloc is for filtering based on index, .loc is for filtering based on value (so a column or row name)\n",
    "# google .loc and guide them through the documentation\n",
    "\n",
    "# stolen from the docu: df.loc[df['shield'] > 6, ['max_speed']]\n",
    "\n",
    "# air uncertainty about returning the values from more than just col\n",
    "# so let's instead try just to return one thing\n",
    "birth_songs = df.loc[df['Released'] == year, ['Artist']]\n",
    "birth_songs.head()\n",
    "\n",
    "\n",
    "# now we try multiple things\n",
    "#birth_songs = df.loc[df['Released'] == year, ['Artist'], ['Single']] # doesn't work\n",
    "# birth_songs = df.loc[df['Released'] == year, [['Artist'], ['Single']]] # doesn't work\n",
    "birth_songs = df.loc[df['Released'] == year, ['Artist', 'Single']] # works\n",
    "birth_songs"
   ]
  },
  {
   "cell_type": "code",
   "execution_count": null,
   "id": "ccd215a0",
   "metadata": {},
   "outputs": [],
   "source": [
    "# and now 4 – same thing but for 15 years later \n",
    "# so we can basically just copy our code, bc we did the smart year = [YEAR]\n",
    "\n",
    "year = 2013\n",
    "\n",
    "birth_songs = df.loc[df['Released'] == year, ['Artist', 'Single']]\n",
    "birth_songs\n",
    "\n",
    "# easy peasy "
   ]
  },
  {
   "cell_type": "markdown",
   "id": "eabc0ee7",
   "metadata": {},
   "source": [
    "## Space challenge\n",
    "\n",
    "1. Make a single dataframe that combines the space missions from the 1950's to the 2020's\n",
    "2. Write a script that returns the year with the most launches\n",
    "3. Write a script that returns the most common month for launches\n",
    "4. Write a script that ranks the months from most launches to fewest launches\n"
   ]
  },
  {
   "cell_type": "code",
   "execution_count": null,
   "id": "365c68e5",
   "metadata": {},
   "outputs": [],
   "source": [
    "rawdata = pd.read_html('https://en.wikipedia.org/wiki/Timeline_of_Solar_System_exploration')\n",
    "\n",
    "len(rawdata)"
   ]
  },
  {
   "cell_type": "code",
   "execution_count": null,
   "id": "c45693d0",
   "metadata": {
    "scrolled": true
   },
   "outputs": [],
   "source": [
    "df0 = rawdata[7]\n",
    "\n",
    "df0.head(50)"
   ]
  },
  {
   "cell_type": "code",
   "execution_count": null,
   "id": "c5d651f8",
   "metadata": {},
   "outputs": [],
   "source": [
    "# so we want to get df's 1-8 from the rawdata\n",
    "# we could do something manual like before, but we can also try a loop :o\n",
    "\n",
    "# we create the first one so we can concat to this\n",
    "df = rawdata[1]\n",
    "\n",
    "for i in range(2,9):\n",
    "    # we can check our range is right by doing: \n",
    "    # print(i)\n",
    "    \n",
    "    # copy some code\n",
    "    #df0 = rawdata[0]\n",
    "    \n",
    "    # modify\n",
    "    df_temp = rawdata[i]\n",
    "    \n",
    "    # save to df\n",
    "    df = pd.concat([df, df_temp])\n",
    "    \n",
    "    #break\n",
    "\n",
    "df.shape\n",
    "df.head(50)\n",
    "# index is weird again, so we reset \n",
    "df.reset_index(inplace = True)"
   ]
  },
  {
   "cell_type": "code",
   "execution_count": null,
   "id": "6aa66e93",
   "metadata": {},
   "outputs": [],
   "source": [
    "# realizing now that having a col with month and year will be nice for future exercises\n",
    "# and we can see that the dates are split using whitespace\n",
    "# so let's find out how to split one column into several using a split pattern\n",
    "\n",
    "#https://datascienceparichay.com/article/pandas-split-column-by-delimiter/\n",
    "\n",
    "\n",
    "# df[['Street', 'City', 'State']] = df['Address'].str.split(',', expand=True)\n",
    "\n",
    "df[['day', 'month', 'year']]  = df['Launch date'].str.split(' ', expand = True)\n",
    "\n",
    "df.head()\n"
   ]
  },
  {
   "cell_type": "code",
   "execution_count": null,
   "id": "41883a41",
   "metadata": {},
   "outputs": [],
   "source": [
    "# number twooo and threee\n",
    "\n",
    "# and now we can start actually counting how many launches debuted in each year\n",
    "\n",
    "# ask them what they think we should do\n",
    "\n",
    "# let's google it (pandas count occurences in a column)\n",
    "# let's try a few different ways and seeing the differences \n",
    "\n",
    "value_counts_method = df['year'].value_counts()\n",
    "print(value_counts_method)\n",
    "print(value_counts_method[0])\n",
    "\n",
    "group_by_method = df.groupby('year').count()\n",
    "print(group_by_method)\n",
    "\n",
    "# what's the difference ?\n",
    "# value counts returns the counts for that specific columns and sorts them! \n",
    "# group by counts all columns for each decade and doesn't sort - so info becomes rendundant in this specific case \n",
    "# but might be useful some other time \n",
    "\n",
    "month_values = df['month'].value_counts()\n",
    "\n",
    "print(month_values[0])\n",
    "print(month_values)"
   ]
  },
  {
   "cell_type": "markdown",
   "id": "153096e0",
   "metadata": {},
   "source": [
    "## Supervillain challenge\n",
    "\n",
    "1. Write a script that combines the tables showing supervillain debuts from the 30's through the 2010's\n",
    "2. Write a script that ranks each decade in terms of how many supervillains debuted in that decade\n",
    "3. Write a script that ranks the different comics companies in terms of how many supervillains they have, and display the results in a nice table (pandas dataframe)"
   ]
  },
  {
   "cell_type": "code",
   "execution_count": null,
   "id": "1ec41964",
   "metadata": {},
   "outputs": [],
   "source": [
    "rawdata = pd.read_html(\"https://en.wikipedia.org/wiki/List_of_comic_book_supervillain_debuts\")\n",
    "\n",
    "\n",
    "len(rawdata) # let's do this and count the nr of df's on wiki - there's 9\n",
    "\n",
    "# we first check which ones are the right ones then\n",
    "df = rawdata[3]\n",
    "\n",
    "df[:50]\n",
    "\n",
    "\n",
    "# so we want to get all df's after 3 (so 3-11) from the rawdata\n",
    "# we could do something manual like before, but we can also try a loop :o\n",
    "\n",
    "# we create the first one so we can concat to this\n",
    "df = rawdata[3]\n",
    "\n",
    "for i in range(4,12):\n",
    "    # we can check our range is right by doing: \n",
    "    # print(i)\n",
    "    \n",
    "    # copy some code\n",
    "    #df0 = rawdata[0]\n",
    "    \n",
    "    # modify\n",
    "    df_temp = rawdata[i]\n",
    "    \n",
    "    # save to df\n",
    "    df = pd.concat([df, df_temp])\n",
    "    \n",
    "    #break\n",
    "\n",
    "df.shape\n",
    "df.head(50)\n",
    "# index is weird again, so we reset \n",
    "df.reset_index(inplace = True)\n"
   ]
  },
  {
   "cell_type": "code",
   "execution_count": null,
   "id": "6b6eb05b",
   "metadata": {},
   "outputs": [],
   "source": [
    "# okay so we did number 1, but reading number 2 it turns out having added a column with decade would have been useful\n",
    "\n",
    "# so let's do that by copying and modifying code \n",
    "# ask them how they would do it maybe\n",
    "\n",
    "# we start by a single df again\n",
    "df = rawdata[3]\n",
    "# adding a column for decade \n",
    "df['decade'] = 1930\n",
    "# check it worked\n",
    "df.head()\n",
    "\n"
   ]
  },
  {
   "cell_type": "code",
   "execution_count": null,
   "id": "67c26eed",
   "metadata": {},
   "outputs": [],
   "source": [
    "# then we loop de loop \n",
    "# first thing we want to do is make decade a variable we can update !\n",
    "df = rawdata[3]\n",
    "\n",
    "decade = 1930\n",
    "df['decade'] = decade\n",
    "\n",
    "# and then we just copy our loop and make the right updates\n",
    "\n",
    "for i in range(4,12):\n",
    "    # update decade\n",
    "    decade += 10\n",
    "    # same code but with added col\n",
    "    df_temp = rawdata[i]\n",
    "    df_temp['decade'] = decade\n",
    "    df = pd.concat([df, df_temp])\n",
    "\n",
    "\n",
    "df.reset_index(inplace = True)\n",
    "df.shape\n",
    "df[50:100]"
   ]
  },
  {
   "cell_type": "code",
   "execution_count": null,
   "id": "a55f9fae",
   "metadata": {},
   "outputs": [],
   "source": [
    "# and now we can start actually counting how many superheroes debuted in each decade\n",
    "\n",
    "# ask them what they think we should do\n",
    "\n",
    "# let's google it (pandas count occurences in a column)\n",
    "# let's try a few different ways and seeing the differences \n",
    "\n",
    "value_counts_method = df['decade'].value_counts()\n",
    "print(value_counts_method)\n",
    "\n",
    "group_by_method = df.groupby('decade').count()\n",
    "print(group_by_method)\n",
    "\n",
    "# what's the difference ?\n",
    "# value counts returns the counts for that specific columns and sorts them! \n",
    "# group by counts all columns for each decade and doesn't sort - so info becomes rendundant in this specific case \n",
    "# but might be useful some other time "
   ]
  },
  {
   "cell_type": "code",
   "execution_count": null,
   "id": "e3516c55",
   "metadata": {},
   "outputs": [],
   "source": [
    "# number 3 - ranking comic book companies\n",
    "\n",
    "# what should we do? \n",
    "# (probably just try the code from before but instead of decade use company\n",
    "company_counts = df['Company'].value_counts()\n",
    "type(company_counts) # it's series not a df yet\n",
    "\n",
    "df_company = pd.DataFrame(company_counts)\n",
    "df_company"
   ]
  },
  {
   "cell_type": "markdown",
   "id": "a72c464a",
   "metadata": {},
   "source": [
    "## Stroop challenge\n",
    "\n",
    "Every year between 2015 and 2021, the students in my Language, Cognition, and the Brain course participated in a version of the Stroop task. Using a stopwatch (ok, using their phones), they recorded how fast they could say a list of things (either reading or naming colors or color words). The column names mean \"Reading with No Interference\", \"Naming with Interference\", \"Naming with No Interference\", and \"Reading with Interference\". The times are in seconds.\n",
    "\n",
    "### Stroop challenge 1: \n",
    "Transform these data from wide format to long format, so that the result is a dataframe with\n",
    "- 1 column named \"Participant_id\" with a unique number for each participant (you can use the row indices)\n",
    "- 1 column named \"Year\" with the year data\n",
    "- 1 column named \"Task\" that shows which task they were doing\n",
    "- 1 column named \"RT\" that shows their response time"
   ]
  },
  {
   "cell_type": "code",
   "execution_count": null,
   "id": "6781809e",
   "metadata": {
    "scrolled": true
   },
   "outputs": [],
   "source": [
    "# Starter code 1...\n",
    "\n",
    "df = pd.read_csv(\"https://raw.githubusercontent.com/ethanweed/Stroop/master/Stroop-raw-over-the-years.csv\")\n",
    "df.head(50)"
   ]
  },
  {
   "cell_type": "code",
   "execution_count": null,
   "id": "9e2e3507",
   "metadata": {},
   "outputs": [],
   "source": [
    "# Starter code 2...\n",
    "\n",
    "# Make a new column using the dataframe indices as particpant numbers\n",
    "\n",
    "df.index.name = 'Participant_id'\n",
    "df = df.reset_index()\n",
    "\n",
    "#df.reset_index(inplace = True)\n",
    "# NOTE: This line does exactly the same thing as the line above:\n",
    "# it replaces the original df with a new df with the updated index. That's what\n",
    "# \"inplace = True\" means. Or, you can just assign the dataframe with the updated index\n",
    "# to a new dataframe with the same name as the old dataframe, which is what I did above.\n",
    "# The end result is the same.\n",
    "\n",
    "df"
   ]
  },
  {
   "cell_type": "code",
   "execution_count": null,
   "id": "b4305d60",
   "metadata": {},
   "outputs": [],
   "source": [
    "# okay let's look at ethan's code \n",
    "\n",
    "# df_long = pd.melt(df_transposed, id_vars = 'student')\n",
    "\n",
    "# since we want specific names for the melted columns + two id cols (id and year) let's look at the docu\n",
    "\n",
    "df_long = pd.melt(df, id_vars = ['Participant_id', 'Year'], var_name = 'Task', value_name = 'RT')\n",
    "df_long.head()"
   ]
  },
  {
   "cell_type": "markdown",
   "id": "51655ceb",
   "metadata": {},
   "source": [
    "## Stroop challenge 2 (Advanced!!!):\n",
    "\n",
    "Make a new datafram which shows the mean response time (in seconds) for each task for each year."
   ]
  },
  {
   "cell_type": "code",
   "execution_count": null,
   "id": "77fcb93b",
   "metadata": {},
   "outputs": [],
   "source": [
    "# subsetting the columns we need, grouping by year and task, getting the mean of RT\n",
    "\n",
    "df_agg = df_long.iloc[:,1:].groupby(['Year', 'Task']).agg('mean')\n",
    "\n",
    "df_agg"
   ]
  },
  {
   "cell_type": "code",
   "execution_count": null,
   "id": "277d2064",
   "metadata": {},
   "outputs": [],
   "source": []
  }
 ],
 "metadata": {
  "kernelspec": {
   "display_name": "Python 3 (ipykernel)",
   "language": "python",
   "name": "python3"
  },
  "language_info": {
   "codemirror_mode": {
    "name": "ipython",
    "version": 3
   },
   "file_extension": ".py",
   "mimetype": "text/x-python",
   "name": "python",
   "nbconvert_exporter": "python",
   "pygments_lexer": "ipython3",
   "version": "3.9.1"
  }
 },
 "nbformat": 4,
 "nbformat_minor": 5
}
