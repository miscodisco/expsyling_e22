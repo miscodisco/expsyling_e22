{
 "cells": [
  {
   "cell_type": "markdown",
   "id": "1d219001",
   "metadata": {},
   "source": [
    "A notebook for the instructor in the week where students work on the meal planner exercise - to prepare for likely questions and things :-)"
   ]
  },
  {
   "cell_type": "code",
   "execution_count": 73,
   "id": "5c25c5b4",
   "metadata": {},
   "outputs": [
    {
     "name": "stdout",
     "output_type": "stream",
     "text": [
      "-------- loop without enumerate\n",
      "jesper\n",
      "kasper\n",
      "signe\n",
      "mia\n",
      "-------- loop with enumerate, pedagogical\n",
      "0 jesper\n",
      "1 kasper\n",
      "2 signe\n",
      "3 mia\n",
      "-------- loop with enumerate, less pedagogical\n",
      "0 jesper\n",
      "1 kasper\n",
      "2 signe\n",
      "3 mia\n"
     ]
    }
   ],
   "source": [
    "# difference between for loops with and without enumerate\n",
    "\n",
    "classlist = ['jesper', 'kasper', 'signe', 'mia']\n",
    "\n",
    "print(\"-------- loop without enumerate\")\n",
    "for student in classlist:\n",
    "    print(student)\n",
    "    \n",
    "print(\"-------- loop with enumerate, pedagogical\")\n",
    "for index, student in enumerate(classlist):\n",
    "    print(index, student)\n",
    "    \n",
    "# the same as\n",
    "print(\"-------- loop with enumerate, less pedagogical\")\n",
    "for i,val in enumerate(classlist):\n",
    "    print(i,val)\n"
   ]
  },
  {
   "cell_type": "markdown",
   "id": "f6c94a6c",
   "metadata": {},
   "source": [
    "Challenge 0.1 and 0.2 - with extra code for high achievers that want the literal thing ethan asks for"
   ]
  },
  {
   "cell_type": "code",
   "execution_count": 74,
   "id": "72f900f6",
   "metadata": {},
   "outputs": [
    {
     "name": "stdout",
     "output_type": "stream",
     "text": [
      "Enter a day name. If you are done, write \"done\". mandag\n",
      "Enter a day name. If you are done, write \"done\". tirsdag\n",
      "Enter a day name. If you are done, write \"done\". done\n",
      "What do you want to make for mandag? pizza\n",
      "What do you want to make for tirsdag? risotto\n"
     ]
    },
    {
     "data": {
      "text/plain": [
       "{'mandag': 'pizza', 'tirsdag': 'risotto'}"
      ]
     },
     "execution_count": 74,
     "metadata": {},
     "output_type": "execute_result"
    }
   ],
   "source": [
    "# challenge 0.1\n",
    "\n",
    "days = []\n",
    "temp = \"\"\n",
    "while temp != \"done\":\n",
    "    temp = input(\"Enter a day name. If you are done, write \\\"done\\\". \")\n",
    "    if temp != \"done\":\n",
    "        days.append(temp)\n",
    "\n",
    "meals = []\n",
    "for x, val in enumerate(days):\n",
    "    meal = input(f\"What do you want to make for {val}? \")\n",
    "    meals.append(meal)\n",
    "    \n",
    "mealplan = dict(zip(days, meals))\n",
    "mealplan"
   ]
  },
  {
   "cell_type": "code",
   "execution_count": 75,
   "id": "0fd3949d",
   "metadata": {},
   "outputs": [
    {
     "name": "stdout",
     "output_type": "stream",
     "text": [
      "You have planned meals for ['mandag', 'tirsdag']. which day do you want the meal for? tirsdag\n",
      "on tirsdag you have planned to make risotto\n"
     ]
    }
   ],
   "source": [
    "# challenge 0.2, simple solution\n",
    "\n",
    "temp = input(f\"You have planned meals for {list(mealplan.keys())}. which day do you want the meal for? \")\n",
    "print(f\"on {temp} you have planned to make {mealplan.get(temp)}\")"
   ]
  },
  {
   "cell_type": "code",
   "execution_count": 76,
   "id": "590668ee",
   "metadata": {},
   "outputs": [
    {
     "name": "stdout",
     "output_type": "stream",
     "text": [
      "You have planned meals for mandag, and tirsdag. which day do you want the meal for? tirsdag \n",
      "on tirsdag  you have planned to make None\n"
     ]
    }
   ],
   "source": [
    "# challenge 0.2, for high achievers \n",
    "# https://stackoverflow.com/questions/59956496/f-strings-formatter-including-for-loop-or-if-conditions\n",
    "start_message = \"You have planned meals for\"\n",
    "days = \"\".join(f\" {key},\" for key in list(mealplan.keys())[:-1])\n",
    "end_message = f\" and {list(mealplan.keys())[-1]}\"\n",
    "\n",
    "temp = input(f\"{start_message}{days}{end_message}. which day do you want the meal for? \")\n",
    "print(f\"on {temp} you have planned to make {mealplan.get(temp)}\")"
   ]
  },
  {
   "cell_type": "markdown",
   "id": "3d2d3735",
   "metadata": {},
   "source": [
    "Challenge 1 and onwards"
   ]
  },
  {
   "cell_type": "code",
   "execution_count": 78,
   "id": "259a62c1",
   "metadata": {},
   "outputs": [
    {
     "name": "stdout",
     "output_type": "stream",
     "text": [
      "Write something :-)  laskg SLGKSFLGI slgdkns\n",
      "do you want me to convert your sentence to a different case? YES\n",
      "choose the case you want: lower, upper, or title? upper\n",
      "LASKG SLGKSFLGI SLGDKNS\n"
     ]
    }
   ],
   "source": [
    "# challenge 1, case converter\n",
    "string = input(\"Write something :-)  \")\n",
    "q = input(\"do you want me to convert your sentence to a different case? \")\n",
    "\n",
    "if q == 'yes' or q == 'Yes' or q == \"YES\":\n",
    "    case = input(\"choose the case you want: lower, upper, or title? \")\n",
    "    if case == 'upper':\n",
    "        print(string.upper())\n",
    "    elif case == 'lower':\n",
    "        print(string.lower())\n",
    "    elif case == 'title':\n",
    "        print(string.title())\n",
    "    else:\n",
    "        case = input(\"wrong input, try again: \")\n",
    "        if case == 'upper':\n",
    "            print(string.upper())\n",
    "        elif case == 'lower':\n",
    "            print(string.lower())\n",
    "        elif case == 'title':\n",
    "            print(string.title())\n",
    "        else:\n",
    "            print(\"that was you second chance, you still got it wrong, here's your old string\", string)\n",
    "else: \n",
    "    print(\"alright, goodbye\")"
   ]
  },
  {
   "cell_type": "code",
   "execution_count": 79,
   "id": "c3a0c7cb",
   "metadata": {},
   "outputs": [
    {
     "name": "stdout",
     "output_type": "stream",
     "text": [
      "Write something :-)  sfkfjs sjsjb\n",
      "do you want me to convert your sentence to a different case? yes\n",
      "choose the case you want: lower, upper, or title title\n",
      "Sfkfjs Sjsjb\n"
     ]
    }
   ],
   "source": [
    "# challenge 1, for students interested in functions\n",
    "\n",
    "def case_converter(string, case):\n",
    "    if case == 'upper':\n",
    "        print(string.upper())\n",
    "    elif case == 'lower':\n",
    "        print(string.lower())\n",
    "    elif case == 'title':\n",
    "        print(string.title())\n",
    "    else:\n",
    "        print(\"wrong input, try again \")\n",
    "        \n",
    "        \n",
    "string = input(\"Write something :-)  \")\n",
    "q = input(\"do you want me to convert your sentence to a different case? \")\n",
    "\n",
    "if q == 'yes' or q == 'Yes':\n",
    "    case = input(\"choose the case you want: lower, upper, or title \")\n",
    "    \n",
    "    case_converter(string, case)\n",
    "    \n",
    "else:\n",
    "    print(\"alright, goodbye\")"
   ]
  },
  {
   "cell_type": "code",
   "execution_count": 80,
   "id": "f0f8e6a0",
   "metadata": {},
   "outputs": [],
   "source": [
    "# challenge 2, a chatbot\n",
    "# seems pretty simple, maybe just intro them to f strings, because they have some code from ethan i think "
   ]
  },
  {
   "cell_type": "code",
   "execution_count": 102,
   "id": "d629e125",
   "metadata": {},
   "outputs": [],
   "source": [
    "# challenge 3, better meal planner, I focus on using dataframes \n",
    "import pandas as pd\n",
    "\n",
    "# making the lists we need\n",
    "\n",
    "\n",
    "# creating a function because I die\n",
    "def mealplanner(name):\n",
    "    days = input(f\"Hi {name}! Write the days you want to plan for: \")\n",
    "    days = days.split(', ')\n",
    "    meals = []\n",
    "    ingredients_ls = []\n",
    "\n",
    "    for i in days:\n",
    "        meal = input(f\"What meal do you want to make for {i}? \")\n",
    "        meals.append(meal)\n",
    "        ingredients = input(f\"What ingredients you need to make {meal}? \")\n",
    "        ingredients_ls.append(ingredients)\n",
    "    mealplan = pd.DataFrame({'days': days, 'meals':meals, 'ingredients': ingredients_ls})\n",
    "\n",
    "    return mealplan"
   ]
  },
  {
   "cell_type": "code",
   "execution_count": 103,
   "id": "0845cefb",
   "metadata": {},
   "outputs": [
    {
     "name": "stdout",
     "output_type": "stream",
     "text": [
      "Hi Mia! Write the days you want to plan for: monday, tuesday, wednesday\n",
      "What meal do you want to make for monday? pizza\n",
      "What ingredients you need to make pizza? dough, tomatoes, cheese\n",
      "What meal do you want to make for tuesday? risotto\n",
      "What ingredients you need to make risotto? rice, parmesan, mushrooms\n",
      "What meal do you want to make for wednesday? lasagne\n",
      "What ingredients you need to make lasagne? pasta, cheese, tomatoes\n"
     ]
    }
   ],
   "source": [
    "df = mealplanner('Mia')\n"
   ]
  },
  {
   "cell_type": "code",
   "execution_count": 129,
   "id": "5c562824",
   "metadata": {},
   "outputs": [
    {
     "name": "stdout",
     "output_type": "stream",
     "text": [
      "what do you want? a meal, ingredients or a day? meal\n",
      "which day do you want the meal for, ['monday', 'tuesday', 'wednesday']? wednesday\n",
      "for wednesday you have planned lasagne\n"
     ]
    }
   ],
   "source": [
    "q = input('what do you want? a meal, ingredients or a day? ')\n",
    "\n",
    "if q == 'meal':\n",
    "    temp_day = input(f'which day do you want the meal for, {list(df[\"days\"])}? ')\n",
    "    output = df.loc[df['days'] == temp_day, 'meals']\n",
    "    print(f\"for {temp_day} you have planned {list(output)[0]}\")"
   ]
  },
  {
   "cell_type": "code",
   "execution_count": 123,
   "id": "0fe41ea9",
   "metadata": {},
   "outputs": [
    {
     "data": {
      "text/plain": [
       "'lasagne'"
      ]
     },
     "execution_count": 123,
     "metadata": {},
     "output_type": "execute_result"
    }
   ],
   "source": [
    "output = \n",
    "output"
   ]
  },
  {
   "cell_type": "code",
   "execution_count": null,
   "id": "79c0f302",
   "metadata": {},
   "outputs": [],
   "source": []
  }
 ],
 "metadata": {
  "kernelspec": {
   "display_name": "Python 3 (ipykernel)",
   "language": "python",
   "name": "python3"
  },
  "language_info": {
   "codemirror_mode": {
    "name": "ipython",
    "version": 3
   },
   "file_extension": ".py",
   "mimetype": "text/x-python",
   "name": "python",
   "nbconvert_exporter": "python",
   "pygments_lexer": "ipython3",
   "version": "3.9.1"
  }
 },
 "nbformat": 4,
 "nbformat_minor": 5
}
